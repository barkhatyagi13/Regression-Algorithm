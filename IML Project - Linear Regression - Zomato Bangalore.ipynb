{
 "cells": [
  {
   "cell_type": "markdown",
   "id": "93a014a7",
   "metadata": {},
   "source": [
    "# Objectives of EDA"
   ]
  },
  {
   "cell_type": "markdown",
   "id": "f039d52d",
   "metadata": {},
   "source": [
    "To help new restaurants in deciding their theme, menus, cuisine, cost etc for a particular location. It also aims at finding similarity between neighborhoods of Bangalore on the basis of food. This dataset also contains reviews for each of the restaurant which will help in finding overall rating for the place."
   ]
  },
  {
   "cell_type": "markdown",
   "id": "ad253443",
   "metadata": {},
   "source": [
    "# Data Definition"
   ]
  },
  {
   "cell_type": "markdown",
   "id": "0e86a70e",
   "metadata": {
    "id": "9sSmSGoWn99P"
   },
   "source": [
    "**url:** Contains the url of the restaurant in the zomato website\n",
    "\n",
    "**address:** Contains the address of the restaurant in Bangalore\n",
    "\n",
    "**name:** Contains the name of the restaurant\n",
    "\n",
    "**online_order**: Whether online ordering is available in the restaurant or not\n",
    "\n",
    "**book_table:** Table booking option available or not\n",
    "\n",
    "**rate:** Contains the overall rating of the restaurant out of 5\n",
    "\n",
    "**votes:** Contains total number of rating for the restaurant as of the above mentioned date\n",
    "\n",
    "**phone:** Contains the phone number of the restaurant\n",
    "\n",
    "**location:** Contains the neighborhood in which the restaurant is located\n",
    "\n",
    "**rest_type:** Restaurant type\n",
    "\n",
    "**dish_liked:** Dishes people liked in the restaurant\n",
    "\n",
    "**cuisines:** Food styles, separated by comma\n",
    "\n",
    "**approx_cost(for two people):** Contains the approximate cost for meal for two people\n",
    "\n",
    "**reviews_list:** List of tuples containing reviews for the restaurant, each tuple consists of two values, rating and review by the customer\n",
    "\n",
    "**menu_item:** Contains list of menus available in the restaurant\n",
    "\n",
    "**listed_in(type):** Type of service"
   ]
  },
  {
   "cell_type": "markdown",
   "id": "de639a62",
   "metadata": {},
   "source": [
    "<a id='import_lib'></a>\n",
    "# 1. Importing Important Libraries"
   ]
  },
  {
   "cell_type": "code",
   "execution_count": 190,
   "id": "2eb45c63",
   "metadata": {},
   "outputs": [],
   "source": [
    "# supress warnings \n",
    "from warnings import filterwarnings\n",
    "filterwarnings('ignore')\n",
    "\n",
    "import pandas as pd\n",
    "import numpy as np\n",
    "import matplotlib.pyplot as plt\n",
    "import seaborn as sns\n",
    "from scipy.stats import chi2_contingency\n",
    "\n",
    "from sklearn.preprocessing import LabelEncoder\n",
    "from sklearn.model_selection import train_test_split\n",
    "from sklearn.linear_model import LinearRegression\n",
    "from sklearn.metrics import mean_absolute_error, mean_absolute_percentage_error\n",
    "from sklearn.tree import DecisionTreeRegressor\n",
    "from sklearn.preprocessing import StandardScaler\n",
    "from sklearn.neighbors import KNeighborsRegressor"
   ]
  },
  {
   "cell_type": "markdown",
   "id": "e4ee140c",
   "metadata": {},
   "source": [
    "These are the libraries which I am using for EDA and Visualization:-\n",
    "\n",
    "**Pandas:** A software library written for the Python programming language for data manipulation and analysis.\n",
    "\n",
    "**Numpy:** A library for the Python programming language, adding support for large, multi-dimensional arrays and matrices, along with a large collection of high-level mathematical functions to operate on these arrays.\n",
    "\n",
    "**Matplotlib:** A plotting library for the Python programming language and its numerical mathematics extension NumPy.\n",
    "\n",
    "**Seaborn:** A Python data visualization library based on matplotlib. It provides a high-level interface for drawing attractive and informative statistical graphics.\n",
    "\n",
    "**Scikit-learn (sklearn):** Emphasizes various regression, classification and clustering algorithms"
   ]
  },
  {
   "cell_type": "markdown",
   "id": "41805f4b",
   "metadata": {},
   "source": [
    "<a id='load_data'></a>\n",
    "# 2. Loading Dataset"
   ]
  },
  {
   "cell_type": "code",
   "execution_count": 191,
   "id": "258038a6",
   "metadata": {},
   "outputs": [],
   "source": [
    "# Loading dataset\n",
    "\n",
    "df = pd.read_csv(\"zomato (Bangalore).csv\")"
   ]
  },
  {
   "cell_type": "code",
   "execution_count": 192,
   "id": "4f47f98d",
   "metadata": {},
   "outputs": [
    {
     "data": {
      "text/html": [
       "<div>\n",
       "<style scoped>\n",
       "    .dataframe tbody tr th:only-of-type {\n",
       "        vertical-align: middle;\n",
       "    }\n",
       "\n",
       "    .dataframe tbody tr th {\n",
       "        vertical-align: top;\n",
       "    }\n",
       "\n",
       "    .dataframe thead th {\n",
       "        text-align: right;\n",
       "    }\n",
       "</style>\n",
       "<table border=\"1\" class=\"dataframe\">\n",
       "  <thead>\n",
       "    <tr style=\"text-align: right;\">\n",
       "      <th></th>\n",
       "      <th>url</th>\n",
       "      <th>address</th>\n",
       "      <th>name</th>\n",
       "      <th>online_order</th>\n",
       "      <th>book_table</th>\n",
       "      <th>rate</th>\n",
       "      <th>votes</th>\n",
       "      <th>phone</th>\n",
       "      <th>location</th>\n",
       "      <th>rest_type</th>\n",
       "      <th>dish_liked</th>\n",
       "      <th>cuisines</th>\n",
       "      <th>approx_cost(for two people)</th>\n",
       "      <th>reviews_list</th>\n",
       "      <th>menu_item</th>\n",
       "      <th>listed_in(type)</th>\n",
       "      <th>listed_in(city)</th>\n",
       "    </tr>\n",
       "  </thead>\n",
       "  <tbody>\n",
       "    <tr>\n",
       "      <th>0</th>\n",
       "      <td>https://www.zomato.com/bangalore/jalsa-banasha...</td>\n",
       "      <td>942, 21st Main Road, 2nd Stage, Banashankari, ...</td>\n",
       "      <td>Jalsa</td>\n",
       "      <td>Yes</td>\n",
       "      <td>Yes</td>\n",
       "      <td>4.1/5</td>\n",
       "      <td>775</td>\n",
       "      <td>080 42297555\\r\\n+91 9743772233</td>\n",
       "      <td>Banashankari</td>\n",
       "      <td>Casual Dining</td>\n",
       "      <td>Pasta, Lunch Buffet, Masala Papad, Paneer Laja...</td>\n",
       "      <td>North Indian, Mughlai, Chinese</td>\n",
       "      <td>800</td>\n",
       "      <td>[('Rated 4.0', 'RATED\\n  A beautiful place to ...</td>\n",
       "      <td>[]</td>\n",
       "      <td>Buffet</td>\n",
       "      <td>Banashankari</td>\n",
       "    </tr>\n",
       "    <tr>\n",
       "      <th>1</th>\n",
       "      <td>https://www.zomato.com/bangalore/spice-elephan...</td>\n",
       "      <td>2nd Floor, 80 Feet Road, Near Big Bazaar, 6th ...</td>\n",
       "      <td>Spice Elephant</td>\n",
       "      <td>Yes</td>\n",
       "      <td>No</td>\n",
       "      <td>4.1/5</td>\n",
       "      <td>787</td>\n",
       "      <td>080 41714161</td>\n",
       "      <td>Banashankari</td>\n",
       "      <td>Casual Dining</td>\n",
       "      <td>Momos, Lunch Buffet, Chocolate Nirvana, Thai G...</td>\n",
       "      <td>Chinese, North Indian, Thai</td>\n",
       "      <td>800</td>\n",
       "      <td>[('Rated 4.0', 'RATED\\n  Had been here for din...</td>\n",
       "      <td>[]</td>\n",
       "      <td>Buffet</td>\n",
       "      <td>Banashankari</td>\n",
       "    </tr>\n",
       "    <tr>\n",
       "      <th>2</th>\n",
       "      <td>https://www.zomato.com/SanchurroBangalore?cont...</td>\n",
       "      <td>1112, Next to KIMS Medical College, 17th Cross...</td>\n",
       "      <td>San Churro Cafe</td>\n",
       "      <td>Yes</td>\n",
       "      <td>No</td>\n",
       "      <td>3.8/5</td>\n",
       "      <td>918</td>\n",
       "      <td>+91 9663487993</td>\n",
       "      <td>Banashankari</td>\n",
       "      <td>Cafe, Casual Dining</td>\n",
       "      <td>Churros, Cannelloni, Minestrone Soup, Hot Choc...</td>\n",
       "      <td>Cafe, Mexican, Italian</td>\n",
       "      <td>800</td>\n",
       "      <td>[('Rated 3.0', \"RATED\\n  Ambience is not that ...</td>\n",
       "      <td>[]</td>\n",
       "      <td>Buffet</td>\n",
       "      <td>Banashankari</td>\n",
       "    </tr>\n",
       "    <tr>\n",
       "      <th>3</th>\n",
       "      <td>https://www.zomato.com/bangalore/addhuri-udupi...</td>\n",
       "      <td>1st Floor, Annakuteera, 3rd Stage, Banashankar...</td>\n",
       "      <td>Addhuri Udupi Bhojana</td>\n",
       "      <td>No</td>\n",
       "      <td>No</td>\n",
       "      <td>3.7/5</td>\n",
       "      <td>88</td>\n",
       "      <td>+91 9620009302</td>\n",
       "      <td>Banashankari</td>\n",
       "      <td>Quick Bites</td>\n",
       "      <td>Masala Dosa</td>\n",
       "      <td>South Indian, North Indian</td>\n",
       "      <td>300</td>\n",
       "      <td>[('Rated 4.0', \"RATED\\n  Great food and proper...</td>\n",
       "      <td>[]</td>\n",
       "      <td>Buffet</td>\n",
       "      <td>Banashankari</td>\n",
       "    </tr>\n",
       "    <tr>\n",
       "      <th>4</th>\n",
       "      <td>https://www.zomato.com/bangalore/grand-village...</td>\n",
       "      <td>10, 3rd Floor, Lakshmi Associates, Gandhi Baza...</td>\n",
       "      <td>Grand Village</td>\n",
       "      <td>No</td>\n",
       "      <td>No</td>\n",
       "      <td>3.8/5</td>\n",
       "      <td>166</td>\n",
       "      <td>+91 8026612447\\r\\n+91 9901210005</td>\n",
       "      <td>Basavanagudi</td>\n",
       "      <td>Casual Dining</td>\n",
       "      <td>Panipuri, Gol Gappe</td>\n",
       "      <td>North Indian, Rajasthani</td>\n",
       "      <td>600</td>\n",
       "      <td>[('Rated 4.0', 'RATED\\n  Very good restaurant ...</td>\n",
       "      <td>[]</td>\n",
       "      <td>Buffet</td>\n",
       "      <td>Banashankari</td>\n",
       "    </tr>\n",
       "  </tbody>\n",
       "</table>\n",
       "</div>"
      ],
      "text/plain": [
       "                                                 url  \\\n",
       "0  https://www.zomato.com/bangalore/jalsa-banasha...   \n",
       "1  https://www.zomato.com/bangalore/spice-elephan...   \n",
       "2  https://www.zomato.com/SanchurroBangalore?cont...   \n",
       "3  https://www.zomato.com/bangalore/addhuri-udupi...   \n",
       "4  https://www.zomato.com/bangalore/grand-village...   \n",
       "\n",
       "                                             address                   name  \\\n",
       "0  942, 21st Main Road, 2nd Stage, Banashankari, ...                  Jalsa   \n",
       "1  2nd Floor, 80 Feet Road, Near Big Bazaar, 6th ...         Spice Elephant   \n",
       "2  1112, Next to KIMS Medical College, 17th Cross...        San Churro Cafe   \n",
       "3  1st Floor, Annakuteera, 3rd Stage, Banashankar...  Addhuri Udupi Bhojana   \n",
       "4  10, 3rd Floor, Lakshmi Associates, Gandhi Baza...          Grand Village   \n",
       "\n",
       "  online_order book_table   rate  votes                             phone  \\\n",
       "0          Yes        Yes  4.1/5    775    080 42297555\\r\\n+91 9743772233   \n",
       "1          Yes         No  4.1/5    787                      080 41714161   \n",
       "2          Yes         No  3.8/5    918                    +91 9663487993   \n",
       "3           No         No  3.7/5     88                    +91 9620009302   \n",
       "4           No         No  3.8/5    166  +91 8026612447\\r\\n+91 9901210005   \n",
       "\n",
       "       location            rest_type  \\\n",
       "0  Banashankari        Casual Dining   \n",
       "1  Banashankari        Casual Dining   \n",
       "2  Banashankari  Cafe, Casual Dining   \n",
       "3  Banashankari          Quick Bites   \n",
       "4  Basavanagudi        Casual Dining   \n",
       "\n",
       "                                          dish_liked  \\\n",
       "0  Pasta, Lunch Buffet, Masala Papad, Paneer Laja...   \n",
       "1  Momos, Lunch Buffet, Chocolate Nirvana, Thai G...   \n",
       "2  Churros, Cannelloni, Minestrone Soup, Hot Choc...   \n",
       "3                                        Masala Dosa   \n",
       "4                                Panipuri, Gol Gappe   \n",
       "\n",
       "                         cuisines approx_cost(for two people)  \\\n",
       "0  North Indian, Mughlai, Chinese                         800   \n",
       "1     Chinese, North Indian, Thai                         800   \n",
       "2          Cafe, Mexican, Italian                         800   \n",
       "3      South Indian, North Indian                         300   \n",
       "4        North Indian, Rajasthani                         600   \n",
       "\n",
       "                                        reviews_list menu_item  \\\n",
       "0  [('Rated 4.0', 'RATED\\n  A beautiful place to ...        []   \n",
       "1  [('Rated 4.0', 'RATED\\n  Had been here for din...        []   \n",
       "2  [('Rated 3.0', \"RATED\\n  Ambience is not that ...        []   \n",
       "3  [('Rated 4.0', \"RATED\\n  Great food and proper...        []   \n",
       "4  [('Rated 4.0', 'RATED\\n  Very good restaurant ...        []   \n",
       "\n",
       "  listed_in(type) listed_in(city)  \n",
       "0          Buffet    Banashankari  \n",
       "1          Buffet    Banashankari  \n",
       "2          Buffet    Banashankari  \n",
       "3          Buffet    Banashankari  \n",
       "4          Buffet    Banashankari  "
      ]
     },
     "execution_count": 192,
     "metadata": {},
     "output_type": "execute_result"
    }
   ],
   "source": [
    "# Displaying the first 5 rows rows in the dataset\n",
    "\n",
    "df.head()"
   ]
  },
  {
   "cell_type": "code",
   "execution_count": 193,
   "id": "7c30c0b0",
   "metadata": {},
   "outputs": [
    {
     "data": {
      "text/plain": [
       "(51717, 17)"
      ]
     },
     "execution_count": 193,
     "metadata": {},
     "output_type": "execute_result"
    }
   ],
   "source": [
    "df.shape"
   ]
  },
  {
   "cell_type": "markdown",
   "id": "8dcfc9e9",
   "metadata": {},
   "source": [
    "**Observation:**\n",
    "\n",
    "We can see that there are 51717 rows and 17 columns."
   ]
  },
  {
   "cell_type": "code",
   "execution_count": 194,
   "id": "005960a3",
   "metadata": {},
   "outputs": [
    {
     "data": {
      "text/plain": [
       "Index(['url', 'address', 'name', 'online_order', 'book_table', 'rate', 'votes',\n",
       "       'phone', 'location', 'rest_type', 'dish_liked', 'cuisines',\n",
       "       'approx_cost(for two people)', 'reviews_list', 'menu_item',\n",
       "       'listed_in(type)', 'listed_in(city)'],\n",
       "      dtype='object')"
      ]
     },
     "execution_count": 194,
     "metadata": {},
     "output_type": "execute_result"
    }
   ],
   "source": [
    "# Displays the names of the columns in a dataset\n",
    "\n",
    "df.columns"
   ]
  },
  {
   "cell_type": "code",
   "execution_count": 195,
   "id": "3cebd564",
   "metadata": {},
   "outputs": [
    {
     "name": "stdout",
     "output_type": "stream",
     "text": [
      "<class 'pandas.core.frame.DataFrame'>\n",
      "RangeIndex: 51717 entries, 0 to 51716\n",
      "Data columns (total 17 columns):\n",
      " #   Column                       Non-Null Count  Dtype \n",
      "---  ------                       --------------  ----- \n",
      " 0   url                          51717 non-null  object\n",
      " 1   address                      51717 non-null  object\n",
      " 2   name                         51717 non-null  object\n",
      " 3   online_order                 51717 non-null  object\n",
      " 4   book_table                   51717 non-null  object\n",
      " 5   rate                         43942 non-null  object\n",
      " 6   votes                        51717 non-null  int64 \n",
      " 7   phone                        50509 non-null  object\n",
      " 8   location                     51696 non-null  object\n",
      " 9   rest_type                    51490 non-null  object\n",
      " 10  dish_liked                   23639 non-null  object\n",
      " 11  cuisines                     51672 non-null  object\n",
      " 12  approx_cost(for two people)  51371 non-null  object\n",
      " 13  reviews_list                 51717 non-null  object\n",
      " 14  menu_item                    51717 non-null  object\n",
      " 15  listed_in(type)              51717 non-null  object\n",
      " 16  listed_in(city)              51717 non-null  object\n",
      "dtypes: int64(1), object(16)\n",
      "memory usage: 6.7+ MB\n"
     ]
    }
   ],
   "source": [
    "# Displays information of the data\n",
    "\n",
    "df.info()"
   ]
  },
  {
   "cell_type": "markdown",
   "id": "482f0d01",
   "metadata": {},
   "source": [
    "**Observation:**\n",
    "\n",
    "Here we can see only one feature which has **int** datatype and remaining all features have **object** as their datatype.\n",
    "\n",
    "We can also see that there are few features with some null values like **'rate', 'phone', 'location', 'rest_type', 'dish_liked', 'cuisines'** and **'approx_cost(for two people)'**"
   ]
  },
  {
   "cell_type": "code",
   "execution_count": 196,
   "id": "5b3ddec6",
   "metadata": {
    "scrolled": true
   },
   "outputs": [
    {
     "data": {
      "text/plain": [
       "url                                0\n",
       "address                            0\n",
       "name                               0\n",
       "online_order                       0\n",
       "book_table                         0\n",
       "rate                            7775\n",
       "votes                              0\n",
       "phone                           1208\n",
       "location                          21\n",
       "rest_type                        227\n",
       "dish_liked                     28078\n",
       "cuisines                          45\n",
       "approx_cost(for two people)      346\n",
       "reviews_list                       0\n",
       "menu_item                          0\n",
       "listed_in(type)                    0\n",
       "listed_in(city)                    0\n",
       "dtype: int64"
      ]
     },
     "execution_count": 196,
     "metadata": {},
     "output_type": "execute_result"
    }
   ],
   "source": [
    "# Displays the count of null values in a dataset\n",
    "\n",
    "df.isna().sum()"
   ]
  },
  {
   "cell_type": "code",
   "execution_count": 197,
   "id": "9c6d6fe8",
   "metadata": {},
   "outputs": [
    {
     "data": {
      "text/plain": [
       "<AxesSubplot:>"
      ]
     },
     "execution_count": 197,
     "metadata": {},
     "output_type": "execute_result"
    },
    {
     "data": {
      "image/png": "[encoded data removed]",
      "text/plain": [
       "<Figure size 500x500 with 1 Axes>"
      ]
     },
     "metadata": {},
     "output_type": "display_data"
    }
   ],
   "source": [
    "# Plotting missing data\n",
    "\n",
    "sns.heatmap(df.isnull(), yticklabels = False, cbar = False, cmap = 'mako')"
   ]
  },
  {
   "cell_type": "markdown",
   "id": "2155918b",
   "metadata": {},
   "source": [
    "<a id='rename'></a>\n",
    "# 5.3 Renaming columns"
   ]
  },
  {
   "cell_type": "code",
   "execution_count": 198,
   "id": "b77f06e5",
   "metadata": {},
   "outputs": [
    {
     "data": {
      "text/html": [
       "<div>\n",
       "<style scoped>\n",
       "    .dataframe tbody tr th:only-of-type {\n",
       "        vertical-align: middle;\n",
       "    }\n",
       "\n",
       "    .dataframe tbody tr th {\n",
       "        vertical-align: top;\n",
       "    }\n",
       "\n",
       "    .dataframe thead th {\n",
       "        text-align: right;\n",
       "    }\n",
       "</style>\n",
       "<table border=\"1\" class=\"dataframe\">\n",
       "  <thead>\n",
       "    <tr style=\"text-align: right;\">\n",
       "      <th></th>\n",
       "      <th>url</th>\n",
       "      <th>address</th>\n",
       "      <th>name</th>\n",
       "      <th>online_order</th>\n",
       "      <th>book_table</th>\n",
       "      <th>rate</th>\n",
       "      <th>votes</th>\n",
       "      <th>phone</th>\n",
       "      <th>location</th>\n",
       "      <th>rest_type</th>\n",
       "      <th>dish_liked</th>\n",
       "      <th>cuisines</th>\n",
       "      <th>Cost_for_two</th>\n",
       "      <th>reviews_list</th>\n",
       "      <th>menu_item</th>\n",
       "      <th>Type_of_service</th>\n",
       "      <th>City</th>\n",
       "    </tr>\n",
       "  </thead>\n",
       "  <tbody>\n",
       "    <tr>\n",
       "      <th>0</th>\n",
       "      <td>https://www.zomato.com/bangalore/jalsa-banasha...</td>\n",
       "      <td>942, 21st Main Road, 2nd Stage, Banashankari, ...</td>\n",
       "      <td>Jalsa</td>\n",
       "      <td>Yes</td>\n",
       "      <td>Yes</td>\n",
       "      <td>4.1/5</td>\n",
       "      <td>775</td>\n",
       "      <td>080 42297555\\r\\n+91 9743772233</td>\n",
       "      <td>Banashankari</td>\n",
       "      <td>Casual Dining</td>\n",
       "      <td>Pasta, Lunch Buffet, Masala Papad, Paneer Laja...</td>\n",
       "      <td>North Indian, Mughlai, Chinese</td>\n",
       "      <td>800</td>\n",
       "      <td>[('Rated 4.0', 'RATED\\n  A beautiful place to ...</td>\n",
       "      <td>[]</td>\n",
       "      <td>Buffet</td>\n",
       "      <td>Banashankari</td>\n",
       "    </tr>\n",
       "    <tr>\n",
       "      <th>1</th>\n",
       "      <td>https://www.zomato.com/bangalore/spice-elephan...</td>\n",
       "      <td>2nd Floor, 80 Feet Road, Near Big Bazaar, 6th ...</td>\n",
       "      <td>Spice Elephant</td>\n",
       "      <td>Yes</td>\n",
       "      <td>No</td>\n",
       "      <td>4.1/5</td>\n",
       "      <td>787</td>\n",
       "      <td>080 41714161</td>\n",
       "      <td>Banashankari</td>\n",
       "      <td>Casual Dining</td>\n",
       "      <td>Momos, Lunch Buffet, Chocolate Nirvana, Thai G...</td>\n",
       "      <td>Chinese, North Indian, Thai</td>\n",
       "      <td>800</td>\n",
       "      <td>[('Rated 4.0', 'RATED\\n  Had been here for din...</td>\n",
       "      <td>[]</td>\n",
       "      <td>Buffet</td>\n",
       "      <td>Banashankari</td>\n",
       "    </tr>\n",
       "    <tr>\n",
       "      <th>2</th>\n",
       "      <td>https://www.zomato.com/SanchurroBangalore?cont...</td>\n",
       "      <td>1112, Next to KIMS Medical College, 17th Cross...</td>\n",
       "      <td>San Churro Cafe</td>\n",
       "      <td>Yes</td>\n",
       "      <td>No</td>\n",
       "      <td>3.8/5</td>\n",
       "      <td>918</td>\n",
       "      <td>+91 9663487993</td>\n",
       "      <td>Banashankari</td>\n",
       "      <td>Cafe, Casual Dining</td>\n",
       "      <td>Churros, Cannelloni, Minestrone Soup, Hot Choc...</td>\n",
       "      <td>Cafe, Mexican, Italian</td>\n",
       "      <td>800</td>\n",
       "      <td>[('Rated 3.0', \"RATED\\n  Ambience is not that ...</td>\n",
       "      <td>[]</td>\n",
       "      <td>Buffet</td>\n",
       "      <td>Banashankari</td>\n",
       "    </tr>\n",
       "    <tr>\n",
       "      <th>3</th>\n",
       "      <td>https://www.zomato.com/bangalore/addhuri-udupi...</td>\n",
       "      <td>1st Floor, Annakuteera, 3rd Stage, Banashankar...</td>\n",
       "      <td>Addhuri Udupi Bhojana</td>\n",
       "      <td>No</td>\n",
       "      <td>No</td>\n",
       "      <td>3.7/5</td>\n",
       "      <td>88</td>\n",
       "      <td>+91 9620009302</td>\n",
       "      <td>Banashankari</td>\n",
       "      <td>Quick Bites</td>\n",
       "      <td>Masala Dosa</td>\n",
       "      <td>South Indian, North Indian</td>\n",
       "      <td>300</td>\n",
       "      <td>[('Rated 4.0', \"RATED\\n  Great food and proper...</td>\n",
       "      <td>[]</td>\n",
       "      <td>Buffet</td>\n",
       "      <td>Banashankari</td>\n",
       "    </tr>\n",
       "    <tr>\n",
       "      <th>4</th>\n",
       "      <td>https://www.zomato.com/bangalore/grand-village...</td>\n",
       "      <td>10, 3rd Floor, Lakshmi Associates, Gandhi Baza...</td>\n",
       "      <td>Grand Village</td>\n",
       "      <td>No</td>\n",
       "      <td>No</td>\n",
       "      <td>3.8/5</td>\n",
       "      <td>166</td>\n",
       "      <td>+91 8026612447\\r\\n+91 9901210005</td>\n",
       "      <td>Basavanagudi</td>\n",
       "      <td>Casual Dining</td>\n",
       "      <td>Panipuri, Gol Gappe</td>\n",
       "      <td>North Indian, Rajasthani</td>\n",
       "      <td>600</td>\n",
       "      <td>[('Rated 4.0', 'RATED\\n  Very good restaurant ...</td>\n",
       "      <td>[]</td>\n",
       "      <td>Buffet</td>\n",
       "      <td>Banashankari</td>\n",
       "    </tr>\n",
       "  </tbody>\n",
       "</table>\n",
       "</div>"
      ],
      "text/plain": [
       "                                                 url  \\\n",
       "0  https://www.zomato.com/bangalore/jalsa-banasha...   \n",
       "1  https://www.zomato.com/bangalore/spice-elephan...   \n",
       "2  https://www.zomato.com/SanchurroBangalore?cont...   \n",
       "3  https://www.zomato.com/bangalore/addhuri-udupi...   \n",
       "4  https://www.zomato.com/bangalore/grand-village...   \n",
       "\n",
       "                                             address                   name  \\\n",
       "0  942, 21st Main Road, 2nd Stage, Banashankari, ...                  Jalsa   \n",
       "1  2nd Floor, 80 Feet Road, Near Big Bazaar, 6th ...         Spice Elephant   \n",
       "2  1112, Next to KIMS Medical College, 17th Cross...        San Churro Cafe   \n",
       "3  1st Floor, Annakuteera, 3rd Stage, Banashankar...  Addhuri Udupi Bhojana   \n",
       "4  10, 3rd Floor, Lakshmi Associates, Gandhi Baza...          Grand Village   \n",
       "\n",
       "  online_order book_table   rate  votes                             phone  \\\n",
       "0          Yes        Yes  4.1/5    775    080 42297555\\r\\n+91 9743772233   \n",
       "1          Yes         No  4.1/5    787                      080 41714161   \n",
       "2          Yes         No  3.8/5    918                    +91 9663487993   \n",
       "3           No         No  3.7/5     88                    +91 9620009302   \n",
       "4           No         No  3.8/5    166  +91 8026612447\\r\\n+91 9901210005   \n",
       "\n",
       "       location            rest_type  \\\n",
       "0  Banashankari        Casual Dining   \n",
       "1  Banashankari        Casual Dining   \n",
       "2  Banashankari  Cafe, Casual Dining   \n",
       "3  Banashankari          Quick Bites   \n",
       "4  Basavanagudi        Casual Dining   \n",
       "\n",
       "                                          dish_liked  \\\n",
       "0  Pasta, Lunch Buffet, Masala Papad, Paneer Laja...   \n",
       "1  Momos, Lunch Buffet, Chocolate Nirvana, Thai G...   \n",
       "2  Churros, Cannelloni, Minestrone Soup, Hot Choc...   \n",
       "3                                        Masala Dosa   \n",
       "4                                Panipuri, Gol Gappe   \n",
       "\n",
       "                         cuisines Cost_for_two  \\\n",
       "0  North Indian, Mughlai, Chinese          800   \n",
       "1     Chinese, North Indian, Thai          800   \n",
       "2          Cafe, Mexican, Italian          800   \n",
       "3      South Indian, North Indian          300   \n",
       "4        North Indian, Rajasthani          600   \n",
       "\n",
       "                                        reviews_list menu_item  \\\n",
       "0  [('Rated 4.0', 'RATED\\n  A beautiful place to ...        []   \n",
       "1  [('Rated 4.0', 'RATED\\n  Had been here for din...        []   \n",
       "2  [('Rated 3.0', \"RATED\\n  Ambience is not that ...        []   \n",
       "3  [('Rated 4.0', \"RATED\\n  Great food and proper...        []   \n",
       "4  [('Rated 4.0', 'RATED\\n  Very good restaurant ...        []   \n",
       "\n",
       "  Type_of_service          City  \n",
       "0          Buffet  Banashankari  \n",
       "1          Buffet  Banashankari  \n",
       "2          Buffet  Banashankari  \n",
       "3          Buffet  Banashankari  \n",
       "4          Buffet  Banashankari  "
      ]
     },
     "execution_count": 198,
     "metadata": {},
     "output_type": "execute_result"
    }
   ],
   "source": [
    "df = df.rename(columns = {'approx_cost(for two people)':'Cost_for_two','listed_in(type)':'Type_of_service', 'listed_in(city)': 'City'})\n",
    "df.head()"
   ]
  },
  {
   "cell_type": "markdown",
   "id": "7c1e7d87",
   "metadata": {},
   "source": [
    "<a id='observation'></a>\n",
    "# 3. Observation of the dataset"
   ]
  },
  {
   "cell_type": "markdown",
   "id": "74af1dbb",
   "metadata": {},
   "source": [
    "Here in this dataset we can see the columns **'url', 'address', 'phone', 'dish_liked', 'reviews_list'** and **'menu_item'**.\n",
    "\n",
    "The above columns are not useful for EDA. So we can drop them."
   ]
  },
  {
   "cell_type": "code",
   "execution_count": 199,
   "id": "b172d096",
   "metadata": {},
   "outputs": [],
   "source": [
    "# Used to drop columns in a dataset\n",
    "\n",
    "df = df.drop(['url', 'address', 'phone', 'dish_liked', 'reviews_list', 'menu_item'], axis=1)"
   ]
  },
  {
   "cell_type": "code",
   "execution_count": 200,
   "id": "4a5d84c3",
   "metadata": {},
   "outputs": [
    {
     "data": {
      "text/html": [
       "<div>\n",
       "<style scoped>\n",
       "    .dataframe tbody tr th:only-of-type {\n",
       "        vertical-align: middle;\n",
       "    }\n",
       "\n",
       "    .dataframe tbody tr th {\n",
       "        vertical-align: top;\n",
       "    }\n",
       "\n",
       "    .dataframe thead th {\n",
       "        text-align: right;\n",
       "    }\n",
       "</style>\n",
       "<table border=\"1\" class=\"dataframe\">\n",
       "  <thead>\n",
       "    <tr style=\"text-align: right;\">\n",
       "      <th></th>\n",
       "      <th>name</th>\n",
       "      <th>online_order</th>\n",
       "      <th>book_table</th>\n",
       "      <th>rate</th>\n",
       "      <th>votes</th>\n",
       "      <th>location</th>\n",
       "      <th>rest_type</th>\n",
       "      <th>cuisines</th>\n",
       "      <th>Cost_for_two</th>\n",
       "      <th>Type_of_service</th>\n",
       "      <th>City</th>\n",
       "    </tr>\n",
       "  </thead>\n",
       "  <tbody>\n",
       "    <tr>\n",
       "      <th>0</th>\n",
       "      <td>Jalsa</td>\n",
       "      <td>Yes</td>\n",
       "      <td>Yes</td>\n",
       "      <td>4.1/5</td>\n",
       "      <td>775</td>\n",
       "      <td>Banashankari</td>\n",
       "      <td>Casual Dining</td>\n",
       "      <td>North Indian, Mughlai, Chinese</td>\n",
       "      <td>800</td>\n",
       "      <td>Buffet</td>\n",
       "      <td>Banashankari</td>\n",
       "    </tr>\n",
       "    <tr>\n",
       "      <th>1</th>\n",
       "      <td>Spice Elephant</td>\n",
       "      <td>Yes</td>\n",
       "      <td>No</td>\n",
       "      <td>4.1/5</td>\n",
       "      <td>787</td>\n",
       "      <td>Banashankari</td>\n",
       "      <td>Casual Dining</td>\n",
       "      <td>Chinese, North Indian, Thai</td>\n",
       "      <td>800</td>\n",
       "      <td>Buffet</td>\n",
       "      <td>Banashankari</td>\n",
       "    </tr>\n",
       "    <tr>\n",
       "      <th>2</th>\n",
       "      <td>San Churro Cafe</td>\n",
       "      <td>Yes</td>\n",
       "      <td>No</td>\n",
       "      <td>3.8/5</td>\n",
       "      <td>918</td>\n",
       "      <td>Banashankari</td>\n",
       "      <td>Cafe, Casual Dining</td>\n",
       "      <td>Cafe, Mexican, Italian</td>\n",
       "      <td>800</td>\n",
       "      <td>Buffet</td>\n",
       "      <td>Banashankari</td>\n",
       "    </tr>\n",
       "    <tr>\n",
       "      <th>3</th>\n",
       "      <td>Addhuri Udupi Bhojana</td>\n",
       "      <td>No</td>\n",
       "      <td>No</td>\n",
       "      <td>3.7/5</td>\n",
       "      <td>88</td>\n",
       "      <td>Banashankari</td>\n",
       "      <td>Quick Bites</td>\n",
       "      <td>South Indian, North Indian</td>\n",
       "      <td>300</td>\n",
       "      <td>Buffet</td>\n",
       "      <td>Banashankari</td>\n",
       "    </tr>\n",
       "    <tr>\n",
       "      <th>4</th>\n",
       "      <td>Grand Village</td>\n",
       "      <td>No</td>\n",
       "      <td>No</td>\n",
       "      <td>3.8/5</td>\n",
       "      <td>166</td>\n",
       "      <td>Basavanagudi</td>\n",
       "      <td>Casual Dining</td>\n",
       "      <td>North Indian, Rajasthani</td>\n",
       "      <td>600</td>\n",
       "      <td>Buffet</td>\n",
       "      <td>Banashankari</td>\n",
       "    </tr>\n",
       "  </tbody>\n",
       "</table>\n",
       "</div>"
      ],
      "text/plain": [
       "                    name online_order book_table   rate  votes      location  \\\n",
       "0                  Jalsa          Yes        Yes  4.1/5    775  Banashankari   \n",
       "1         Spice Elephant          Yes         No  4.1/5    787  Banashankari   \n",
       "2        San Churro Cafe          Yes         No  3.8/5    918  Banashankari   \n",
       "3  Addhuri Udupi Bhojana           No         No  3.7/5     88  Banashankari   \n",
       "4          Grand Village           No         No  3.8/5    166  Basavanagudi   \n",
       "\n",
       "             rest_type                        cuisines Cost_for_two  \\\n",
       "0        Casual Dining  North Indian, Mughlai, Chinese          800   \n",
       "1        Casual Dining     Chinese, North Indian, Thai          800   \n",
       "2  Cafe, Casual Dining          Cafe, Mexican, Italian          800   \n",
       "3          Quick Bites      South Indian, North Indian          300   \n",
       "4        Casual Dining        North Indian, Rajasthani          600   \n",
       "\n",
       "  Type_of_service          City  \n",
       "0          Buffet  Banashankari  \n",
       "1          Buffet  Banashankari  \n",
       "2          Buffet  Banashankari  \n",
       "3          Buffet  Banashankari  \n",
       "4          Buffet  Banashankari  "
      ]
     },
     "execution_count": 200,
     "metadata": {},
     "output_type": "execute_result"
    }
   ],
   "source": [
    "# Displaying the modified dataset\n",
    "\n",
    "df.head()"
   ]
  },
  {
   "cell_type": "code",
   "execution_count": 201,
   "id": "a6252731",
   "metadata": {},
   "outputs": [
    {
     "data": {
      "text/plain": [
       "(51717, 11)"
      ]
     },
     "execution_count": 201,
     "metadata": {},
     "output_type": "execute_result"
    }
   ],
   "source": [
    "# Displaying shape of the modified dataset\n",
    "\n",
    "df.shape"
   ]
  },
  {
   "cell_type": "code",
   "execution_count": 202,
   "id": "77bcff72",
   "metadata": {},
   "outputs": [
    {
     "data": {
      "text/plain": [
       "Index(['name', 'online_order', 'book_table', 'rate', 'votes', 'location',\n",
       "       'rest_type', 'cuisines', 'Cost_for_two', 'Type_of_service', 'City'],\n",
       "      dtype='object')"
      ]
     },
     "execution_count": 202,
     "metadata": {},
     "output_type": "execute_result"
    }
   ],
   "source": [
    "# Displaying column names of the modified dataset\n",
    "\n",
    "df.columns"
   ]
  },
  {
   "cell_type": "markdown",
   "id": "5f79afb7",
   "metadata": {},
   "source": [
    "<a id='duplicate_value'></a>\n",
    "# 4. Removing duplicate values from the dataset"
   ]
  },
  {
   "cell_type": "code",
   "execution_count": 203,
   "id": "48848174",
   "metadata": {},
   "outputs": [
    {
     "data": {
      "text/html": [
       "<div>\n",
       "<style scoped>\n",
       "    .dataframe tbody tr th:only-of-type {\n",
       "        vertical-align: middle;\n",
       "    }\n",
       "\n",
       "    .dataframe tbody tr th {\n",
       "        vertical-align: top;\n",
       "    }\n",
       "\n",
       "    .dataframe thead th {\n",
       "        text-align: right;\n",
       "    }\n",
       "</style>\n",
       "<table border=\"1\" class=\"dataframe\">\n",
       "  <thead>\n",
       "    <tr style=\"text-align: right;\">\n",
       "      <th></th>\n",
       "      <th>name</th>\n",
       "      <th>online_order</th>\n",
       "      <th>book_table</th>\n",
       "      <th>rate</th>\n",
       "      <th>votes</th>\n",
       "      <th>location</th>\n",
       "      <th>rest_type</th>\n",
       "      <th>cuisines</th>\n",
       "      <th>Cost_for_two</th>\n",
       "      <th>Type_of_service</th>\n",
       "      <th>City</th>\n",
       "    </tr>\n",
       "  </thead>\n",
       "  <tbody>\n",
       "    <tr>\n",
       "      <th>596</th>\n",
       "      <td>My Tea House</td>\n",
       "      <td>Yes</td>\n",
       "      <td>Yes</td>\n",
       "      <td>NEW</td>\n",
       "      <td>0</td>\n",
       "      <td>Banashankari</td>\n",
       "      <td>Casual Dining</td>\n",
       "      <td>Continental, Asian, North Indian, Tea</td>\n",
       "      <td>500</td>\n",
       "      <td>Dine-out</td>\n",
       "      <td>Banashankari</td>\n",
       "    </tr>\n",
       "    <tr>\n",
       "      <th>2235</th>\n",
       "      <td>Shiv Sagar</td>\n",
       "      <td>No</td>\n",
       "      <td>No</td>\n",
       "      <td>3.6/5</td>\n",
       "      <td>10</td>\n",
       "      <td>Bannerghatta Road</td>\n",
       "      <td>Food Court</td>\n",
       "      <td>South Indian, Beverages</td>\n",
       "      <td>400</td>\n",
       "      <td>Dine-out</td>\n",
       "      <td>Bannerghatta Road</td>\n",
       "    </tr>\n",
       "    <tr>\n",
       "      <th>3763</th>\n",
       "      <td>The Fisherman's Wharf</td>\n",
       "      <td>Yes</td>\n",
       "      <td>Yes</td>\n",
       "      <td>4.4/5</td>\n",
       "      <td>4099</td>\n",
       "      <td>Sarjapur Road</td>\n",
       "      <td>Casual Dining, Bar</td>\n",
       "      <td>Seafood, Goan, North Indian, Continental, Asian</td>\n",
       "      <td>1,400</td>\n",
       "      <td>Buffet</td>\n",
       "      <td>Bellandur</td>\n",
       "    </tr>\n",
       "    <tr>\n",
       "      <th>4339</th>\n",
       "      <td>Biryani Treat</td>\n",
       "      <td>No</td>\n",
       "      <td>No</td>\n",
       "      <td>NaN</td>\n",
       "      <td>0</td>\n",
       "      <td>Bellandur</td>\n",
       "      <td>Quick Bites</td>\n",
       "      <td>Biryani</td>\n",
       "      <td>400</td>\n",
       "      <td>Delivery</td>\n",
       "      <td>Bellandur</td>\n",
       "    </tr>\n",
       "    <tr>\n",
       "      <th>4949</th>\n",
       "      <td>OPUS Club</td>\n",
       "      <td>No</td>\n",
       "      <td>Yes</td>\n",
       "      <td>4.4/5</td>\n",
       "      <td>1496</td>\n",
       "      <td>Sarjapur Road</td>\n",
       "      <td>Pub</td>\n",
       "      <td>Continental, Italian, North Indian, Mexican</td>\n",
       "      <td>1,900</td>\n",
       "      <td>Drinks &amp; nightlife</td>\n",
       "      <td>Bellandur</td>\n",
       "    </tr>\n",
       "    <tr>\n",
       "      <th>...</th>\n",
       "      <td>...</td>\n",
       "      <td>...</td>\n",
       "      <td>...</td>\n",
       "      <td>...</td>\n",
       "      <td>...</td>\n",
       "      <td>...</td>\n",
       "      <td>...</td>\n",
       "      <td>...</td>\n",
       "      <td>...</td>\n",
       "      <td>...</td>\n",
       "      <td>...</td>\n",
       "    </tr>\n",
       "    <tr>\n",
       "      <th>49193</th>\n",
       "      <td>Sri Ganesh Juice Junction</td>\n",
       "      <td>Yes</td>\n",
       "      <td>No</td>\n",
       "      <td>3.5 /5</td>\n",
       "      <td>6</td>\n",
       "      <td>Bellandur</td>\n",
       "      <td>Beverage Shop</td>\n",
       "      <td>Juices, Fast Food</td>\n",
       "      <td>200</td>\n",
       "      <td>Delivery</td>\n",
       "      <td>Sarjapur Road</td>\n",
       "    </tr>\n",
       "    <tr>\n",
       "      <th>49432</th>\n",
       "      <td>Biryani Treat</td>\n",
       "      <td>No</td>\n",
       "      <td>No</td>\n",
       "      <td>NaN</td>\n",
       "      <td>0</td>\n",
       "      <td>Bellandur</td>\n",
       "      <td>Quick Bites</td>\n",
       "      <td>Biryani</td>\n",
       "      <td>400</td>\n",
       "      <td>Delivery</td>\n",
       "      <td>Sarjapur Road</td>\n",
       "    </tr>\n",
       "    <tr>\n",
       "      <th>50379</th>\n",
       "      <td>House Of Candy</td>\n",
       "      <td>Yes</td>\n",
       "      <td>No</td>\n",
       "      <td>NaN</td>\n",
       "      <td>0</td>\n",
       "      <td>Whitefield</td>\n",
       "      <td>Confectionery</td>\n",
       "      <td>Desserts</td>\n",
       "      <td>200</td>\n",
       "      <td>Delivery</td>\n",
       "      <td>Whitefield</td>\n",
       "    </tr>\n",
       "    <tr>\n",
       "      <th>50405</th>\n",
       "      <td>House Of Candy</td>\n",
       "      <td>Yes</td>\n",
       "      <td>No</td>\n",
       "      <td>NaN</td>\n",
       "      <td>0</td>\n",
       "      <td>Whitefield</td>\n",
       "      <td>Confectionery</td>\n",
       "      <td>Desserts</td>\n",
       "      <td>200</td>\n",
       "      <td>Delivery</td>\n",
       "      <td>Whitefield</td>\n",
       "    </tr>\n",
       "    <tr>\n",
       "      <th>50904</th>\n",
       "      <td>Nawab Di Biryani</td>\n",
       "      <td>Yes</td>\n",
       "      <td>No</td>\n",
       "      <td>NEW</td>\n",
       "      <td>0</td>\n",
       "      <td>Whitefield</td>\n",
       "      <td>Takeaway, Delivery</td>\n",
       "      <td>Biryani, Mughlai</td>\n",
       "      <td>400</td>\n",
       "      <td>Delivery</td>\n",
       "      <td>Whitefield</td>\n",
       "    </tr>\n",
       "  </tbody>\n",
       "</table>\n",
       "<p>108 rows × 11 columns</p>\n",
       "</div>"
      ],
      "text/plain": [
       "                            name online_order book_table    rate  votes  \\\n",
       "596                 My Tea House          Yes        Yes     NEW      0   \n",
       "2235                  Shiv Sagar           No         No   3.6/5     10   \n",
       "3763       The Fisherman's Wharf          Yes        Yes   4.4/5   4099   \n",
       "4339               Biryani Treat           No         No     NaN      0   \n",
       "4949                   OPUS Club           No        Yes   4.4/5   1496   \n",
       "...                          ...          ...        ...     ...    ...   \n",
       "49193  Sri Ganesh Juice Junction          Yes         No  3.5 /5      6   \n",
       "49432              Biryani Treat           No         No     NaN      0   \n",
       "50379             House Of Candy          Yes         No     NaN      0   \n",
       "50405             House Of Candy          Yes         No     NaN      0   \n",
       "50904           Nawab Di Biryani          Yes         No     NEW      0   \n",
       "\n",
       "                location           rest_type  \\\n",
       "596         Banashankari       Casual Dining   \n",
       "2235   Bannerghatta Road          Food Court   \n",
       "3763       Sarjapur Road  Casual Dining, Bar   \n",
       "4339           Bellandur         Quick Bites   \n",
       "4949       Sarjapur Road                 Pub   \n",
       "...                  ...                 ...   \n",
       "49193          Bellandur       Beverage Shop   \n",
       "49432          Bellandur         Quick Bites   \n",
       "50379         Whitefield       Confectionery   \n",
       "50405         Whitefield       Confectionery   \n",
       "50904         Whitefield  Takeaway, Delivery   \n",
       "\n",
       "                                              cuisines Cost_for_two  \\\n",
       "596              Continental, Asian, North Indian, Tea          500   \n",
       "2235                           South Indian, Beverages          400   \n",
       "3763   Seafood, Goan, North Indian, Continental, Asian        1,400   \n",
       "4339                                           Biryani          400   \n",
       "4949       Continental, Italian, North Indian, Mexican        1,900   \n",
       "...                                                ...          ...   \n",
       "49193                                Juices, Fast Food          200   \n",
       "49432                                          Biryani          400   \n",
       "50379                                         Desserts          200   \n",
       "50405                                         Desserts          200   \n",
       "50904                                 Biryani, Mughlai          400   \n",
       "\n",
       "          Type_of_service               City  \n",
       "596              Dine-out       Banashankari  \n",
       "2235             Dine-out  Bannerghatta Road  \n",
       "3763               Buffet          Bellandur  \n",
       "4339             Delivery          Bellandur  \n",
       "4949   Drinks & nightlife          Bellandur  \n",
       "...                   ...                ...  \n",
       "49193            Delivery      Sarjapur Road  \n",
       "49432            Delivery      Sarjapur Road  \n",
       "50379            Delivery         Whitefield  \n",
       "50405            Delivery         Whitefield  \n",
       "50904            Delivery         Whitefield  \n",
       "\n",
       "[108 rows x 11 columns]"
      ]
     },
     "execution_count": 203,
     "metadata": {},
     "output_type": "execute_result"
    }
   ],
   "source": [
    "# Displaying all the duplicate values\n",
    "\n",
    "df[df.duplicated()]"
   ]
  },
  {
   "cell_type": "markdown",
   "id": "af757b87",
   "metadata": {},
   "source": [
    "**Observation:**\n",
    "\n",
    "Here we can see that there are **108 rows** which have duplicate data.\n",
    "\n",
    "Duplicate data can affect the model and may lead to wrong predictions. In order to avoid this we will drop these duplicate rows."
   ]
  },
  {
   "cell_type": "code",
   "execution_count": 204,
   "id": "71117e03",
   "metadata": {},
   "outputs": [
    {
     "name": "stdout",
     "output_type": "stream",
     "text": [
      "Total no. rows and columns before dropping duplicate rows: (51717, 11)\n",
      "Total no. rows and columns after dropping duplicate rows: (51609, 11)\n"
     ]
    }
   ],
   "source": [
    "# Displaying shape of the dataset before dropping duplicate rows\n",
    "\n",
    "print(\"Total no. rows and columns before dropping duplicate rows:\", df.shape)\n",
    "\n",
    "\n",
    "# Dropping duplicate rows\n",
    "\n",
    "df.drop_duplicates(inplace = True)\n",
    "\n",
    "\n",
    "# Displaying shape of the dataset after dropping duplicate rows\n",
    "\n",
    "print(\"Total no. rows and columns after dropping duplicate rows:\", df.shape)"
   ]
  },
  {
   "cell_type": "markdown",
   "id": "48bfab3c",
   "metadata": {},
   "source": [
    "<a id='cleaning_data'></a>\n",
    "# 5. Cleaning Data"
   ]
  },
  {
   "cell_type": "markdown",
   "id": "ee5134cb",
   "metadata": {},
   "source": [
    "<a id='rate_column'></a>\n",
    "## 5.1 `Rate` column"
   ]
  },
  {
   "cell_type": "code",
   "execution_count": 205,
   "id": "4840c813",
   "metadata": {
    "scrolled": true
   },
   "outputs": [
    {
     "data": {
      "text/plain": [
       "array(['4.1/5', '3.8/5', '3.7/5', '3.6/5', '4.6/5', '4.0/5', '4.2/5',\n",
       "       '3.9/5', '3.1/5', '3.0/5', '3.2/5', '3.3/5', '2.8/5', '4.4/5',\n",
       "       '4.3/5', 'NEW', '2.9/5', '3.5/5', nan, '2.6/5', '3.8 /5', '3.4/5',\n",
       "       '4.5/5', '2.5/5', '2.7/5', '4.7/5', '2.4/5', '2.2/5', '2.3/5',\n",
       "       '3.4 /5', '-', '3.6 /5', '4.8/5', '3.9 /5', '4.2 /5', '4.0 /5',\n",
       "       '4.1 /5', '3.7 /5', '3.1 /5', '2.9 /5', '3.3 /5', '2.8 /5',\n",
       "       '3.5 /5', '2.7 /5', '2.5 /5', '3.2 /5', '2.6 /5', '4.5 /5',\n",
       "       '4.3 /5', '4.4 /5', '4.9/5', '2.1/5', '2.0/5', '1.8/5', '4.6 /5',\n",
       "       '4.9 /5', '3.0 /5', '4.8 /5', '2.3 /5', '4.7 /5', '2.4 /5',\n",
       "       '2.1 /5', '2.2 /5', '2.0 /5', '1.8 /5'], dtype=object)"
      ]
     },
     "execution_count": 205,
     "metadata": {},
     "output_type": "execute_result"
    }
   ],
   "source": [
    "df.rate.unique()"
   ]
  },
  {
   "cell_type": "markdown",
   "id": "474c7f5d",
   "metadata": {},
   "source": [
    "**Observation:**\n",
    "\n",
    "Here we can see the ratings as **'4.3/5', 'NEW', '2.9/5', '3.5/5', nan**\n",
    "\n",
    "1. Rating written as **4.3/5** might cause issues while doing calculations. In order to avoid that we need to change the ratings just to **4.3** by removing **/5**.\n",
    "\n",
    "2. We can observe unique elements **'NEW'** and **'-'** in the column.\n",
    "\n",
    "3. We will now write a function to change those values to **'nan'** and also transform all the ratings into float."
   ]
  },
  {
   "cell_type": "markdown",
   "id": "a036c258",
   "metadata": {},
   "source": [
    "<a id='rate_column_remove'></a>\n",
    "### 5.1.1 Removing 'NEW', '-', and '/5' from `rate` column"
   ]
  },
  {
   "cell_type": "markdown",
   "id": "5b6a39af",
   "metadata": {},
   "source": [
    "#### Checking total no. of newly opened restaurants"
   ]
  },
  {
   "cell_type": "code",
   "execution_count": 206,
   "id": "b7571e0e",
   "metadata": {},
   "outputs": [
    {
     "data": {
      "text/html": [
       "<div>\n",
       "<style scoped>\n",
       "    .dataframe tbody tr th:only-of-type {\n",
       "        vertical-align: middle;\n",
       "    }\n",
       "\n",
       "    .dataframe tbody tr th {\n",
       "        vertical-align: top;\n",
       "    }\n",
       "\n",
       "    .dataframe thead th {\n",
       "        text-align: right;\n",
       "    }\n",
       "</style>\n",
       "<table border=\"1\" class=\"dataframe\">\n",
       "  <thead>\n",
       "    <tr style=\"text-align: right;\">\n",
       "      <th></th>\n",
       "      <th>name</th>\n",
       "      <th>online_order</th>\n",
       "      <th>book_table</th>\n",
       "      <th>rate</th>\n",
       "      <th>votes</th>\n",
       "      <th>location</th>\n",
       "      <th>rest_type</th>\n",
       "      <th>cuisines</th>\n",
       "      <th>Cost_for_two</th>\n",
       "      <th>Type_of_service</th>\n",
       "      <th>City</th>\n",
       "    </tr>\n",
       "  </thead>\n",
       "  <tbody>\n",
       "    <tr>\n",
       "      <th>72</th>\n",
       "      <td>Spicy Tandoor</td>\n",
       "      <td>No</td>\n",
       "      <td>No</td>\n",
       "      <td>NEW</td>\n",
       "      <td>0</td>\n",
       "      <td>Banashankari</td>\n",
       "      <td>Quick Bites</td>\n",
       "      <td>North Indian</td>\n",
       "      <td>150</td>\n",
       "      <td>Delivery</td>\n",
       "      <td>Banashankari</td>\n",
       "    </tr>\n",
       "    <tr>\n",
       "      <th>75</th>\n",
       "      <td>Om Sri Vinayaka Chats</td>\n",
       "      <td>No</td>\n",
       "      <td>No</td>\n",
       "      <td>NEW</td>\n",
       "      <td>0</td>\n",
       "      <td>Banashankari</td>\n",
       "      <td>Takeaway, Delivery</td>\n",
       "      <td>Street Food, Fast Food</td>\n",
       "      <td>500</td>\n",
       "      <td>Delivery</td>\n",
       "      <td>Banashankari</td>\n",
       "    </tr>\n",
       "    <tr>\n",
       "      <th>110</th>\n",
       "      <td>Hari Super Sandwich</td>\n",
       "      <td>No</td>\n",
       "      <td>No</td>\n",
       "      <td>NEW</td>\n",
       "      <td>0</td>\n",
       "      <td>Banashankari</td>\n",
       "      <td>Takeaway, Delivery</td>\n",
       "      <td>Sandwich, Pizza, Beverages</td>\n",
       "      <td>200</td>\n",
       "      <td>Delivery</td>\n",
       "      <td>Banashankari</td>\n",
       "    </tr>\n",
       "    <tr>\n",
       "      <th>130</th>\n",
       "      <td>Roll Magic Fast Food</td>\n",
       "      <td>No</td>\n",
       "      <td>No</td>\n",
       "      <td>NEW</td>\n",
       "      <td>0</td>\n",
       "      <td>Banashankari</td>\n",
       "      <td>Takeaway, Delivery</td>\n",
       "      <td>Biryani, Rolls, Chinese</td>\n",
       "      <td>200</td>\n",
       "      <td>Delivery</td>\n",
       "      <td>Banashankari</td>\n",
       "    </tr>\n",
       "    <tr>\n",
       "      <th>131</th>\n",
       "      <td>Foodlieious Multi Cuisine</td>\n",
       "      <td>No</td>\n",
       "      <td>No</td>\n",
       "      <td>NEW</td>\n",
       "      <td>0</td>\n",
       "      <td>Banashankari</td>\n",
       "      <td>Quick Bites</td>\n",
       "      <td>North Indian</td>\n",
       "      <td>100</td>\n",
       "      <td>Delivery</td>\n",
       "      <td>Banashankari</td>\n",
       "    </tr>\n",
       "    <tr>\n",
       "      <th>...</th>\n",
       "      <td>...</td>\n",
       "      <td>...</td>\n",
       "      <td>...</td>\n",
       "      <td>...</td>\n",
       "      <td>...</td>\n",
       "      <td>...</td>\n",
       "      <td>...</td>\n",
       "      <td>...</td>\n",
       "      <td>...</td>\n",
       "      <td>...</td>\n",
       "      <td>...</td>\n",
       "    </tr>\n",
       "    <tr>\n",
       "      <th>51585</th>\n",
       "      <td>Wow Tiffin Food</td>\n",
       "      <td>No</td>\n",
       "      <td>No</td>\n",
       "      <td>NEW</td>\n",
       "      <td>0</td>\n",
       "      <td>Whitefield</td>\n",
       "      <td>Quick Bites</td>\n",
       "      <td>North Indian</td>\n",
       "      <td>200</td>\n",
       "      <td>Dine-out</td>\n",
       "      <td>Whitefield</td>\n",
       "    </tr>\n",
       "    <tr>\n",
       "      <th>51586</th>\n",
       "      <td>Quick Bites</td>\n",
       "      <td>Yes</td>\n",
       "      <td>No</td>\n",
       "      <td>NEW</td>\n",
       "      <td>0</td>\n",
       "      <td>Whitefield</td>\n",
       "      <td>Quick Bites</td>\n",
       "      <td>Chinese</td>\n",
       "      <td>200</td>\n",
       "      <td>Dine-out</td>\n",
       "      <td>Whitefield</td>\n",
       "    </tr>\n",
       "    <tr>\n",
       "      <th>51603</th>\n",
       "      <td>Shiv sagar</td>\n",
       "      <td>Yes</td>\n",
       "      <td>No</td>\n",
       "      <td>NEW</td>\n",
       "      <td>0</td>\n",
       "      <td>Whitefield</td>\n",
       "      <td>Quick Bites, Food Court</td>\n",
       "      <td>South Indian, Chinese, North Indian</td>\n",
       "      <td>250</td>\n",
       "      <td>Dine-out</td>\n",
       "      <td>Whitefield</td>\n",
       "    </tr>\n",
       "    <tr>\n",
       "      <th>51604</th>\n",
       "      <td>Nawab Di Biryani</td>\n",
       "      <td>No</td>\n",
       "      <td>No</td>\n",
       "      <td>NEW</td>\n",
       "      <td>0</td>\n",
       "      <td>Whitefield</td>\n",
       "      <td>Takeaway, Delivery</td>\n",
       "      <td>Biryani, Mughlai</td>\n",
       "      <td>400</td>\n",
       "      <td>Dine-out</td>\n",
       "      <td>Whitefield</td>\n",
       "    </tr>\n",
       "    <tr>\n",
       "      <th>51605</th>\n",
       "      <td>Bong Connections</td>\n",
       "      <td>No</td>\n",
       "      <td>No</td>\n",
       "      <td>NEW</td>\n",
       "      <td>0</td>\n",
       "      <td>Whitefield</td>\n",
       "      <td>Quick Bites</td>\n",
       "      <td>Chinese, North Indian</td>\n",
       "      <td>300</td>\n",
       "      <td>Dine-out</td>\n",
       "      <td>Whitefield</td>\n",
       "    </tr>\n",
       "  </tbody>\n",
       "</table>\n",
       "<p>2195 rows × 11 columns</p>\n",
       "</div>"
      ],
      "text/plain": [
       "                            name online_order book_table rate  votes  \\\n",
       "72                 Spicy Tandoor           No         No  NEW      0   \n",
       "75         Om Sri Vinayaka Chats           No         No  NEW      0   \n",
       "110          Hari Super Sandwich           No         No  NEW      0   \n",
       "130         Roll Magic Fast Food           No         No  NEW      0   \n",
       "131    Foodlieious Multi Cuisine           No         No  NEW      0   \n",
       "...                          ...          ...        ...  ...    ...   \n",
       "51585            Wow Tiffin Food           No         No  NEW      0   \n",
       "51586                Quick Bites          Yes         No  NEW      0   \n",
       "51603                 Shiv sagar          Yes         No  NEW      0   \n",
       "51604           Nawab Di Biryani           No         No  NEW      0   \n",
       "51605           Bong Connections           No         No  NEW      0   \n",
       "\n",
       "           location                rest_type  \\\n",
       "72     Banashankari              Quick Bites   \n",
       "75     Banashankari       Takeaway, Delivery   \n",
       "110    Banashankari       Takeaway, Delivery   \n",
       "130    Banashankari       Takeaway, Delivery   \n",
       "131    Banashankari              Quick Bites   \n",
       "...             ...                      ...   \n",
       "51585    Whitefield              Quick Bites   \n",
       "51586    Whitefield              Quick Bites   \n",
       "51603    Whitefield  Quick Bites, Food Court   \n",
       "51604    Whitefield       Takeaway, Delivery   \n",
       "51605    Whitefield              Quick Bites   \n",
       "\n",
       "                                  cuisines Cost_for_two Type_of_service  \\\n",
       "72                            North Indian          150        Delivery   \n",
       "75                  Street Food, Fast Food          500        Delivery   \n",
       "110             Sandwich, Pizza, Beverages          200        Delivery   \n",
       "130                Biryani, Rolls, Chinese          200        Delivery   \n",
       "131                           North Indian          100        Delivery   \n",
       "...                                    ...          ...             ...   \n",
       "51585                         North Indian          200        Dine-out   \n",
       "51586                              Chinese          200        Dine-out   \n",
       "51603  South Indian, Chinese, North Indian          250        Dine-out   \n",
       "51604                     Biryani, Mughlai          400        Dine-out   \n",
       "51605                Chinese, North Indian          300        Dine-out   \n",
       "\n",
       "               City  \n",
       "72     Banashankari  \n",
       "75     Banashankari  \n",
       "110    Banashankari  \n",
       "130    Banashankari  \n",
       "131    Banashankari  \n",
       "...             ...  \n",
       "51585    Whitefield  \n",
       "51586    Whitefield  \n",
       "51603    Whitefield  \n",
       "51604    Whitefield  \n",
       "51605    Whitefield  \n",
       "\n",
       "[2195 rows x 11 columns]"
      ]
     },
     "execution_count": 206,
     "metadata": {},
     "output_type": "execute_result"
    }
   ],
   "source": [
    "df[df['rate'] == 'NEW']"
   ]
  },
  {
   "cell_type": "markdown",
   "id": "de0ba1a5",
   "metadata": {},
   "source": [
    "#### Calculating the percentage of newly opened restaurants compared to the total no. of rows in the dataset"
   ]
  },
  {
   "cell_type": "code",
   "execution_count": 207,
   "id": "62052f0a",
   "metadata": {},
   "outputs": [
    {
     "name": "stdout",
     "output_type": "stream",
     "text": [
      "Count of newly opened restaurants: 2195\n",
      "Percentage of newly opened restaurants: 4.25 %\n"
     ]
    }
   ],
   "source": [
    "count_NEW = df['rate'].value_counts()['NEW']\n",
    "print(\"Count of newly opened restaurants:\", count_NEW)\n",
    "print(\"Percentage of newly opened restaurants:\", np.round((count_NEW*100)/len(df),2), \"%\")"
   ]
  },
  {
   "cell_type": "markdown",
   "id": "ba168bae",
   "metadata": {},
   "source": [
    "#### Checking the percentage of total no. of rows having '-' as their value compared to the total no. of rows in the dataset"
   ]
  },
  {
   "cell_type": "code",
   "execution_count": 208,
   "id": "908647e3",
   "metadata": {},
   "outputs": [
    {
     "name": "stdout",
     "output_type": "stream",
     "text": [
      "Count of rows having '-' as value: 69\n",
      "Percentage of rows having '-' as value: 0.13 %\n"
     ]
    }
   ],
   "source": [
    "count_ = df['rate'].value_counts()['-']\n",
    "print(\"Count of rows having '-' as value:\", count_)\n",
    "print(\"Percentage of rows having '-' as value:\", np.round((count_*100)/len(df),2), \"%\")"
   ]
  },
  {
   "cell_type": "markdown",
   "id": "4ae3be18",
   "metadata": {},
   "source": [
    "#### Creating a function to handle the 'NEW', '-' values and also to remove '/5' from the `rate` column"
   ]
  },
  {
   "cell_type": "code",
   "execution_count": 209,
   "id": "c6bab600",
   "metadata": {},
   "outputs": [],
   "source": [
    "def handle_rate(value):\n",
    "    if(value == 'NEW' or value == '-'):\n",
    "        return np.nan\n",
    "    else:\n",
    "        value = str(value).split('/')\n",
    "        value = value[0]\n",
    "        return float(value)"
   ]
  },
  {
   "cell_type": "markdown",
   "id": "c6455920",
   "metadata": {},
   "source": [
    "#### Calling the above function"
   ]
  },
  {
   "cell_type": "code",
   "execution_count": 210,
   "id": "b086bcf3",
   "metadata": {},
   "outputs": [
    {
     "data": {
      "text/plain": [
       "0    4.1\n",
       "1    4.1\n",
       "2    3.8\n",
       "3    3.7\n",
       "4    3.8\n",
       "Name: rate, dtype: float64"
      ]
     },
     "execution_count": 210,
     "metadata": {},
     "output_type": "execute_result"
    }
   ],
   "source": [
    "df['rate'] = df['rate'].apply(handle_rate)\n",
    "df.rate.head()"
   ]
  },
  {
   "cell_type": "markdown",
   "id": "26c6bdfb",
   "metadata": {},
   "source": [
    "#### Checking the total count of 'Null' values in `rate` column"
   ]
  },
  {
   "cell_type": "code",
   "execution_count": 211,
   "id": "1f25be7b",
   "metadata": {},
   "outputs": [
    {
     "data": {
      "text/plain": [
       "10019"
      ]
     },
     "execution_count": 211,
     "metadata": {},
     "output_type": "execute_result"
    }
   ],
   "source": [
    "df.rate.isnull().sum()"
   ]
  },
  {
   "cell_type": "markdown",
   "id": "21adb7bb",
   "metadata": {},
   "source": [
    "#### Replacing 'Null' values in `rate` column with its mean"
   ]
  },
  {
   "cell_type": "code",
   "execution_count": 212,
   "id": "c0187c6c",
   "metadata": {},
   "outputs": [],
   "source": [
    "df['rate'].fillna(df['rate'].mean(), inplace = True)"
   ]
  },
  {
   "cell_type": "markdown",
   "id": "a1346c81",
   "metadata": {},
   "source": [
    "#### Checking the total count of 'Null' values in `rate` column after replacing with mean"
   ]
  },
  {
   "cell_type": "code",
   "execution_count": 213,
   "id": "bfd8d701",
   "metadata": {},
   "outputs": [
    {
     "data": {
      "text/plain": [
       "0"
      ]
     },
     "execution_count": 213,
     "metadata": {},
     "output_type": "execute_result"
    }
   ],
   "source": [
    "df['rate'].isnull().sum()"
   ]
  },
  {
   "cell_type": "markdown",
   "id": "d09c2bc5",
   "metadata": {},
   "source": [
    "#### Checking information of the dataset after making the above changes"
   ]
  },
  {
   "cell_type": "code",
   "execution_count": 214,
   "id": "d047905d",
   "metadata": {},
   "outputs": [
    {
     "name": "stdout",
     "output_type": "stream",
     "text": [
      "<class 'pandas.core.frame.DataFrame'>\n",
      "Int64Index: 51609 entries, 0 to 51716\n",
      "Data columns (total 11 columns):\n",
      " #   Column           Non-Null Count  Dtype  \n",
      "---  ------           --------------  -----  \n",
      " 0   name             51609 non-null  object \n",
      " 1   online_order     51609 non-null  object \n",
      " 2   book_table       51609 non-null  object \n",
      " 3   rate             51609 non-null  float64\n",
      " 4   votes            51609 non-null  int64  \n",
      " 5   location         51588 non-null  object \n",
      " 6   rest_type        51382 non-null  object \n",
      " 7   cuisines         51564 non-null  object \n",
      " 8   Cost_for_two     51265 non-null  object \n",
      " 9   Type_of_service  51609 non-null  object \n",
      " 10  City             51609 non-null  object \n",
      "dtypes: float64(1), int64(1), object(9)\n",
      "memory usage: 4.7+ MB\n"
     ]
    }
   ],
   "source": [
    "df.info()"
   ]
  },
  {
   "cell_type": "markdown",
   "id": "ff74a45e",
   "metadata": {},
   "source": [
    "<a id='drop_null'></a>\n",
    "## 5.2 Dropping Null values from other columns"
   ]
  },
  {
   "cell_type": "markdown",
   "id": "343ad7d9",
   "metadata": {},
   "source": [
    "#### Checking count of null values before dropping them"
   ]
  },
  {
   "cell_type": "code",
   "execution_count": 215,
   "id": "414e4d1a",
   "metadata": {},
   "outputs": [
    {
     "data": {
      "text/plain": [
       "name                 0\n",
       "online_order         0\n",
       "book_table           0\n",
       "rate                 0\n",
       "votes                0\n",
       "location            21\n",
       "rest_type          227\n",
       "cuisines            45\n",
       "Cost_for_two       344\n",
       "Type_of_service      0\n",
       "City                 0\n",
       "dtype: int64"
      ]
     },
     "execution_count": 215,
     "metadata": {},
     "output_type": "execute_result"
    }
   ],
   "source": [
    "df.isnull().sum()"
   ]
  },
  {
   "cell_type": "markdown",
   "id": "8d70d082",
   "metadata": {},
   "source": [
    "**Observation:**\n",
    "\n",
    "Here we can see that there some 'Null' values in the columns **'location', 'rest_type', 'cuisines'** and **'approx_cost(for two people)'**. Since the count of 'Null' values is insignificant compared to the total no. of rows in the dataset we can drop these rows."
   ]
  },
  {
   "cell_type": "markdown",
   "id": "4e7eee21",
   "metadata": {},
   "source": [
    "#### Dropping null values"
   ]
  },
  {
   "cell_type": "code",
   "execution_count": 216,
   "id": "239073e9",
   "metadata": {},
   "outputs": [],
   "source": [
    "df.dropna(inplace = True)"
   ]
  },
  {
   "cell_type": "markdown",
   "id": "c91800a7",
   "metadata": {},
   "source": [
    "#### Checking count of null values after dropping them"
   ]
  },
  {
   "cell_type": "code",
   "execution_count": 217,
   "id": "b167a912",
   "metadata": {},
   "outputs": [
    {
     "data": {
      "text/plain": [
       "name               0\n",
       "online_order       0\n",
       "book_table         0\n",
       "rate               0\n",
       "votes              0\n",
       "location           0\n",
       "rest_type          0\n",
       "cuisines           0\n",
       "Cost_for_two       0\n",
       "Type_of_service    0\n",
       "City               0\n",
       "dtype: int64"
      ]
     },
     "execution_count": 217,
     "metadata": {},
     "output_type": "execute_result"
    }
   ],
   "source": [
    "df.isnull().sum()"
   ]
  },
  {
   "cell_type": "markdown",
   "id": "bceb98ae",
   "metadata": {},
   "source": [
    "**Observation:**\n",
    "\n",
    "Rows having 'Null' values have been deleted."
   ]
  },
  {
   "cell_type": "markdown",
   "id": "70046ab6",
   "metadata": {},
   "source": [
    "<a id='chi_sq'></a>\n",
    "## 5.4 Chi-square test of independence"
   ]
  },
  {
   "cell_type": "markdown",
   "id": "a803b137",
   "metadata": {},
   "source": [
    "#### Checking unique values in the `location` column"
   ]
  },
  {
   "cell_type": "code",
   "execution_count": 218,
   "id": "99b786e4",
   "metadata": {},
   "outputs": [
    {
     "data": {
      "text/plain": [
       "array(['Banashankari', 'Basavanagudi', 'Mysore Road', 'Jayanagar',\n",
       "       'Kumaraswamy Layout', 'Rajarajeshwari Nagar', 'Vijay Nagar',\n",
       "       'Uttarahalli', 'JP Nagar', 'South Bangalore', 'City Market',\n",
       "       'Nagarbhavi', 'Bannerghatta Road', 'BTM', 'Kanakapura Road',\n",
       "       'Bommanahalli', 'CV Raman Nagar', 'Electronic City', 'HSR',\n",
       "       'Marathahalli', 'Wilson Garden', 'Shanti Nagar',\n",
       "       'Koramangala 5th Block', 'Koramangala 8th Block', 'Richmond Road',\n",
       "       'Koramangala 7th Block', 'Jalahalli', 'Koramangala 4th Block',\n",
       "       'Bellandur', 'Sarjapur Road', 'Whitefield', 'East Bangalore',\n",
       "       'Old Airport Road', 'Indiranagar', 'Koramangala 1st Block',\n",
       "       'Frazer Town', 'RT Nagar', 'MG Road', 'Brigade Road',\n",
       "       'Lavelle Road', 'Church Street', 'Ulsoor', 'Residency Road',\n",
       "       'Shivajinagar', 'Infantry Road', 'St. Marks Road',\n",
       "       'Cunningham Road', 'Race Course Road', 'Commercial Street',\n",
       "       'Vasanth Nagar', 'HBR Layout', 'Domlur', 'Ejipura',\n",
       "       'Jeevan Bhima Nagar', 'Old Madras Road', 'Malleshwaram',\n",
       "       'Seshadripuram', 'Kammanahalli', 'Koramangala 6th Block',\n",
       "       'Majestic', 'Langford Town', 'Central Bangalore', 'Sanjay Nagar',\n",
       "       'Brookefield', 'ITPL Main Road, Whitefield',\n",
       "       'Varthur Main Road, Whitefield', 'KR Puram',\n",
       "       'Koramangala 2nd Block', 'Koramangala 3rd Block', 'Koramangala',\n",
       "       'Hosur Road', 'Rajajinagar', 'Banaswadi', 'North Bangalore',\n",
       "       'Nagawara', 'Hennur', 'Kalyan Nagar', 'New BEL Road', 'Jakkur',\n",
       "       'Rammurthy Nagar', 'Thippasandra', 'Kaggadasapura', 'Hebbal',\n",
       "       'Kengeri', 'Sankey Road', 'Sadashiv Nagar', 'Basaveshwara Nagar',\n",
       "       'Yeshwantpur', 'West Bangalore', 'Magadi Road', 'Yelahanka',\n",
       "       'Sahakara Nagar', 'Peenya'], dtype=object)"
      ]
     },
     "execution_count": 218,
     "metadata": {},
     "output_type": "execute_result"
    }
   ],
   "source": [
    "df.location.unique()"
   ]
  },
  {
   "cell_type": "markdown",
   "id": "5487596d",
   "metadata": {},
   "source": [
    "#### Checking unique values in the `City` column"
   ]
  },
  {
   "cell_type": "code",
   "execution_count": 219,
   "id": "876066de",
   "metadata": {},
   "outputs": [
    {
     "data": {
      "text/plain": [
       "array(['Banashankari', 'Bannerghatta Road', 'Basavanagudi', 'Bellandur',\n",
       "       'Brigade Road', 'Brookefield', 'BTM', 'Church Street',\n",
       "       'Electronic City', 'Frazer Town', 'HSR', 'Indiranagar',\n",
       "       'Jayanagar', 'JP Nagar', 'Kalyan Nagar', 'Kammanahalli',\n",
       "       'Koramangala 4th Block', 'Koramangala 5th Block',\n",
       "       'Koramangala 6th Block', 'Koramangala 7th Block', 'Lavelle Road',\n",
       "       'Malleshwaram', 'Marathahalli', 'MG Road', 'New BEL Road',\n",
       "       'Old Airport Road', 'Rajajinagar', 'Residency Road',\n",
       "       'Sarjapur Road', 'Whitefield'], dtype=object)"
      ]
     },
     "execution_count": 219,
     "metadata": {},
     "output_type": "execute_result"
    }
   ],
   "source": [
    "df.City.unique()"
   ]
  },
  {
   "cell_type": "markdown",
   "id": "c92d35c0",
   "metadata": {},
   "source": [
    "#### Checking correlation between columns `location` and `City`"
   ]
  },
  {
   "cell_type": "markdown",
   "id": "2f29e3ec",
   "metadata": {},
   "source": [
    "**Hypothesis:**\n",
    "\n",
    "H0: location and City columns are independent\n",
    "\n",
    "H1: location and City columns are dependent"
   ]
  },
  {
   "cell_type": "code",
   "execution_count": 220,
   "id": "532f6da3",
   "metadata": {},
   "outputs": [
    {
     "data": {
      "text/html": [
       "<div>\n",
       "<style scoped>\n",
       "    .dataframe tbody tr th:only-of-type {\n",
       "        vertical-align: middle;\n",
       "    }\n",
       "\n",
       "    .dataframe tbody tr th {\n",
       "        vertical-align: top;\n",
       "    }\n",
       "\n",
       "    .dataframe thead th {\n",
       "        text-align: right;\n",
       "    }\n",
       "</style>\n",
       "<table border=\"1\" class=\"dataframe\">\n",
       "  <thead>\n",
       "    <tr style=\"text-align: right;\">\n",
       "      <th>City</th>\n",
       "      <th>BTM</th>\n",
       "      <th>Banashankari</th>\n",
       "      <th>Bannerghatta Road</th>\n",
       "      <th>Basavanagudi</th>\n",
       "      <th>Bellandur</th>\n",
       "      <th>Brigade Road</th>\n",
       "      <th>Brookefield</th>\n",
       "      <th>Church Street</th>\n",
       "      <th>Electronic City</th>\n",
       "      <th>Frazer Town</th>\n",
       "      <th>...</th>\n",
       "      <th>Lavelle Road</th>\n",
       "      <th>MG Road</th>\n",
       "      <th>Malleshwaram</th>\n",
       "      <th>Marathahalli</th>\n",
       "      <th>New BEL Road</th>\n",
       "      <th>Old Airport Road</th>\n",
       "      <th>Rajajinagar</th>\n",
       "      <th>Residency Road</th>\n",
       "      <th>Sarjapur Road</th>\n",
       "      <th>Whitefield</th>\n",
       "    </tr>\n",
       "    <tr>\n",
       "      <th>location</th>\n",
       "      <th></th>\n",
       "      <th></th>\n",
       "      <th></th>\n",
       "      <th></th>\n",
       "      <th></th>\n",
       "      <th></th>\n",
       "      <th></th>\n",
       "      <th></th>\n",
       "      <th></th>\n",
       "      <th></th>\n",
       "      <th></th>\n",
       "      <th></th>\n",
       "      <th></th>\n",
       "      <th></th>\n",
       "      <th></th>\n",
       "      <th></th>\n",
       "      <th></th>\n",
       "      <th></th>\n",
       "      <th></th>\n",
       "      <th></th>\n",
       "      <th></th>\n",
       "    </tr>\n",
       "  </thead>\n",
       "  <tbody>\n",
       "    <tr>\n",
       "      <th>BTM</th>\n",
       "      <td>1114</td>\n",
       "      <td>0</td>\n",
       "      <td>260</td>\n",
       "      <td>30</td>\n",
       "      <td>1</td>\n",
       "      <td>2</td>\n",
       "      <td>1</td>\n",
       "      <td>0</td>\n",
       "      <td>0</td>\n",
       "      <td>1</td>\n",
       "      <td>...</td>\n",
       "      <td>2</td>\n",
       "      <td>2</td>\n",
       "      <td>0</td>\n",
       "      <td>1</td>\n",
       "      <td>0</td>\n",
       "      <td>1</td>\n",
       "      <td>0</td>\n",
       "      <td>1</td>\n",
       "      <td>1</td>\n",
       "      <td>0</td>\n",
       "    </tr>\n",
       "    <tr>\n",
       "      <th>Banashankari</th>\n",
       "      <td>1</td>\n",
       "      <td>484</td>\n",
       "      <td>0</td>\n",
       "      <td>275</td>\n",
       "      <td>1</td>\n",
       "      <td>1</td>\n",
       "      <td>0</td>\n",
       "      <td>2</td>\n",
       "      <td>0</td>\n",
       "      <td>1</td>\n",
       "      <td>...</td>\n",
       "      <td>1</td>\n",
       "      <td>1</td>\n",
       "      <td>0</td>\n",
       "      <td>0</td>\n",
       "      <td>0</td>\n",
       "      <td>0</td>\n",
       "      <td>0</td>\n",
       "      <td>1</td>\n",
       "      <td>0</td>\n",
       "      <td>0</td>\n",
       "    </tr>\n",
       "    <tr>\n",
       "      <th>Banaswadi</th>\n",
       "      <td>0</td>\n",
       "      <td>0</td>\n",
       "      <td>0</td>\n",
       "      <td>0</td>\n",
       "      <td>0</td>\n",
       "      <td>0</td>\n",
       "      <td>0</td>\n",
       "      <td>0</td>\n",
       "      <td>0</td>\n",
       "      <td>44</td>\n",
       "      <td>...</td>\n",
       "      <td>0</td>\n",
       "      <td>0</td>\n",
       "      <td>0</td>\n",
       "      <td>0</td>\n",
       "      <td>0</td>\n",
       "      <td>0</td>\n",
       "      <td>0</td>\n",
       "      <td>0</td>\n",
       "      <td>0</td>\n",
       "      <td>0</td>\n",
       "    </tr>\n",
       "    <tr>\n",
       "      <th>Bannerghatta Road</th>\n",
       "      <td>251</td>\n",
       "      <td>0</td>\n",
       "      <td>751</td>\n",
       "      <td>8</td>\n",
       "      <td>0</td>\n",
       "      <td>1</td>\n",
       "      <td>0</td>\n",
       "      <td>1</td>\n",
       "      <td>0</td>\n",
       "      <td>0</td>\n",
       "      <td>...</td>\n",
       "      <td>1</td>\n",
       "      <td>0</td>\n",
       "      <td>0</td>\n",
       "      <td>0</td>\n",
       "      <td>0</td>\n",
       "      <td>0</td>\n",
       "      <td>0</td>\n",
       "      <td>1</td>\n",
       "      <td>0</td>\n",
       "      <td>0</td>\n",
       "    </tr>\n",
       "    <tr>\n",
       "      <th>Basavanagudi</th>\n",
       "      <td>0</td>\n",
       "      <td>177</td>\n",
       "      <td>0</td>\n",
       "      <td>334</td>\n",
       "      <td>0</td>\n",
       "      <td>3</td>\n",
       "      <td>0</td>\n",
       "      <td>1</td>\n",
       "      <td>0</td>\n",
       "      <td>0</td>\n",
       "      <td>...</td>\n",
       "      <td>30</td>\n",
       "      <td>0</td>\n",
       "      <td>0</td>\n",
       "      <td>0</td>\n",
       "      <td>0</td>\n",
       "      <td>0</td>\n",
       "      <td>4</td>\n",
       "      <td>21</td>\n",
       "      <td>0</td>\n",
       "      <td>0</td>\n",
       "    </tr>\n",
       "    <tr>\n",
       "      <th>...</th>\n",
       "      <td>...</td>\n",
       "      <td>...</td>\n",
       "      <td>...</td>\n",
       "      <td>...</td>\n",
       "      <td>...</td>\n",
       "      <td>...</td>\n",
       "      <td>...</td>\n",
       "      <td>...</td>\n",
       "      <td>...</td>\n",
       "      <td>...</td>\n",
       "      <td>...</td>\n",
       "      <td>...</td>\n",
       "      <td>...</td>\n",
       "      <td>...</td>\n",
       "      <td>...</td>\n",
       "      <td>...</td>\n",
       "      <td>...</td>\n",
       "      <td>...</td>\n",
       "      <td>...</td>\n",
       "      <td>...</td>\n",
       "      <td>...</td>\n",
       "    </tr>\n",
       "    <tr>\n",
       "      <th>West Bangalore</th>\n",
       "      <td>0</td>\n",
       "      <td>0</td>\n",
       "      <td>0</td>\n",
       "      <td>0</td>\n",
       "      <td>0</td>\n",
       "      <td>0</td>\n",
       "      <td>0</td>\n",
       "      <td>0</td>\n",
       "      <td>0</td>\n",
       "      <td>0</td>\n",
       "      <td>...</td>\n",
       "      <td>0</td>\n",
       "      <td>0</td>\n",
       "      <td>2</td>\n",
       "      <td>0</td>\n",
       "      <td>0</td>\n",
       "      <td>0</td>\n",
       "      <td>4</td>\n",
       "      <td>0</td>\n",
       "      <td>0</td>\n",
       "      <td>0</td>\n",
       "    </tr>\n",
       "    <tr>\n",
       "      <th>Whitefield</th>\n",
       "      <td>0</td>\n",
       "      <td>0</td>\n",
       "      <td>0</td>\n",
       "      <td>0</td>\n",
       "      <td>3</td>\n",
       "      <td>1</td>\n",
       "      <td>623</td>\n",
       "      <td>1</td>\n",
       "      <td>0</td>\n",
       "      <td>0</td>\n",
       "      <td>...</td>\n",
       "      <td>1</td>\n",
       "      <td>1</td>\n",
       "      <td>0</td>\n",
       "      <td>91</td>\n",
       "      <td>0</td>\n",
       "      <td>1</td>\n",
       "      <td>0</td>\n",
       "      <td>1</td>\n",
       "      <td>3</td>\n",
       "      <td>1373</td>\n",
       "    </tr>\n",
       "    <tr>\n",
       "      <th>Wilson Garden</th>\n",
       "      <td>0</td>\n",
       "      <td>0</td>\n",
       "      <td>0</td>\n",
       "      <td>22</td>\n",
       "      <td>0</td>\n",
       "      <td>15</td>\n",
       "      <td>0</td>\n",
       "      <td>9</td>\n",
       "      <td>0</td>\n",
       "      <td>0</td>\n",
       "      <td>...</td>\n",
       "      <td>22</td>\n",
       "      <td>9</td>\n",
       "      <td>0</td>\n",
       "      <td>0</td>\n",
       "      <td>0</td>\n",
       "      <td>0</td>\n",
       "      <td>0</td>\n",
       "      <td>48</td>\n",
       "      <td>0</td>\n",
       "      <td>0</td>\n",
       "    </tr>\n",
       "    <tr>\n",
       "      <th>Yelahanka</th>\n",
       "      <td>0</td>\n",
       "      <td>0</td>\n",
       "      <td>0</td>\n",
       "      <td>0</td>\n",
       "      <td>0</td>\n",
       "      <td>0</td>\n",
       "      <td>0</td>\n",
       "      <td>0</td>\n",
       "      <td>0</td>\n",
       "      <td>0</td>\n",
       "      <td>...</td>\n",
       "      <td>0</td>\n",
       "      <td>0</td>\n",
       "      <td>2</td>\n",
       "      <td>0</td>\n",
       "      <td>3</td>\n",
       "      <td>0</td>\n",
       "      <td>0</td>\n",
       "      <td>0</td>\n",
       "      <td>0</td>\n",
       "      <td>0</td>\n",
       "    </tr>\n",
       "    <tr>\n",
       "      <th>Yeshwantpur</th>\n",
       "      <td>0</td>\n",
       "      <td>0</td>\n",
       "      <td>0</td>\n",
       "      <td>0</td>\n",
       "      <td>0</td>\n",
       "      <td>0</td>\n",
       "      <td>0</td>\n",
       "      <td>0</td>\n",
       "      <td>0</td>\n",
       "      <td>0</td>\n",
       "      <td>...</td>\n",
       "      <td>0</td>\n",
       "      <td>0</td>\n",
       "      <td>73</td>\n",
       "      <td>0</td>\n",
       "      <td>44</td>\n",
       "      <td>0</td>\n",
       "      <td>2</td>\n",
       "      <td>0</td>\n",
       "      <td>0</td>\n",
       "      <td>0</td>\n",
       "    </tr>\n",
       "  </tbody>\n",
       "</table>\n",
       "<p>93 rows × 30 columns</p>\n",
       "</div>"
      ],
      "text/plain": [
       "City                BTM  Banashankari  Bannerghatta Road  Basavanagudi  \\\n",
       "location                                                                 \n",
       "BTM                1114             0                260            30   \n",
       "Banashankari          1           484                  0           275   \n",
       "Banaswadi             0             0                  0             0   \n",
       "Bannerghatta Road   251             0                751             8   \n",
       "Basavanagudi          0           177                  0           334   \n",
       "...                 ...           ...                ...           ...   \n",
       "West Bangalore        0             0                  0             0   \n",
       "Whitefield            0             0                  0             0   \n",
       "Wilson Garden         0             0                  0            22   \n",
       "Yelahanka             0             0                  0             0   \n",
       "Yeshwantpur           0             0                  0             0   \n",
       "\n",
       "City               Bellandur  Brigade Road  Brookefield  Church Street  \\\n",
       "location                                                                 \n",
       "BTM                        1             2            1              0   \n",
       "Banashankari               1             1            0              2   \n",
       "Banaswadi                  0             0            0              0   \n",
       "Bannerghatta Road          0             1            0              1   \n",
       "Basavanagudi               0             3            0              1   \n",
       "...                      ...           ...          ...            ...   \n",
       "West Bangalore             0             0            0              0   \n",
       "Whitefield                 3             1          623              1   \n",
       "Wilson Garden              0            15            0              9   \n",
       "Yelahanka                  0             0            0              0   \n",
       "Yeshwantpur                0             0            0              0   \n",
       "\n",
       "City               Electronic City  Frazer Town  ...  Lavelle Road  MG Road  \\\n",
       "location                                         ...                          \n",
       "BTM                              0            1  ...             2        2   \n",
       "Banashankari                     0            1  ...             1        1   \n",
       "Banaswadi                        0           44  ...             0        0   \n",
       "Bannerghatta Road                0            0  ...             1        0   \n",
       "Basavanagudi                     0            0  ...            30        0   \n",
       "...                            ...          ...  ...           ...      ...   \n",
       "West Bangalore                   0            0  ...             0        0   \n",
       "Whitefield                       0            0  ...             1        1   \n",
       "Wilson Garden                    0            0  ...            22        9   \n",
       "Yelahanka                        0            0  ...             0        0   \n",
       "Yeshwantpur                      0            0  ...             0        0   \n",
       "\n",
       "City               Malleshwaram  Marathahalli  New BEL Road  Old Airport Road  \\\n",
       "location                                                                        \n",
       "BTM                           0             1             0                 1   \n",
       "Banashankari                  0             0             0                 0   \n",
       "Banaswadi                     0             0             0                 0   \n",
       "Bannerghatta Road             0             0             0                 0   \n",
       "Basavanagudi                  0             0             0                 0   \n",
       "...                         ...           ...           ...               ...   \n",
       "West Bangalore                2             0             0                 0   \n",
       "Whitefield                    0            91             0                 1   \n",
       "Wilson Garden                 0             0             0                 0   \n",
       "Yelahanka                     2             0             3                 0   \n",
       "Yeshwantpur                  73             0            44                 0   \n",
       "\n",
       "City               Rajajinagar  Residency Road  Sarjapur Road  Whitefield  \n",
       "location                                                                   \n",
       "BTM                          0               1              1           0  \n",
       "Banashankari                 0               1              0           0  \n",
       "Banaswadi                    0               0              0           0  \n",
       "Bannerghatta Road            0               1              0           0  \n",
       "Basavanagudi                 4              21              0           0  \n",
       "...                        ...             ...            ...         ...  \n",
       "West Bangalore               4               0              0           0  \n",
       "Whitefield                   0               1              3        1373  \n",
       "Wilson Garden                0              48              0           0  \n",
       "Yelahanka                    0               0              0           0  \n",
       "Yeshwantpur                  2               0              0           0  \n",
       "\n",
       "[93 rows x 30 columns]"
      ]
     },
     "execution_count": 220,
     "metadata": {},
     "output_type": "execute_result"
    }
   ],
   "source": [
    "# Creating a contingency table\n",
    "\n",
    "contingency_table = pd.crosstab(df.location, df.City)\n",
    "contingency_table"
   ]
  },
  {
   "cell_type": "code",
   "execution_count": 221,
   "id": "0b5ad3f3",
   "metadata": {},
   "outputs": [],
   "source": [
    "# Performing the chi-square test\n",
    "\n",
    "chi2, p_value, _, _ = chi2_contingency(contingency_table)"
   ]
  },
  {
   "cell_type": "code",
   "execution_count": 222,
   "id": "8931d593",
   "metadata": {},
   "outputs": [
    {
     "name": "stdout",
     "output_type": "stream",
     "text": [
      "Chi-square test statistic: 480878.3331075323\n",
      "p-value: 0.0\n"
     ]
    }
   ],
   "source": [
    "# Printing the chi-square test statistic and p-value\n",
    "\n",
    "print(\"Chi-square test statistic:\", chi2)\n",
    "print(\"p-value:\", p_value)"
   ]
  },
  {
   "cell_type": "markdown",
   "id": "1034ce2c",
   "metadata": {},
   "source": [
    "**Observation:**\n",
    "\n",
    "Since we have a high p-value it indicates that the columns are independent of each other."
   ]
  },
  {
   "cell_type": "markdown",
   "id": "8d27ab00",
   "metadata": {},
   "source": [
    "<a id='location'></a>\n",
    "## 5.5 `location` column"
   ]
  },
  {
   "cell_type": "code",
   "execution_count": 223,
   "id": "55ee0141",
   "metadata": {},
   "outputs": [
    {
     "data": {
      "text/plain": [
       "BTM                      5056\n",
       "HSR                      2494\n",
       "Koramangala 5th Block    2479\n",
       "JP Nagar                 2218\n",
       "Whitefield               2105\n",
       "                         ... \n",
       "West Bangalore              6\n",
       "Yelahanka                   5\n",
       "Jakkur                      3\n",
       "Rajarajeshwari Nagar        2\n",
       "Peenya                      1\n",
       "Name: location, Length: 93, dtype: int64"
      ]
     },
     "execution_count": 223,
     "metadata": {},
     "output_type": "execute_result"
    }
   ],
   "source": [
    "location = df.location.value_counts()\n",
    "location"
   ]
  },
  {
   "cell_type": "markdown",
   "id": "fc310618",
   "metadata": {},
   "source": [
    "**Observation:**\n",
    "\n",
    "Here we can see that there are many locations with less number of restaurants because of which the unique locations count is going upto **93**. To reduce this no. we will cluster the location types having values less than 300 into a location type called **Others**."
   ]
  },
  {
   "cell_type": "markdown",
   "id": "11347c80",
   "metadata": {},
   "source": [
    "#### Checking the list of locations having value less than 300"
   ]
  },
  {
   "cell_type": "code",
   "execution_count": 224,
   "id": "76b7b46d",
   "metadata": {},
   "outputs": [
    {
     "data": {
      "text/plain": [
       "Koramangala 8th Block            294\n",
       "Vasanth Nagar                    293\n",
       "Jeevan Bhima Nagar               268\n",
       "Wilson Garden                    246\n",
       "Bommanahalli                     236\n",
       "Koramangala 3rd Block            215\n",
       "Thippasandra                     191\n",
       "Kumaraswamy Layout               191\n",
       "Nagawara                         187\n",
       "Basaveshwara Nagar               187\n",
       "Seshadripuram                    165\n",
       "Hennur                           159\n",
       "Majestic                         155\n",
       "HBR Layout                       153\n",
       "Infantry Road                    150\n",
       "Race Course Road                 139\n",
       "City Market                      122\n",
       "Yeshwantpur                      119\n",
       "ITPL Main Road, Whitefield       113\n",
       "Varthur Main Road, Whitefield    109\n",
       "South Bangalore                  107\n",
       "Koramangala 2nd Block            102\n",
       "Kaggadasapura                    101\n",
       "Hosur Road                        98\n",
       "CV Raman Nagar                    89\n",
       "Vijay Nagar                       78\n",
       "RT Nagar                          78\n",
       "Sanjay Nagar                      76\n",
       "Sadashiv Nagar                    63\n",
       "Sahakara Nagar                    53\n",
       "Koramangala                       48\n",
       "East Bangalore                    43\n",
       "Jalahalli                         38\n",
       "Magadi Road                       34\n",
       "Rammurthy Nagar                   32\n",
       "Langford Town                     27\n",
       "Sankey Road                       27\n",
       "Old Madras Road                   22\n",
       "Mysore Road                       22\n",
       "Kanakapura Road                   19\n",
       "KR Puram                          18\n",
       "Uttarahalli                       17\n",
       "Hebbal                            14\n",
       "North Bangalore                   14\n",
       "Nagarbhavi                         9\n",
       "Kengeri                            8\n",
       "Central Bangalore                  8\n",
       "West Bangalore                     6\n",
       "Yelahanka                          5\n",
       "Jakkur                             3\n",
       "Rajarajeshwari Nagar               2\n",
       "Peenya                             1\n",
       "Name: location, dtype: int64"
      ]
     },
     "execution_count": 224,
     "metadata": {},
     "output_type": "execute_result"
    }
   ],
   "source": [
    "location_having_value_less_than_300 = location[location<300]\n",
    "location_having_value_less_than_300"
   ]
  },
  {
   "cell_type": "markdown",
   "id": "69d3fb54",
   "metadata": {},
   "source": [
    "#### Creating a function to cluster locations having value less than 300"
   ]
  },
  {
   "cell_type": "code",
   "execution_count": 225,
   "id": "8e7418f7",
   "metadata": {},
   "outputs": [],
   "source": [
    "def handle_location(value):\n",
    "    try:\n",
    "        if(value in location_having_value_less_than_300):\n",
    "            return 'Others'\n",
    "        else:\n",
    "            return value\n",
    "    except Exception as e:\n",
    "        print(\"Error:\", e)"
   ]
  },
  {
   "cell_type": "markdown",
   "id": "5c8aa821",
   "metadata": {},
   "source": [
    "#### Calling the above function"
   ]
  },
  {
   "cell_type": "code",
   "execution_count": 226,
   "id": "11bbec2d",
   "metadata": {},
   "outputs": [
    {
     "data": {
      "text/plain": [
       "BTM                      5056\n",
       "Others                   4954\n",
       "HSR                      2494\n",
       "Koramangala 5th Block    2479\n",
       "JP Nagar                 2218\n",
       "Whitefield               2105\n",
       "Indiranagar              2026\n",
       "Jayanagar                1916\n",
       "Marathahalli             1805\n",
       "Bannerghatta Road        1609\n",
       "Bellandur                1268\n",
       "Electronic City          1246\n",
       "Koramangala 1st Block    1236\n",
       "Brigade Road             1210\n",
       "Koramangala 7th Block    1174\n",
       "Koramangala 6th Block    1127\n",
       "Sarjapur Road            1047\n",
       "Koramangala 4th Block    1017\n",
       "Ulsoor                   1011\n",
       "Banashankari              902\n",
       "MG Road                   893\n",
       "Kalyan Nagar              841\n",
       "Richmond Road             803\n",
       "Malleshwaram              721\n",
       "Frazer Town               714\n",
       "Basavanagudi              684\n",
       "Residency Road            671\n",
       "Brookefield               656\n",
       "New BEL Road              644\n",
       "Banaswadi                 640\n",
       "Kammanahalli              639\n",
       "Rajajinagar               591\n",
       "Church Street             566\n",
       "Lavelle Road              518\n",
       "Shanti Nagar              508\n",
       "Shivajinagar              498\n",
       "Cunningham Road           490\n",
       "Domlur                    482\n",
       "Old Airport Road          437\n",
       "Ejipura                   433\n",
       "Commercial Street         370\n",
       "St. Marks Road            343\n",
       "Name: location, dtype: int64"
      ]
     },
     "execution_count": 226,
     "metadata": {},
     "output_type": "execute_result"
    }
   ],
   "source": [
    "df.location = df.location.apply(handle_location)\n",
    "df.location.value_counts()"
   ]
  },
  {
   "cell_type": "markdown",
   "id": "8d2c634e",
   "metadata": {},
   "source": [
    "<a id='cost_for_two'></a>\n",
    "## 5.6 `Cost_for_two` column"
   ]
  },
  {
   "cell_type": "code",
   "execution_count": 227,
   "id": "13974784",
   "metadata": {},
   "outputs": [
    {
     "data": {
      "text/plain": [
       "array(['800', '300', '600', '700', '550', '500', '450', '650', '400',\n",
       "       '900', '200', '750', '150', '850', '100', '1,200', '350', '250',\n",
       "       '950', '1,000', '1,500', '1,300', '199', '80', '1,100', '160',\n",
       "       '1,600', '230', '130', '50', '190', '1,700', '1,400', '180',\n",
       "       '1,350', '2,200', '2,000', '1,800', '1,900', '330', '2,500',\n",
       "       '2,100', '3,000', '2,800', '3,400', '40', '1,250', '3,500',\n",
       "       '4,000', '2,400', '2,600', '120', '1,450', '469', '70', '3,200',\n",
       "       '60', '560', '240', '360', '6,000', '1,050', '2,300', '4,100',\n",
       "       '5,000', '3,700', '1,650', '2,700', '4,500', '140'], dtype=object)"
      ]
     },
     "execution_count": 227,
     "metadata": {},
     "output_type": "execute_result"
    }
   ],
   "source": [
    "df.Cost_for_two.unique()"
   ]
  },
  {
   "cell_type": "markdown",
   "id": "01557af4",
   "metadata": {},
   "source": [
    "**Observation:**\n",
    "\n",
    "Here we can see this column has values such as **'1,200', '1,050', '2,300'**.\n",
    "\n",
    "These type of comma separated values restrict the feature from being **int** or **float** datatype. To rectify this we will have to remove the commas from all the values."
   ]
  },
  {
   "cell_type": "markdown",
   "id": "0ae4bdd9",
   "metadata": {},
   "source": [
    "#### Creating a function to remove commas"
   ]
  },
  {
   "cell_type": "code",
   "execution_count": 228,
   "id": "79bfad8f",
   "metadata": {},
   "outputs": [],
   "source": [
    "def handle_comma(value):\n",
    "    value = str(value)\n",
    "    try:\n",
    "        if ',' in value:\n",
    "            value = value.replace(',', '')\n",
    "            return float(value)\n",
    "        else:\n",
    "            return float(value)\n",
    "    except Exception as e:\n",
    "        return (\"Raise Error\", e)"
   ]
  },
  {
   "cell_type": "markdown",
   "id": "42a9dc2e",
   "metadata": {},
   "source": [
    "#### Removing comma from `Cost_for_two` column"
   ]
  },
  {
   "cell_type": "code",
   "execution_count": 229,
   "id": "f812eaaf",
   "metadata": {},
   "outputs": [
    {
     "data": {
      "text/plain": [
       "array([ 800.,  300.,  600.,  700.,  550.,  500.,  450.,  650.,  400.,\n",
       "        900.,  200.,  750.,  150.,  850.,  100., 1200.,  350.,  250.,\n",
       "        950., 1000., 1500., 1300.,  199.,   80., 1100.,  160., 1600.,\n",
       "        230.,  130.,   50.,  190., 1700., 1400.,  180., 1350., 2200.,\n",
       "       2000., 1800., 1900.,  330., 2500., 2100., 3000., 2800., 3400.,\n",
       "         40., 1250., 3500., 4000., 2400., 2600.,  120., 1450.,  469.,\n",
       "         70., 3200.,   60.,  560.,  240.,  360., 6000., 1050., 2300.,\n",
       "       4100., 5000., 3700., 1650., 2700., 4500.,  140.])"
      ]
     },
     "execution_count": 229,
     "metadata": {},
     "output_type": "execute_result"
    }
   ],
   "source": [
    "df['Cost_for_two'] = df['Cost_for_two'].apply(handle_comma)\n",
    "df.Cost_for_two.unique()"
   ]
  },
  {
   "cell_type": "markdown",
   "id": "74138372",
   "metadata": {},
   "source": [
    "<a id='rest_type'></a>\n",
    "## 5.7 `rest_type` column"
   ]
  },
  {
   "cell_type": "code",
   "execution_count": 230,
   "id": "ea9aca4a",
   "metadata": {},
   "outputs": [
    {
     "name": "stdout",
     "output_type": "stream",
     "text": [
      "Quick Bites                   19010\n",
      "Casual Dining                 10253\n",
      "Cafe                           3682\n",
      "Delivery                       2574\n",
      "Dessert Parlor                 2242\n",
      "                              ...  \n",
      "Dessert Parlor, Kiosk             2\n",
      "Food Court, Beverage Shop         2\n",
      "Dessert Parlor, Food Court        2\n",
      "Quick Bites, Kiosk                1\n",
      "Sweet Shop, Dessert Parlor        1\n",
      "Name: rest_type, Length: 93, dtype: int64\n"
     ]
    }
   ],
   "source": [
    "rest_type = df.rest_type.value_counts(ascending = False)\n",
    "print(rest_type)"
   ]
  },
  {
   "cell_type": "markdown",
   "id": "9eb6cb46",
   "metadata": {},
   "source": [
    "**Observation:**\n",
    "\n",
    "Here we can see that there are many restaurant types which are less in number because of which the unique restaurant type value is going upto **93**. To reduce this no. we can cluster the restaurant types having values less than 1000 into a new restaurant type called **Others**."
   ]
  },
  {
   "cell_type": "markdown",
   "id": "5518d08d",
   "metadata": {},
   "source": [
    "#### Checking the list of restaurant types having value less than 1000"
   ]
  },
  {
   "cell_type": "code",
   "execution_count": 231,
   "id": "b6568c32",
   "metadata": {},
   "outputs": [
    {
     "data": {
      "text/plain": [
       "Beverage Shop                 863\n",
       "Bar                           686\n",
       "Food Court                    616\n",
       "Sweet Shop                    468\n",
       "Bar, Casual Dining            411\n",
       "                             ... \n",
       "Dessert Parlor, Kiosk           2\n",
       "Food Court, Beverage Shop       2\n",
       "Dessert Parlor, Food Court      2\n",
       "Quick Bites, Kiosk              1\n",
       "Sweet Shop, Dessert Parlor      1\n",
       "Name: rest_type, Length: 85, dtype: int64"
      ]
     },
     "execution_count": 231,
     "metadata": {},
     "output_type": "execute_result"
    }
   ],
   "source": [
    "rest_type_less_than_1000 = rest_type[rest_type<1000]\n",
    "rest_type_less_than_1000"
   ]
  },
  {
   "cell_type": "markdown",
   "id": "0cae246c",
   "metadata": {},
   "source": [
    "#### Creating a function to cluster restaurant types having value less than 1000"
   ]
  },
  {
   "cell_type": "code",
   "execution_count": 232,
   "id": "6a64608d",
   "metadata": {},
   "outputs": [],
   "source": [
    "def handle_rest_type(value):\n",
    "    try:\n",
    "        if(value in rest_type_less_than_1000):\n",
    "            return 'Others'\n",
    "        else:\n",
    "            return value\n",
    "    except Exception as e:\n",
    "        print(\"Error:\", e)"
   ]
  },
  {
   "cell_type": "markdown",
   "id": "25d30cc2",
   "metadata": {},
   "source": [
    "#### Calling the above function"
   ]
  },
  {
   "cell_type": "code",
   "execution_count": 233,
   "id": "59e649e5",
   "metadata": {},
   "outputs": [
    {
     "data": {
      "text/plain": [
       "Quick Bites           19010\n",
       "Casual Dining         10253\n",
       "Others                 9003\n",
       "Cafe                   3682\n",
       "Delivery               2574\n",
       "Dessert Parlor         2242\n",
       "Takeaway, Delivery     2008\n",
       "Bakery                 1140\n",
       "Casual Dining, Bar     1130\n",
       "Name: rest_type, dtype: int64"
      ]
     },
     "execution_count": 233,
     "metadata": {},
     "output_type": "execute_result"
    }
   ],
   "source": [
    "df.rest_type = df.rest_type.apply(handle_rest_type)\n",
    "df.rest_type.value_counts()"
   ]
  },
  {
   "cell_type": "markdown",
   "id": "8956a245",
   "metadata": {},
   "source": [
    "<a id='cuisines'></a>\n",
    "## 5.8 `cuisines` column"
   ]
  },
  {
   "cell_type": "code",
   "execution_count": 234,
   "id": "29fcb9f8",
   "metadata": {},
   "outputs": [
    {
     "data": {
      "text/plain": [
       "North Indian                                2852\n",
       "North Indian, Chinese                       2351\n",
       "South Indian                                1820\n",
       "Biryani                                      903\n",
       "Bakery, Desserts                             898\n",
       "                                            ... \n",
       "North Indian, Chinese, Oriya, Mithai           1\n",
       "Beverages, Burger                              1\n",
       "North Indian, Mughlai, Lucknowi                1\n",
       "Continental, Thai, North Indian, Chinese       1\n",
       "North Indian, Chinese, Arabian, Momos          1\n",
       "Name: cuisines, Length: 2704, dtype: int64"
      ]
     },
     "execution_count": 234,
     "metadata": {},
     "output_type": "execute_result"
    }
   ],
   "source": [
    "cuisines = df.cuisines.value_counts()\n",
    "cuisines"
   ]
  },
  {
   "cell_type": "markdown",
   "id": "53aae7b7",
   "metadata": {},
   "source": [
    "**Observation:**\n",
    "\n",
    "Here we can see that there are many cuisines which are less in number because of which the unique cuisines count is going upto **2704**. To reduce this no. we can cluster the cuisines types having values less than 100 into a cuisine type called **Others**."
   ]
  },
  {
   "cell_type": "markdown",
   "id": "e2921836",
   "metadata": {},
   "source": [
    "#### Checking the list of cuisines having value less than 100"
   ]
  },
  {
   "cell_type": "code",
   "execution_count": 235,
   "id": "f9d6c3a0",
   "metadata": {},
   "outputs": [
    {
     "data": {
      "text/plain": [
       "North Indian, Continental, Chinese          97\n",
       "Juices                                      94\n",
       "Fast Food, North Indian                     93\n",
       "Bengali, North Indian                       93\n",
       "Beverages, Juices                           90\n",
       "                                            ..\n",
       "North Indian, Chinese, Oriya, Mithai         1\n",
       "Beverages, Burger                            1\n",
       "North Indian, Mughlai, Lucknowi              1\n",
       "Continental, Thai, North Indian, Chinese     1\n",
       "North Indian, Chinese, Arabian, Momos        1\n",
       "Name: cuisines, Length: 2635, dtype: int64"
      ]
     },
     "execution_count": 235,
     "metadata": {},
     "output_type": "execute_result"
    }
   ],
   "source": [
    "cuisines_having_value_less_than_100 = cuisines[cuisines<100]\n",
    "cuisines_having_value_less_than_100"
   ]
  },
  {
   "cell_type": "markdown",
   "id": "06e712c6",
   "metadata": {},
   "source": [
    "#### Creating a function to cluster cuisines having value less than 100"
   ]
  },
  {
   "cell_type": "code",
   "execution_count": 236,
   "id": "9bd98339",
   "metadata": {},
   "outputs": [],
   "source": [
    "def handle_cuisines(value):\n",
    "    try:\n",
    "        if(value in cuisines_having_value_less_than_100):\n",
    "            return 'Others'\n",
    "        else:\n",
    "            return value\n",
    "    except Exception as e:\n",
    "        print(\"Error:\", e)"
   ]
  },
  {
   "cell_type": "markdown",
   "id": "fa19e6e0",
   "metadata": {},
   "source": [
    "#### Calling the above function"
   ]
  },
  {
   "cell_type": "code",
   "execution_count": 237,
   "id": "e7bcd76d",
   "metadata": {},
   "outputs": [
    {
     "data": {
      "text/plain": [
       "Others                                 26159\n",
       "North Indian                            2852\n",
       "North Indian, Chinese                   2351\n",
       "South Indian                            1820\n",
       "Biryani                                  903\n",
       "                                       ...  \n",
       "South Indian, Chinese, North Indian      105\n",
       "North Indian, Mughlai, Chinese           104\n",
       "South Indian, Fast Food                  104\n",
       "Italian, Pizza                           102\n",
       "North Indian, Chinese, Seafood           102\n",
       "Name: cuisines, Length: 70, dtype: int64"
      ]
     },
     "execution_count": 237,
     "metadata": {},
     "output_type": "execute_result"
    }
   ],
   "source": [
    "df.cuisines = df.cuisines.apply(handle_cuisines)\n",
    "df.cuisines.value_counts()"
   ]
  },
  {
   "cell_type": "markdown",
   "id": "e1e8179c",
   "metadata": {},
   "source": [
    "<a id='Type_of_service'></a>\n",
    "## 5.9 `Type_of_service` column"
   ]
  },
  {
   "cell_type": "code",
   "execution_count": 238,
   "id": "9783607b",
   "metadata": {
    "scrolled": true
   },
   "outputs": [
    {
     "data": {
      "text/plain": [
       "Delivery              25579\n",
       "Dine-out              17562\n",
       "Desserts               3559\n",
       "Cafes                  1703\n",
       "Drinks & nightlife     1084\n",
       "Buffet                  869\n",
       "Pubs and bars           686\n",
       "Name: Type_of_service, dtype: int64"
      ]
     },
     "execution_count": 238,
     "metadata": {},
     "output_type": "execute_result"
    }
   ],
   "source": [
    "df.Type_of_service.value_counts()"
   ]
  },
  {
   "cell_type": "markdown",
   "id": "07b800b1",
   "metadata": {},
   "source": [
    "**Observation:**\n",
    "\n",
    "Here we can see that there are few unique values for types of services. So we do not make any changes."
   ]
  },
  {
   "cell_type": "markdown",
   "id": "20830204",
   "metadata": {},
   "source": [
    "<a id='City'></a>\n",
    "## 5.10 `City` column"
   ]
  },
  {
   "cell_type": "code",
   "execution_count": 239,
   "id": "c73fc50f",
   "metadata": {
    "scrolled": false
   },
   "outputs": [
    {
     "data": {
      "text/plain": [
       "BTM                      3239\n",
       "Koramangala 7th Block    2901\n",
       "Koramangala 5th Block    2799\n",
       "Koramangala 4th Block    2742\n",
       "Koramangala 6th Block    2588\n",
       "Jayanagar                2351\n",
       "JP Nagar                 2072\n",
       "Indiranagar              1834\n",
       "Church Street            1785\n",
       "MG Road                  1780\n",
       "Brigade Road             1764\n",
       "HSR                      1727\n",
       "Lavelle Road             1726\n",
       "Marathahalli             1629\n",
       "Bannerghatta Road        1600\n",
       "Residency Road           1600\n",
       "Whitefield               1589\n",
       "Brookefield              1495\n",
       "Old Airport Road         1380\n",
       "Kammanahalli             1305\n",
       "Kalyan Nagar             1285\n",
       "Basavanagudi             1264\n",
       "Sarjapur Road            1235\n",
       "Electronic City          1214\n",
       "Bellandur                1205\n",
       "Frazer Town              1179\n",
       "Malleshwaram             1092\n",
       "Rajajinagar              1068\n",
       "Banashankari              859\n",
       "New BEL Road              735\n",
       "Name: City, dtype: int64"
      ]
     },
     "execution_count": 239,
     "metadata": {},
     "output_type": "execute_result"
    }
   ],
   "source": [
    "df.City.value_counts()"
   ]
  },
  {
   "cell_type": "markdown",
   "id": "3a9b9f13",
   "metadata": {},
   "source": [
    "**Observation:**\n",
    "\n",
    "Here we can see that there are few unique values for City. So we do not make any changes."
   ]
  },
  {
   "cell_type": "markdown",
   "id": "72c48733",
   "metadata": {},
   "source": [
    "# Summary Statistics"
   ]
  },
  {
   "cell_type": "markdown",
   "id": "6e2303a1",
   "metadata": {},
   "source": [
    "## 1. Numerical variables"
   ]
  },
  {
   "cell_type": "code",
   "execution_count": 240,
   "id": "1fb67610",
   "metadata": {},
   "outputs": [
    {
     "data": {
      "text/html": [
       "<div>\n",
       "<style scoped>\n",
       "    .dataframe tbody tr th:only-of-type {\n",
       "        vertical-align: middle;\n",
       "    }\n",
       "\n",
       "    .dataframe tbody tr th {\n",
       "        vertical-align: top;\n",
       "    }\n",
       "\n",
       "    .dataframe thead th {\n",
       "        text-align: right;\n",
       "    }\n",
       "</style>\n",
       "<table border=\"1\" class=\"dataframe\">\n",
       "  <thead>\n",
       "    <tr style=\"text-align: right;\">\n",
       "      <th></th>\n",
       "      <th>rate</th>\n",
       "      <th>votes</th>\n",
       "      <th>Cost_for_two</th>\n",
       "    </tr>\n",
       "  </thead>\n",
       "  <tbody>\n",
       "    <tr>\n",
       "      <th>count</th>\n",
       "      <td>51042.000000</td>\n",
       "      <td>51042.000000</td>\n",
       "      <td>51042.000000</td>\n",
       "    </tr>\n",
       "    <tr>\n",
       "      <th>mean</th>\n",
       "      <td>3.701424</td>\n",
       "      <td>284.507700</td>\n",
       "      <td>555.782983</td>\n",
       "    </tr>\n",
       "    <tr>\n",
       "      <th>std</th>\n",
       "      <td>0.395197</td>\n",
       "      <td>805.927478</td>\n",
       "      <td>439.293333</td>\n",
       "    </tr>\n",
       "    <tr>\n",
       "      <th>min</th>\n",
       "      <td>1.800000</td>\n",
       "      <td>0.000000</td>\n",
       "      <td>40.000000</td>\n",
       "    </tr>\n",
       "    <tr>\n",
       "      <th>25%</th>\n",
       "      <td>3.500000</td>\n",
       "      <td>7.000000</td>\n",
       "      <td>300.000000</td>\n",
       "    </tr>\n",
       "    <tr>\n",
       "      <th>50%</th>\n",
       "      <td>3.700142</td>\n",
       "      <td>41.000000</td>\n",
       "      <td>400.000000</td>\n",
       "    </tr>\n",
       "    <tr>\n",
       "      <th>75%</th>\n",
       "      <td>3.900000</td>\n",
       "      <td>199.000000</td>\n",
       "      <td>700.000000</td>\n",
       "    </tr>\n",
       "    <tr>\n",
       "      <th>max</th>\n",
       "      <td>4.900000</td>\n",
       "      <td>16832.000000</td>\n",
       "      <td>6000.000000</td>\n",
       "    </tr>\n",
       "  </tbody>\n",
       "</table>\n",
       "</div>"
      ],
      "text/plain": [
       "               rate         votes  Cost_for_two\n",
       "count  51042.000000  51042.000000  51042.000000\n",
       "mean       3.701424    284.507700    555.782983\n",
       "std        0.395197    805.927478    439.293333\n",
       "min        1.800000      0.000000     40.000000\n",
       "25%        3.500000      7.000000    300.000000\n",
       "50%        3.700142     41.000000    400.000000\n",
       "75%        3.900000    199.000000    700.000000\n",
       "max        4.900000  16832.000000   6000.000000"
      ]
     },
     "execution_count": 240,
     "metadata": {},
     "output_type": "execute_result"
    }
   ],
   "source": [
    "# describing the numerical data\n",
    "\n",
    "df.describe()"
   ]
  },
  {
   "cell_type": "markdown",
   "id": "a2a62000",
   "metadata": {},
   "source": [
    "**Observations:**\n",
    "\n",
    "The above output illustrates the summary statistics of all the numeric variables like the mean, median(50%), minimum and maximum values, along with the standard deviation.\n",
    "\n",
    "1. The average rating of a a restaurant is 3.7.\n",
    "2. The no. of votes for restaurants range between 0 to 16832.\n",
    "3. The mean cost for two for restaurants is 556 and ranges between 40 to 6000."
   ]
  },
  {
   "cell_type": "markdown",
   "id": "f25dd34e",
   "metadata": {},
   "source": [
    "## 2. Categorical variables"
   ]
  },
  {
   "cell_type": "code",
   "execution_count": 241,
   "id": "c61f0718",
   "metadata": {},
   "outputs": [
    {
     "data": {
      "text/html": [
       "<div>\n",
       "<style scoped>\n",
       "    .dataframe tbody tr th:only-of-type {\n",
       "        vertical-align: middle;\n",
       "    }\n",
       "\n",
       "    .dataframe tbody tr th {\n",
       "        vertical-align: top;\n",
       "    }\n",
       "\n",
       "    .dataframe thead th {\n",
       "        text-align: right;\n",
       "    }\n",
       "</style>\n",
       "<table border=\"1\" class=\"dataframe\">\n",
       "  <thead>\n",
       "    <tr style=\"text-align: right;\">\n",
       "      <th></th>\n",
       "      <th>name</th>\n",
       "      <th>online_order</th>\n",
       "      <th>book_table</th>\n",
       "      <th>location</th>\n",
       "      <th>rest_type</th>\n",
       "      <th>cuisines</th>\n",
       "      <th>Type_of_service</th>\n",
       "      <th>City</th>\n",
       "    </tr>\n",
       "  </thead>\n",
       "  <tbody>\n",
       "    <tr>\n",
       "      <th>count</th>\n",
       "      <td>51042</td>\n",
       "      <td>51042</td>\n",
       "      <td>51042</td>\n",
       "      <td>51042</td>\n",
       "      <td>51042</td>\n",
       "      <td>51042</td>\n",
       "      <td>51042</td>\n",
       "      <td>51042</td>\n",
       "    </tr>\n",
       "    <tr>\n",
       "      <th>unique</th>\n",
       "      <td>8723</td>\n",
       "      <td>2</td>\n",
       "      <td>2</td>\n",
       "      <td>42</td>\n",
       "      <td>9</td>\n",
       "      <td>70</td>\n",
       "      <td>7</td>\n",
       "      <td>30</td>\n",
       "    </tr>\n",
       "    <tr>\n",
       "      <th>top</th>\n",
       "      <td>Cafe Coffee Day</td>\n",
       "      <td>Yes</td>\n",
       "      <td>No</td>\n",
       "      <td>BTM</td>\n",
       "      <td>Quick Bites</td>\n",
       "      <td>Others</td>\n",
       "      <td>Delivery</td>\n",
       "      <td>BTM</td>\n",
       "    </tr>\n",
       "    <tr>\n",
       "      <th>freq</th>\n",
       "      <td>96</td>\n",
       "      <td>30228</td>\n",
       "      <td>44626</td>\n",
       "      <td>5056</td>\n",
       "      <td>19010</td>\n",
       "      <td>26159</td>\n",
       "      <td>25579</td>\n",
       "      <td>3239</td>\n",
       "    </tr>\n",
       "  </tbody>\n",
       "</table>\n",
       "</div>"
      ],
      "text/plain": [
       "                   name online_order book_table location    rest_type  \\\n",
       "count             51042        51042      51042    51042        51042   \n",
       "unique             8723            2          2       42            9   \n",
       "top     Cafe Coffee Day          Yes         No      BTM  Quick Bites   \n",
       "freq                 96        30228      44626     5056        19010   \n",
       "\n",
       "       cuisines Type_of_service   City  \n",
       "count     51042           51042  51042  \n",
       "unique       70               7     30  \n",
       "top      Others        Delivery    BTM  \n",
       "freq      26159           25579   3239  "
      ]
     },
     "execution_count": 241,
     "metadata": {},
     "output_type": "execute_result"
    }
   ],
   "source": [
    "# Describing the categorical data\n",
    "\n",
    "df.describe(include = object)"
   ]
  },
  {
   "cell_type": "markdown",
   "id": "52c20902",
   "metadata": {},
   "source": [
    "**Observations:**\n",
    "\n",
    "The summary statistics for categorical variables can be interpreted as:\n",
    "\n",
    "*count* - Total number of observations\n",
    "*unique* - Number of unique classes in a variable\n",
    "*top* - The most repeated class\n",
    "*freq* - Frequency of most repeated class\n",
    "\n",
    "1. The total no. of unique restaurants in the dataset is 51042.\n",
    "2. Majority of the restaurants have online ordering facility with a frequency of 30228 out of 51042 restuarnts.\n",
    "3. Majority of the restaurants do not have table booking facility with a frequency of 44626 out of 51042 restuarnts.\n",
    "4. There are 42 unique locations in which the the restaurants are located."
   ]
  },
  {
   "cell_type": "markdown",
   "id": "0a2a6ff8",
   "metadata": {},
   "source": [
    "## Discovering Outliers"
   ]
  },
  {
   "cell_type": "markdown",
   "id": "a257856a",
   "metadata": {},
   "source": [
    "#### 1. Bifurcating dataset into two different datasets (numeric and categorical)"
   ]
  },
  {
   "cell_type": "code",
   "execution_count": 242,
   "id": "75283af4",
   "metadata": {},
   "outputs": [
    {
     "data": {
      "text/html": [
       "<div>\n",
       "<style scoped>\n",
       "    .dataframe tbody tr th:only-of-type {\n",
       "        vertical-align: middle;\n",
       "    }\n",
       "\n",
       "    .dataframe tbody tr th {\n",
       "        vertical-align: top;\n",
       "    }\n",
       "\n",
       "    .dataframe thead th {\n",
       "        text-align: right;\n",
       "    }\n",
       "</style>\n",
       "<table border=\"1\" class=\"dataframe\">\n",
       "  <thead>\n",
       "    <tr style=\"text-align: right;\">\n",
       "      <th></th>\n",
       "      <th>rate</th>\n",
       "      <th>votes</th>\n",
       "      <th>Cost_for_two</th>\n",
       "    </tr>\n",
       "  </thead>\n",
       "  <tbody>\n",
       "    <tr>\n",
       "      <th>0</th>\n",
       "      <td>4.100000</td>\n",
       "      <td>775</td>\n",
       "      <td>800.0</td>\n",
       "    </tr>\n",
       "    <tr>\n",
       "      <th>1</th>\n",
       "      <td>4.100000</td>\n",
       "      <td>787</td>\n",
       "      <td>800.0</td>\n",
       "    </tr>\n",
       "    <tr>\n",
       "      <th>2</th>\n",
       "      <td>3.800000</td>\n",
       "      <td>918</td>\n",
       "      <td>800.0</td>\n",
       "    </tr>\n",
       "    <tr>\n",
       "      <th>3</th>\n",
       "      <td>3.700000</td>\n",
       "      <td>88</td>\n",
       "      <td>300.0</td>\n",
       "    </tr>\n",
       "    <tr>\n",
       "      <th>4</th>\n",
       "      <td>3.800000</td>\n",
       "      <td>166</td>\n",
       "      <td>600.0</td>\n",
       "    </tr>\n",
       "    <tr>\n",
       "      <th>...</th>\n",
       "      <td>...</td>\n",
       "      <td>...</td>\n",
       "      <td>...</td>\n",
       "    </tr>\n",
       "    <tr>\n",
       "      <th>51712</th>\n",
       "      <td>3.600000</td>\n",
       "      <td>27</td>\n",
       "      <td>1500.0</td>\n",
       "    </tr>\n",
       "    <tr>\n",
       "      <th>51713</th>\n",
       "      <td>3.700142</td>\n",
       "      <td>0</td>\n",
       "      <td>600.0</td>\n",
       "    </tr>\n",
       "    <tr>\n",
       "      <th>51714</th>\n",
       "      <td>3.700142</td>\n",
       "      <td>0</td>\n",
       "      <td>2000.0</td>\n",
       "    </tr>\n",
       "    <tr>\n",
       "      <th>51715</th>\n",
       "      <td>4.300000</td>\n",
       "      <td>236</td>\n",
       "      <td>2500.0</td>\n",
       "    </tr>\n",
       "    <tr>\n",
       "      <th>51716</th>\n",
       "      <td>3.400000</td>\n",
       "      <td>13</td>\n",
       "      <td>1500.0</td>\n",
       "    </tr>\n",
       "  </tbody>\n",
       "</table>\n",
       "<p>51042 rows × 3 columns</p>\n",
       "</div>"
      ],
      "text/plain": [
       "           rate  votes  Cost_for_two\n",
       "0      4.100000    775         800.0\n",
       "1      4.100000    787         800.0\n",
       "2      3.800000    918         800.0\n",
       "3      3.700000     88         300.0\n",
       "4      3.800000    166         600.0\n",
       "...         ...    ...           ...\n",
       "51712  3.600000     27        1500.0\n",
       "51713  3.700142      0         600.0\n",
       "51714  3.700142      0        2000.0\n",
       "51715  4.300000    236        2500.0\n",
       "51716  3.400000     13        1500.0\n",
       "\n",
       "[51042 rows x 3 columns]"
      ]
     },
     "execution_count": 242,
     "metadata": {},
     "output_type": "execute_result"
    }
   ],
   "source": [
    "# select the numerical features in the dataset using 'select_dtypes()'\n",
    "\n",
    "df_num = df.select_dtypes(include=np.number)\n",
    "df_num"
   ]
  },
  {
   "cell_type": "markdown",
   "id": "5c7066d3",
   "metadata": {},
   "source": [
    "#### 2. Plot boxplot for numerical data"
   ]
  },
  {
   "cell_type": "code",
   "execution_count": 243,
   "id": "7fb81967",
   "metadata": {},
   "outputs": [
    {
     "data": {
      "image/png": "[encoded data removed]",
      "text/plain": [
       "<Figure size 500x500 with 1 Axes>"
      ]
     },
     "metadata": {},
     "output_type": "display_data"
    },
    {
     "data": {
      "image/png": "[encoded data removed]",
      "text/plain": [
       "<Figure size 500x500 with 1 Axes>"
      ]
     },
     "metadata": {},
     "output_type": "display_data"
    },
    {
     "data": {
      "image/png": "[encoded data removed]",
      "text/plain": [
       "<Figure size 500x500 with 1 Axes>"
      ]
     },
     "metadata": {},
     "output_type": "display_data"
    }
   ],
   "source": [
    "# Setting the plot size\n",
    "\n",
    "plt.rcParams['figure.figsize'] = (5,5)\n",
    "\n",
    "\n",
    "# Creating a boxplot for rate column\n",
    "\n",
    "df_num.boxplot(column=['rate'])\n",
    "plt.show()\n",
    "\n",
    "\n",
    "# Creating a boxplot for votes column\n",
    "\n",
    "df_num.boxplot(column=['votes'])\n",
    "plt.show()\n",
    "\n",
    "\n",
    "# Creating a boxplot for Cost_for_two column\n",
    "\n",
    "df_num.boxplot(column=['Cost_for_two'])\n",
    "plt.show()"
   ]
  },
  {
   "cell_type": "markdown",
   "id": "3972f135",
   "metadata": {},
   "source": [
    "**Observations:**\n",
    "\n",
    "From the above plot, we notice that for all the variables there are points above the upper extreme and below the lower extreme - these points are outliers."
   ]
  },
  {
   "cell_type": "markdown",
   "id": "05d08550",
   "metadata": {},
   "source": [
    "# Checking the cleaned data"
   ]
  },
  {
   "cell_type": "code",
   "execution_count": 244,
   "id": "9b830101",
   "metadata": {
    "scrolled": true
   },
   "outputs": [
    {
     "data": {
      "text/html": [
       "<div>\n",
       "<style scoped>\n",
       "    .dataframe tbody tr th:only-of-type {\n",
       "        vertical-align: middle;\n",
       "    }\n",
       "\n",
       "    .dataframe tbody tr th {\n",
       "        vertical-align: top;\n",
       "    }\n",
       "\n",
       "    .dataframe thead th {\n",
       "        text-align: right;\n",
       "    }\n",
       "</style>\n",
       "<table border=\"1\" class=\"dataframe\">\n",
       "  <thead>\n",
       "    <tr style=\"text-align: right;\">\n",
       "      <th></th>\n",
       "      <th>name</th>\n",
       "      <th>online_order</th>\n",
       "      <th>book_table</th>\n",
       "      <th>rate</th>\n",
       "      <th>votes</th>\n",
       "      <th>location</th>\n",
       "      <th>rest_type</th>\n",
       "      <th>cuisines</th>\n",
       "      <th>Cost_for_two</th>\n",
       "      <th>Type_of_service</th>\n",
       "      <th>City</th>\n",
       "    </tr>\n",
       "  </thead>\n",
       "  <tbody>\n",
       "    <tr>\n",
       "      <th>0</th>\n",
       "      <td>Jalsa</td>\n",
       "      <td>Yes</td>\n",
       "      <td>Yes</td>\n",
       "      <td>4.1</td>\n",
       "      <td>775</td>\n",
       "      <td>Banashankari</td>\n",
       "      <td>Casual Dining</td>\n",
       "      <td>North Indian, Mughlai, Chinese</td>\n",
       "      <td>800.0</td>\n",
       "      <td>Buffet</td>\n",
       "      <td>Banashankari</td>\n",
       "    </tr>\n",
       "    <tr>\n",
       "      <th>1</th>\n",
       "      <td>Spice Elephant</td>\n",
       "      <td>Yes</td>\n",
       "      <td>No</td>\n",
       "      <td>4.1</td>\n",
       "      <td>787</td>\n",
       "      <td>Banashankari</td>\n",
       "      <td>Casual Dining</td>\n",
       "      <td>Others</td>\n",
       "      <td>800.0</td>\n",
       "      <td>Buffet</td>\n",
       "      <td>Banashankari</td>\n",
       "    </tr>\n",
       "    <tr>\n",
       "      <th>2</th>\n",
       "      <td>San Churro Cafe</td>\n",
       "      <td>Yes</td>\n",
       "      <td>No</td>\n",
       "      <td>3.8</td>\n",
       "      <td>918</td>\n",
       "      <td>Banashankari</td>\n",
       "      <td>Others</td>\n",
       "      <td>Others</td>\n",
       "      <td>800.0</td>\n",
       "      <td>Buffet</td>\n",
       "      <td>Banashankari</td>\n",
       "    </tr>\n",
       "    <tr>\n",
       "      <th>3</th>\n",
       "      <td>Addhuri Udupi Bhojana</td>\n",
       "      <td>No</td>\n",
       "      <td>No</td>\n",
       "      <td>3.7</td>\n",
       "      <td>88</td>\n",
       "      <td>Banashankari</td>\n",
       "      <td>Quick Bites</td>\n",
       "      <td>South Indian, North Indian</td>\n",
       "      <td>300.0</td>\n",
       "      <td>Buffet</td>\n",
       "      <td>Banashankari</td>\n",
       "    </tr>\n",
       "    <tr>\n",
       "      <th>4</th>\n",
       "      <td>Grand Village</td>\n",
       "      <td>No</td>\n",
       "      <td>No</td>\n",
       "      <td>3.8</td>\n",
       "      <td>166</td>\n",
       "      <td>Basavanagudi</td>\n",
       "      <td>Casual Dining</td>\n",
       "      <td>Others</td>\n",
       "      <td>600.0</td>\n",
       "      <td>Buffet</td>\n",
       "      <td>Banashankari</td>\n",
       "    </tr>\n",
       "  </tbody>\n",
       "</table>\n",
       "</div>"
      ],
      "text/plain": [
       "                    name online_order book_table  rate  votes      location  \\\n",
       "0                  Jalsa          Yes        Yes   4.1    775  Banashankari   \n",
       "1         Spice Elephant          Yes         No   4.1    787  Banashankari   \n",
       "2        San Churro Cafe          Yes         No   3.8    918  Banashankari   \n",
       "3  Addhuri Udupi Bhojana           No         No   3.7     88  Banashankari   \n",
       "4          Grand Village           No         No   3.8    166  Basavanagudi   \n",
       "\n",
       "       rest_type                        cuisines  Cost_for_two  \\\n",
       "0  Casual Dining  North Indian, Mughlai, Chinese         800.0   \n",
       "1  Casual Dining                          Others         800.0   \n",
       "2         Others                          Others         800.0   \n",
       "3    Quick Bites      South Indian, North Indian         300.0   \n",
       "4  Casual Dining                          Others         600.0   \n",
       "\n",
       "  Type_of_service          City  \n",
       "0          Buffet  Banashankari  \n",
       "1          Buffet  Banashankari  \n",
       "2          Buffet  Banashankari  \n",
       "3          Buffet  Banashankari  \n",
       "4          Buffet  Banashankari  "
      ]
     },
     "execution_count": 244,
     "metadata": {},
     "output_type": "execute_result"
    }
   ],
   "source": [
    "df.head()"
   ]
  },
  {
   "cell_type": "code",
   "execution_count": 245,
   "id": "109f0270",
   "metadata": {
    "scrolled": false
   },
   "outputs": [
    {
     "data": {
      "text/plain": [
       "name                object\n",
       "online_order        object\n",
       "book_table          object\n",
       "rate               float64\n",
       "votes                int64\n",
       "location            object\n",
       "rest_type           object\n",
       "cuisines            object\n",
       "Cost_for_two       float64\n",
       "Type_of_service     object\n",
       "City                object\n",
       "dtype: object"
      ]
     },
     "execution_count": 245,
     "metadata": {},
     "output_type": "execute_result"
    }
   ],
   "source": [
    "df.dtypes"
   ]
  },
  {
   "cell_type": "code",
   "execution_count": 246,
   "id": "71183148",
   "metadata": {},
   "outputs": [
    {
     "data": {
      "text/plain": [
       "(51042, 11)"
      ]
     },
     "execution_count": 246,
     "metadata": {},
     "output_type": "execute_result"
    }
   ],
   "source": [
    "df.shape"
   ]
  },
  {
   "cell_type": "code",
   "execution_count": 247,
   "id": "22c1d82d",
   "metadata": {},
   "outputs": [],
   "source": [
    "# Saving the final dataset to excel\n",
    "\n",
    "df.to_excel(\"zomatoclean_final.xlsx\")"
   ]
  },
  {
   "cell_type": "markdown",
   "id": "e34c7e49-9fcf-4eb5-a714-7c1b3b66fa99",
   "metadata": {},
   "source": [
    "# Model Training and Evaluation"
   ]
  },
  {
   "cell_type": "code",
   "execution_count": 248,
   "id": "16ce973a-de62-44f5-a1ce-2d74358ed25a",
   "metadata": {},
   "outputs": [
    {
     "data": {
      "text/html": [
       "<div>\n",
       "<style scoped>\n",
       "    .dataframe tbody tr th:only-of-type {\n",
       "        vertical-align: middle;\n",
       "    }\n",
       "\n",
       "    .dataframe tbody tr th {\n",
       "        vertical-align: top;\n",
       "    }\n",
       "\n",
       "    .dataframe thead th {\n",
       "        text-align: right;\n",
       "    }\n",
       "</style>\n",
       "<table border=\"1\" class=\"dataframe\">\n",
       "  <thead>\n",
       "    <tr style=\"text-align: right;\">\n",
       "      <th></th>\n",
       "      <th>name</th>\n",
       "      <th>online_order</th>\n",
       "      <th>book_table</th>\n",
       "      <th>rate</th>\n",
       "      <th>votes</th>\n",
       "      <th>location</th>\n",
       "      <th>rest_type</th>\n",
       "      <th>cuisines</th>\n",
       "      <th>Cost_for_two</th>\n",
       "      <th>Type_of_service</th>\n",
       "      <th>City</th>\n",
       "    </tr>\n",
       "  </thead>\n",
       "  <tbody>\n",
       "    <tr>\n",
       "      <th>0</th>\n",
       "      <td>Jalsa</td>\n",
       "      <td>Yes</td>\n",
       "      <td>Yes</td>\n",
       "      <td>4.100000</td>\n",
       "      <td>775</td>\n",
       "      <td>Banashankari</td>\n",
       "      <td>Casual Dining</td>\n",
       "      <td>North Indian, Mughlai, Chinese</td>\n",
       "      <td>800</td>\n",
       "      <td>Buffet</td>\n",
       "      <td>Banashankari</td>\n",
       "    </tr>\n",
       "    <tr>\n",
       "      <th>1</th>\n",
       "      <td>Spice Elephant</td>\n",
       "      <td>Yes</td>\n",
       "      <td>No</td>\n",
       "      <td>4.100000</td>\n",
       "      <td>787</td>\n",
       "      <td>Banashankari</td>\n",
       "      <td>Casual Dining</td>\n",
       "      <td>Others</td>\n",
       "      <td>800</td>\n",
       "      <td>Buffet</td>\n",
       "      <td>Banashankari</td>\n",
       "    </tr>\n",
       "    <tr>\n",
       "      <th>2</th>\n",
       "      <td>San Churro Cafe</td>\n",
       "      <td>Yes</td>\n",
       "      <td>No</td>\n",
       "      <td>3.800000</td>\n",
       "      <td>918</td>\n",
       "      <td>Banashankari</td>\n",
       "      <td>Others</td>\n",
       "      <td>Others</td>\n",
       "      <td>800</td>\n",
       "      <td>Buffet</td>\n",
       "      <td>Banashankari</td>\n",
       "    </tr>\n",
       "    <tr>\n",
       "      <th>3</th>\n",
       "      <td>Addhuri Udupi Bhojana</td>\n",
       "      <td>No</td>\n",
       "      <td>No</td>\n",
       "      <td>3.700000</td>\n",
       "      <td>88</td>\n",
       "      <td>Banashankari</td>\n",
       "      <td>Quick Bites</td>\n",
       "      <td>South Indian, North Indian</td>\n",
       "      <td>300</td>\n",
       "      <td>Buffet</td>\n",
       "      <td>Banashankari</td>\n",
       "    </tr>\n",
       "    <tr>\n",
       "      <th>4</th>\n",
       "      <td>Grand Village</td>\n",
       "      <td>No</td>\n",
       "      <td>No</td>\n",
       "      <td>3.800000</td>\n",
       "      <td>166</td>\n",
       "      <td>Basavanagudi</td>\n",
       "      <td>Casual Dining</td>\n",
       "      <td>Others</td>\n",
       "      <td>600</td>\n",
       "      <td>Buffet</td>\n",
       "      <td>Banashankari</td>\n",
       "    </tr>\n",
       "    <tr>\n",
       "      <th>...</th>\n",
       "      <td>...</td>\n",
       "      <td>...</td>\n",
       "      <td>...</td>\n",
       "      <td>...</td>\n",
       "      <td>...</td>\n",
       "      <td>...</td>\n",
       "      <td>...</td>\n",
       "      <td>...</td>\n",
       "      <td>...</td>\n",
       "      <td>...</td>\n",
       "      <td>...</td>\n",
       "    </tr>\n",
       "    <tr>\n",
       "      <th>51712</th>\n",
       "      <td>Best Brews - Four Points by Sheraton Bengaluru...</td>\n",
       "      <td>No</td>\n",
       "      <td>No</td>\n",
       "      <td>3.600000</td>\n",
       "      <td>27</td>\n",
       "      <td>Whitefield</td>\n",
       "      <td>Others</td>\n",
       "      <td>Continental</td>\n",
       "      <td>1500</td>\n",
       "      <td>Pubs and bars</td>\n",
       "      <td>Whitefield</td>\n",
       "    </tr>\n",
       "    <tr>\n",
       "      <th>51713</th>\n",
       "      <td>Vinod Bar And Restaurant</td>\n",
       "      <td>No</td>\n",
       "      <td>No</td>\n",
       "      <td>3.700142</td>\n",
       "      <td>0</td>\n",
       "      <td>Whitefield</td>\n",
       "      <td>Others</td>\n",
       "      <td>Finger Food</td>\n",
       "      <td>600</td>\n",
       "      <td>Pubs and bars</td>\n",
       "      <td>Whitefield</td>\n",
       "    </tr>\n",
       "    <tr>\n",
       "      <th>51714</th>\n",
       "      <td>Plunge - Sheraton Grand Bengaluru Whitefield H...</td>\n",
       "      <td>No</td>\n",
       "      <td>No</td>\n",
       "      <td>3.700142</td>\n",
       "      <td>0</td>\n",
       "      <td>Whitefield</td>\n",
       "      <td>Others</td>\n",
       "      <td>Finger Food</td>\n",
       "      <td>2000</td>\n",
       "      <td>Pubs and bars</td>\n",
       "      <td>Whitefield</td>\n",
       "    </tr>\n",
       "    <tr>\n",
       "      <th>51715</th>\n",
       "      <td>Chime - Sheraton Grand Bengaluru Whitefield Ho...</td>\n",
       "      <td>No</td>\n",
       "      <td>Yes</td>\n",
       "      <td>4.300000</td>\n",
       "      <td>236</td>\n",
       "      <td>Others</td>\n",
       "      <td>Others</td>\n",
       "      <td>Finger Food</td>\n",
       "      <td>2500</td>\n",
       "      <td>Pubs and bars</td>\n",
       "      <td>Whitefield</td>\n",
       "    </tr>\n",
       "    <tr>\n",
       "      <th>51716</th>\n",
       "      <td>The Nest - The Den Bengaluru</td>\n",
       "      <td>No</td>\n",
       "      <td>No</td>\n",
       "      <td>3.400000</td>\n",
       "      <td>13</td>\n",
       "      <td>Others</td>\n",
       "      <td>Others</td>\n",
       "      <td>Others</td>\n",
       "      <td>1500</td>\n",
       "      <td>Pubs and bars</td>\n",
       "      <td>Whitefield</td>\n",
       "    </tr>\n",
       "  </tbody>\n",
       "</table>\n",
       "<p>51042 rows × 11 columns</p>\n",
       "</div>"
      ],
      "text/plain": [
       "                                                    name online_order  \\\n",
       "0                                                  Jalsa          Yes   \n",
       "1                                         Spice Elephant          Yes   \n",
       "2                                        San Churro Cafe          Yes   \n",
       "3                                  Addhuri Udupi Bhojana           No   \n",
       "4                                          Grand Village           No   \n",
       "...                                                  ...          ...   \n",
       "51712  Best Brews - Four Points by Sheraton Bengaluru...           No   \n",
       "51713                           Vinod Bar And Restaurant           No   \n",
       "51714  Plunge - Sheraton Grand Bengaluru Whitefield H...           No   \n",
       "51715  Chime - Sheraton Grand Bengaluru Whitefield Ho...           No   \n",
       "51716                       The Nest - The Den Bengaluru           No   \n",
       "\n",
       "      book_table      rate  votes      location      rest_type  \\\n",
       "0            Yes  4.100000    775  Banashankari  Casual Dining   \n",
       "1             No  4.100000    787  Banashankari  Casual Dining   \n",
       "2             No  3.800000    918  Banashankari         Others   \n",
       "3             No  3.700000     88  Banashankari    Quick Bites   \n",
       "4             No  3.800000    166  Basavanagudi  Casual Dining   \n",
       "...          ...       ...    ...           ...            ...   \n",
       "51712         No  3.600000     27    Whitefield         Others   \n",
       "51713         No  3.700142      0    Whitefield         Others   \n",
       "51714         No  3.700142      0    Whitefield         Others   \n",
       "51715        Yes  4.300000    236        Others         Others   \n",
       "51716         No  3.400000     13        Others         Others   \n",
       "\n",
       "                             cuisines  Cost_for_two Type_of_service  \\\n",
       "0      North Indian, Mughlai, Chinese           800          Buffet   \n",
       "1                              Others           800          Buffet   \n",
       "2                              Others           800          Buffet   \n",
       "3          South Indian, North Indian           300          Buffet   \n",
       "4                              Others           600          Buffet   \n",
       "...                               ...           ...             ...   \n",
       "51712                     Continental          1500   Pubs and bars   \n",
       "51713                     Finger Food           600   Pubs and bars   \n",
       "51714                     Finger Food          2000   Pubs and bars   \n",
       "51715                     Finger Food          2500   Pubs and bars   \n",
       "51716                          Others          1500   Pubs and bars   \n",
       "\n",
       "               City  \n",
       "0      Banashankari  \n",
       "1      Banashankari  \n",
       "2      Banashankari  \n",
       "3      Banashankari  \n",
       "4      Banashankari  \n",
       "...             ...  \n",
       "51712    Whitefield  \n",
       "51713    Whitefield  \n",
       "51714    Whitefield  \n",
       "51715    Whitefield  \n",
       "51716    Whitefield  \n",
       "\n",
       "[51042 rows x 11 columns]"
      ]
     },
     "execution_count": 248,
     "metadata": {},
     "output_type": "execute_result"
    }
   ],
   "source": [
    "# Reading the cleaned data\n",
    "\n",
    "dataset = pd.read_excel(\"zomatoclean_final.xlsx\",index_col=0)\n",
    "dataset"
   ]
  },
  {
   "cell_type": "markdown",
   "id": "b1b69db4-3c73-453c-9ce4-9b52b7a6db4b",
   "metadata": {},
   "source": [
    "# Preparing data for model training - Encoding"
   ]
  },
  {
   "cell_type": "code",
   "execution_count": 249,
   "id": "a9d57120",
   "metadata": {},
   "outputs": [
    {
     "data": {
      "text/html": [
       "<div>\n",
       "<style scoped>\n",
       "    .dataframe tbody tr th:only-of-type {\n",
       "        vertical-align: middle;\n",
       "    }\n",
       "\n",
       "    .dataframe tbody tr th {\n",
       "        vertical-align: top;\n",
       "    }\n",
       "\n",
       "    .dataframe thead th {\n",
       "        text-align: right;\n",
       "    }\n",
       "</style>\n",
       "<table border=\"1\" class=\"dataframe\">\n",
       "  <thead>\n",
       "    <tr style=\"text-align: right;\">\n",
       "      <th></th>\n",
       "      <th>name</th>\n",
       "      <th>online_order</th>\n",
       "      <th>book_table</th>\n",
       "      <th>rate</th>\n",
       "      <th>votes</th>\n",
       "      <th>location</th>\n",
       "      <th>rest_type</th>\n",
       "      <th>cuisines</th>\n",
       "      <th>Cost_for_two</th>\n",
       "      <th>Type_of_service</th>\n",
       "      <th>City</th>\n",
       "    </tr>\n",
       "  </thead>\n",
       "  <tbody>\n",
       "    <tr>\n",
       "      <th>0</th>\n",
       "      <td>Jalsa</td>\n",
       "      <td>Yes</td>\n",
       "      <td>Yes</td>\n",
       "      <td>4.1</td>\n",
       "      <td>775</td>\n",
       "      <td>Banashankari</td>\n",
       "      <td>Casual Dining</td>\n",
       "      <td>North Indian, Mughlai, Chinese</td>\n",
       "      <td>800</td>\n",
       "      <td>Buffet</td>\n",
       "      <td>Banashankari</td>\n",
       "    </tr>\n",
       "    <tr>\n",
       "      <th>1</th>\n",
       "      <td>Spice Elephant</td>\n",
       "      <td>Yes</td>\n",
       "      <td>No</td>\n",
       "      <td>4.1</td>\n",
       "      <td>787</td>\n",
       "      <td>Banashankari</td>\n",
       "      <td>Casual Dining</td>\n",
       "      <td>Others</td>\n",
       "      <td>800</td>\n",
       "      <td>Buffet</td>\n",
       "      <td>Banashankari</td>\n",
       "    </tr>\n",
       "    <tr>\n",
       "      <th>2</th>\n",
       "      <td>San Churro Cafe</td>\n",
       "      <td>Yes</td>\n",
       "      <td>No</td>\n",
       "      <td>3.8</td>\n",
       "      <td>918</td>\n",
       "      <td>Banashankari</td>\n",
       "      <td>Others</td>\n",
       "      <td>Others</td>\n",
       "      <td>800</td>\n",
       "      <td>Buffet</td>\n",
       "      <td>Banashankari</td>\n",
       "    </tr>\n",
       "    <tr>\n",
       "      <th>3</th>\n",
       "      <td>Addhuri Udupi Bhojana</td>\n",
       "      <td>No</td>\n",
       "      <td>No</td>\n",
       "      <td>3.7</td>\n",
       "      <td>88</td>\n",
       "      <td>Banashankari</td>\n",
       "      <td>Quick Bites</td>\n",
       "      <td>South Indian, North Indian</td>\n",
       "      <td>300</td>\n",
       "      <td>Buffet</td>\n",
       "      <td>Banashankari</td>\n",
       "    </tr>\n",
       "    <tr>\n",
       "      <th>4</th>\n",
       "      <td>Grand Village</td>\n",
       "      <td>No</td>\n",
       "      <td>No</td>\n",
       "      <td>3.8</td>\n",
       "      <td>166</td>\n",
       "      <td>Basavanagudi</td>\n",
       "      <td>Casual Dining</td>\n",
       "      <td>Others</td>\n",
       "      <td>600</td>\n",
       "      <td>Buffet</td>\n",
       "      <td>Banashankari</td>\n",
       "    </tr>\n",
       "  </tbody>\n",
       "</table>\n",
       "</div>"
      ],
      "text/plain": [
       "                    name online_order book_table  rate  votes      location  \\\n",
       "0                  Jalsa          Yes        Yes   4.1    775  Banashankari   \n",
       "1         Spice Elephant          Yes         No   4.1    787  Banashankari   \n",
       "2        San Churro Cafe          Yes         No   3.8    918  Banashankari   \n",
       "3  Addhuri Udupi Bhojana           No         No   3.7     88  Banashankari   \n",
       "4          Grand Village           No         No   3.8    166  Basavanagudi   \n",
       "\n",
       "       rest_type                        cuisines  Cost_for_two  \\\n",
       "0  Casual Dining  North Indian, Mughlai, Chinese           800   \n",
       "1  Casual Dining                          Others           800   \n",
       "2         Others                          Others           800   \n",
       "3    Quick Bites      South Indian, North Indian           300   \n",
       "4  Casual Dining                          Others           600   \n",
       "\n",
       "  Type_of_service          City  \n",
       "0          Buffet  Banashankari  \n",
       "1          Buffet  Banashankari  \n",
       "2          Buffet  Banashankari  \n",
       "3          Buffet  Banashankari  \n",
       "4          Buffet  Banashankari  "
      ]
     },
     "execution_count": 249,
     "metadata": {},
     "output_type": "execute_result"
    }
   ],
   "source": [
    "training_data = dataset.copy()\n",
    "training_data.head()"
   ]
  },
  {
   "cell_type": "markdown",
   "id": "ebf415a3",
   "metadata": {},
   "source": [
    "#### Encoding book_table column"
   ]
  },
  {
   "cell_type": "code",
   "execution_count": 250,
   "id": "c4d595c7",
   "metadata": {},
   "outputs": [],
   "source": [
    "encoder_book_table = LabelEncoder()\n",
    "training_data.book_table = encoder_book_table.fit_transform(training_data.book_table)"
   ]
  },
  {
   "cell_type": "markdown",
   "id": "04ebef4f",
   "metadata": {},
   "source": [
    "#### Encoding online_order column"
   ]
  },
  {
   "cell_type": "code",
   "execution_count": 251,
   "id": "d259e7ba-c08d-407f-b756-4124485800bd",
   "metadata": {},
   "outputs": [],
   "source": [
    "encoder_online_order = LabelEncoder()\n",
    "training_data.online_order = encoder_online_order.fit_transform(training_data.online_order)"
   ]
  },
  {
   "cell_type": "markdown",
   "id": "24f03577",
   "metadata": {},
   "source": [
    "#### Encoding cuisines column"
   ]
  },
  {
   "cell_type": "code",
   "execution_count": 252,
   "id": "f43897c9-60fa-4766-b68b-27fdf48ee85c",
   "metadata": {},
   "outputs": [],
   "source": [
    "encoder_cuisines = LabelEncoder()\n",
    "training_data.cuisines = encoder_cuisines.fit_transform(training_data.cuisines)"
   ]
  },
  {
   "cell_type": "markdown",
   "id": "54245295",
   "metadata": {},
   "source": [
    "#### Encoding rest_type column"
   ]
  },
  {
   "cell_type": "code",
   "execution_count": 253,
   "id": "e4734671-72ae-4d58-821c-6e66b98c65a0",
   "metadata": {},
   "outputs": [],
   "source": [
    "encoder_rest_type = LabelEncoder()\n",
    "training_data.rest_type = encoder_rest_type.fit_transform(training_data.rest_type)"
   ]
  },
  {
   "cell_type": "markdown",
   "id": "cba3dec6",
   "metadata": {},
   "source": [
    "#### Encoding City column"
   ]
  },
  {
   "cell_type": "code",
   "execution_count": 254,
   "id": "4dc12dde-ef60-49e2-9bcd-a744ae181eed",
   "metadata": {},
   "outputs": [],
   "source": [
    "encoder_city = LabelEncoder()\n",
    "training_data.City = encoder_city.fit_transform(training_data.City)"
   ]
  },
  {
   "cell_type": "markdown",
   "id": "2bb97477",
   "metadata": {},
   "source": [
    "#### Encoding location column"
   ]
  },
  {
   "cell_type": "code",
   "execution_count": 255,
   "id": "fa579ea5",
   "metadata": {},
   "outputs": [],
   "source": [
    "encoder_city = LabelEncoder()\n",
    "training_data.location = encoder_city.fit_transform(training_data.City)"
   ]
  },
  {
   "cell_type": "markdown",
   "id": "e683e735",
   "metadata": {},
   "source": [
    "#### Encoding Type_of_service column"
   ]
  },
  {
   "cell_type": "code",
   "execution_count": 256,
   "id": "a636b3e1",
   "metadata": {},
   "outputs": [],
   "source": [
    "encoder_city = LabelEncoder()\n",
    "training_data.Type_of_service = encoder_city.fit_transform(training_data.City)"
   ]
  },
  {
   "cell_type": "markdown",
   "id": "894fab42",
   "metadata": {},
   "source": [
    "#### Reading the encoded data"
   ]
  },
  {
   "cell_type": "code",
   "execution_count": 257,
   "id": "e67eb3c6-74b6-4b61-b64a-f565f0a4b12f",
   "metadata": {},
   "outputs": [
    {
     "data": {
      "text/html": [
       "<div>\n",
       "<style scoped>\n",
       "    .dataframe tbody tr th:only-of-type {\n",
       "        vertical-align: middle;\n",
       "    }\n",
       "\n",
       "    .dataframe tbody tr th {\n",
       "        vertical-align: top;\n",
       "    }\n",
       "\n",
       "    .dataframe thead th {\n",
       "        text-align: right;\n",
       "    }\n",
       "</style>\n",
       "<table border=\"1\" class=\"dataframe\">\n",
       "  <thead>\n",
       "    <tr style=\"text-align: right;\">\n",
       "      <th></th>\n",
       "      <th>name</th>\n",
       "      <th>online_order</th>\n",
       "      <th>book_table</th>\n",
       "      <th>rate</th>\n",
       "      <th>votes</th>\n",
       "      <th>location</th>\n",
       "      <th>rest_type</th>\n",
       "      <th>cuisines</th>\n",
       "      <th>Cost_for_two</th>\n",
       "      <th>Type_of_service</th>\n",
       "      <th>City</th>\n",
       "    </tr>\n",
       "  </thead>\n",
       "  <tbody>\n",
       "    <tr>\n",
       "      <th>0</th>\n",
       "      <td>Jalsa</td>\n",
       "      <td>1</td>\n",
       "      <td>1</td>\n",
       "      <td>4.100000</td>\n",
       "      <td>775</td>\n",
       "      <td>1</td>\n",
       "      <td>2</td>\n",
       "      <td>54</td>\n",
       "      <td>800</td>\n",
       "      <td>1</td>\n",
       "      <td>1</td>\n",
       "    </tr>\n",
       "    <tr>\n",
       "      <th>1</th>\n",
       "      <td>Spice Elephant</td>\n",
       "      <td>1</td>\n",
       "      <td>0</td>\n",
       "      <td>4.100000</td>\n",
       "      <td>787</td>\n",
       "      <td>1</td>\n",
       "      <td>2</td>\n",
       "      <td>58</td>\n",
       "      <td>800</td>\n",
       "      <td>1</td>\n",
       "      <td>1</td>\n",
       "    </tr>\n",
       "    <tr>\n",
       "      <th>2</th>\n",
       "      <td>San Churro Cafe</td>\n",
       "      <td>1</td>\n",
       "      <td>0</td>\n",
       "      <td>3.800000</td>\n",
       "      <td>918</td>\n",
       "      <td>1</td>\n",
       "      <td>6</td>\n",
       "      <td>58</td>\n",
       "      <td>800</td>\n",
       "      <td>1</td>\n",
       "      <td>1</td>\n",
       "    </tr>\n",
       "    <tr>\n",
       "      <th>3</th>\n",
       "      <td>Addhuri Udupi Bhojana</td>\n",
       "      <td>0</td>\n",
       "      <td>0</td>\n",
       "      <td>3.700000</td>\n",
       "      <td>88</td>\n",
       "      <td>1</td>\n",
       "      <td>7</td>\n",
       "      <td>66</td>\n",
       "      <td>300</td>\n",
       "      <td>1</td>\n",
       "      <td>1</td>\n",
       "    </tr>\n",
       "    <tr>\n",
       "      <th>4</th>\n",
       "      <td>Grand Village</td>\n",
       "      <td>0</td>\n",
       "      <td>0</td>\n",
       "      <td>3.800000</td>\n",
       "      <td>166</td>\n",
       "      <td>1</td>\n",
       "      <td>2</td>\n",
       "      <td>58</td>\n",
       "      <td>600</td>\n",
       "      <td>1</td>\n",
       "      <td>1</td>\n",
       "    </tr>\n",
       "    <tr>\n",
       "      <th>...</th>\n",
       "      <td>...</td>\n",
       "      <td>...</td>\n",
       "      <td>...</td>\n",
       "      <td>...</td>\n",
       "      <td>...</td>\n",
       "      <td>...</td>\n",
       "      <td>...</td>\n",
       "      <td>...</td>\n",
       "      <td>...</td>\n",
       "      <td>...</td>\n",
       "      <td>...</td>\n",
       "    </tr>\n",
       "    <tr>\n",
       "      <th>51712</th>\n",
       "      <td>Best Brews - Four Points by Sheraton Bengaluru...</td>\n",
       "      <td>0</td>\n",
       "      <td>0</td>\n",
       "      <td>3.600000</td>\n",
       "      <td>27</td>\n",
       "      <td>29</td>\n",
       "      <td>6</td>\n",
       "      <td>26</td>\n",
       "      <td>1500</td>\n",
       "      <td>29</td>\n",
       "      <td>29</td>\n",
       "    </tr>\n",
       "    <tr>\n",
       "      <th>51713</th>\n",
       "      <td>Vinod Bar And Restaurant</td>\n",
       "      <td>0</td>\n",
       "      <td>0</td>\n",
       "      <td>3.700142</td>\n",
       "      <td>0</td>\n",
       "      <td>29</td>\n",
       "      <td>6</td>\n",
       "      <td>35</td>\n",
       "      <td>600</td>\n",
       "      <td>29</td>\n",
       "      <td>29</td>\n",
       "    </tr>\n",
       "    <tr>\n",
       "      <th>51714</th>\n",
       "      <td>Plunge - Sheraton Grand Bengaluru Whitefield H...</td>\n",
       "      <td>0</td>\n",
       "      <td>0</td>\n",
       "      <td>3.700142</td>\n",
       "      <td>0</td>\n",
       "      <td>29</td>\n",
       "      <td>6</td>\n",
       "      <td>35</td>\n",
       "      <td>2000</td>\n",
       "      <td>29</td>\n",
       "      <td>29</td>\n",
       "    </tr>\n",
       "    <tr>\n",
       "      <th>51715</th>\n",
       "      <td>Chime - Sheraton Grand Bengaluru Whitefield Ho...</td>\n",
       "      <td>0</td>\n",
       "      <td>1</td>\n",
       "      <td>4.300000</td>\n",
       "      <td>236</td>\n",
       "      <td>29</td>\n",
       "      <td>6</td>\n",
       "      <td>35</td>\n",
       "      <td>2500</td>\n",
       "      <td>29</td>\n",
       "      <td>29</td>\n",
       "    </tr>\n",
       "    <tr>\n",
       "      <th>51716</th>\n",
       "      <td>The Nest - The Den Bengaluru</td>\n",
       "      <td>0</td>\n",
       "      <td>0</td>\n",
       "      <td>3.400000</td>\n",
       "      <td>13</td>\n",
       "      <td>29</td>\n",
       "      <td>6</td>\n",
       "      <td>58</td>\n",
       "      <td>1500</td>\n",
       "      <td>29</td>\n",
       "      <td>29</td>\n",
       "    </tr>\n",
       "  </tbody>\n",
       "</table>\n",
       "<p>51042 rows × 11 columns</p>\n",
       "</div>"
      ],
      "text/plain": [
       "                                                    name  online_order  \\\n",
       "0                                                  Jalsa             1   \n",
       "1                                         Spice Elephant             1   \n",
       "2                                        San Churro Cafe             1   \n",
       "3                                  Addhuri Udupi Bhojana             0   \n",
       "4                                          Grand Village             0   \n",
       "...                                                  ...           ...   \n",
       "51712  Best Brews - Four Points by Sheraton Bengaluru...             0   \n",
       "51713                           Vinod Bar And Restaurant             0   \n",
       "51714  Plunge - Sheraton Grand Bengaluru Whitefield H...             0   \n",
       "51715  Chime - Sheraton Grand Bengaluru Whitefield Ho...             0   \n",
       "51716                       The Nest - The Den Bengaluru             0   \n",
       "\n",
       "       book_table      rate  votes  location  rest_type  cuisines  \\\n",
       "0               1  4.100000    775         1          2        54   \n",
       "1               0  4.100000    787         1          2        58   \n",
       "2               0  3.800000    918         1          6        58   \n",
       "3               0  3.700000     88         1          7        66   \n",
       "4               0  3.800000    166         1          2        58   \n",
       "...           ...       ...    ...       ...        ...       ...   \n",
       "51712           0  3.600000     27        29          6        26   \n",
       "51713           0  3.700142      0        29          6        35   \n",
       "51714           0  3.700142      0        29          6        35   \n",
       "51715           1  4.300000    236        29          6        35   \n",
       "51716           0  3.400000     13        29          6        58   \n",
       "\n",
       "       Cost_for_two  Type_of_service  City  \n",
       "0               800                1     1  \n",
       "1               800                1     1  \n",
       "2               800                1     1  \n",
       "3               300                1     1  \n",
       "4               600                1     1  \n",
       "...             ...              ...   ...  \n",
       "51712          1500               29    29  \n",
       "51713           600               29    29  \n",
       "51714          2000               29    29  \n",
       "51715          2500               29    29  \n",
       "51716          1500               29    29  \n",
       "\n",
       "[51042 rows x 11 columns]"
      ]
     },
     "execution_count": 257,
     "metadata": {},
     "output_type": "execute_result"
    }
   ],
   "source": [
    "training_data"
   ]
  },
  {
   "cell_type": "markdown",
   "id": "b9643f83-288d-41a7-b1ca-e8db9570a5ac",
   "metadata": {},
   "source": [
    "##### We don't need name column for training purpose so we can drop it"
   ]
  },
  {
   "cell_type": "markdown",
   "id": "ad31f21e",
   "metadata": {},
   "source": [
    "#### Dropping name column as the rating is independent of it"
   ]
  },
  {
   "cell_type": "code",
   "execution_count": 258,
   "id": "a04f98d0-bfb5-4fe3-b3e9-5044881e5dc5",
   "metadata": {},
   "outputs": [],
   "source": [
    "training_data.drop(columns=[\"name\"],inplace=True)"
   ]
  },
  {
   "cell_type": "markdown",
   "id": "c7d4aef9",
   "metadata": {},
   "source": [
    "#### Visualizing heatmap to find coorelation"
   ]
  },
  {
   "cell_type": "code",
   "execution_count": 259,
   "id": "26fa62b8-44c4-4638-bfa5-645fcd5e8352",
   "metadata": {},
   "outputs": [
    {
     "data": {
      "text/plain": [
       "<AxesSubplot:>"
      ]
     },
     "execution_count": 259,
     "metadata": {},
     "output_type": "execute_result"
    },
    {
     "data": {
      "image/png": "[encoded data removed]",
      "text/plain": [
       "<Figure size 500x500 with 2 Axes>"
      ]
     },
     "metadata": {},
     "output_type": "display_data"
    }
   ],
   "source": [
    "sns.heatmap(training_data.corr())"
   ]
  },
  {
   "cell_type": "markdown",
   "id": "61053f1d-281e-4b18-b1fb-1794e561f104",
   "metadata": {},
   "source": [
    "# Splitting Training and Test Data"
   ]
  },
  {
   "cell_type": "markdown",
   "id": "ac49383e",
   "metadata": {},
   "source": [
    "#### Displaying column name of the dataset"
   ]
  },
  {
   "cell_type": "code",
   "execution_count": 260,
   "id": "243998c4-7441-4945-b2ba-8e82215801c0",
   "metadata": {},
   "outputs": [
    {
     "data": {
      "text/plain": [
       "Index(['online_order', 'book_table', 'rate', 'votes', 'location', 'rest_type',\n",
       "       'cuisines', 'Cost_for_two', 'Type_of_service', 'City'],\n",
       "      dtype='object')"
      ]
     },
     "execution_count": 260,
     "metadata": {},
     "output_type": "execute_result"
    }
   ],
   "source": [
    "training_data.columns"
   ]
  },
  {
   "cell_type": "markdown",
   "id": "fd6883f8",
   "metadata": {},
   "source": [
    "#### Independent Variables"
   ]
  },
  {
   "cell_type": "code",
   "execution_count": 261,
   "id": "71575228-6211-4396-abe6-f2fcb4af4eba",
   "metadata": {},
   "outputs": [],
   "source": [
    "features = training_data.drop(columns = [\"rate\"])"
   ]
  },
  {
   "cell_type": "markdown",
   "id": "315df1e5",
   "metadata": {},
   "source": [
    "#### Dependent Variables"
   ]
  },
  {
   "cell_type": "code",
   "execution_count": 262,
   "id": "1acbe827-8ffd-438d-b8f4-8bc04df7ef02",
   "metadata": {},
   "outputs": [],
   "source": [
    "target = training_data[\"rate\"]"
   ]
  },
  {
   "cell_type": "markdown",
   "id": "60fb562f",
   "metadata": {},
   "source": [
    "#### Splitting training and test data"
   ]
  },
  {
   "cell_type": "code",
   "execution_count": 263,
   "id": "cab17ed7-8a47-48f6-a449-b167ae0c43d4",
   "metadata": {},
   "outputs": [],
   "source": [
    "X_train, X_test, y_train, y_test = train_test_split(features,target,test_size=0.1,random_state=10)"
   ]
  },
  {
   "cell_type": "markdown",
   "id": "c4120258",
   "metadata": {},
   "source": [
    "#### Finding shape of train and test data"
   ]
  },
  {
   "cell_type": "code",
   "execution_count": 264,
   "id": "3c279f7d-fc77-4ba3-8ca9-c89b6859e58d",
   "metadata": {},
   "outputs": [
    {
     "data": {
      "text/plain": [
       "((45937, 9), (5105, 9), (45937,), (5105,))"
      ]
     },
     "execution_count": 264,
     "metadata": {},
     "output_type": "execute_result"
    }
   ],
   "source": [
    "X_train.shape, X_test.shape, y_train.shape, y_test.shape"
   ]
  },
  {
   "cell_type": "markdown",
   "id": "dc4bd49f",
   "metadata": {
    "id": "w_AElwrKaljO",
    "papermill": {
     "duration": 0.035872,
     "end_time": "2022-09-14T17:56:00.727599",
     "exception": false,
     "start_time": "2022-09-14T17:56:00.691727",
     "status": "completed"
    },
    "tags": []
   },
   "source": [
    "## Linear Regression"
   ]
  },
  {
   "cell_type": "code",
   "execution_count": 265,
   "id": "5969de3d",
   "metadata": {
    "execution": {
     "iopub.execute_input": "2022-09-14T17:56:00.802210Z",
     "iopub.status.busy": "2022-09-14T17:56:00.801222Z",
     "iopub.status.idle": "2022-09-14T17:56:00.825891Z",
     "shell.execute_reply": "2022-09-14T17:56:00.824902Z"
    },
    "id": "f464NdsAaojX",
    "outputId": "28a0e6fc-39ad-483b-d2d6-03461cb9c88b",
    "papermill": {
     "duration": 0.066312,
     "end_time": "2022-09-14T17:56:00.830066",
     "exception": false,
     "start_time": "2022-09-14T17:56:00.763754",
     "status": "completed"
    },
    "tags": []
   },
   "outputs": [
    {
     "data": {
      "text/plain": [
       "LinearRegression()"
      ]
     },
     "execution_count": 265,
     "metadata": {},
     "output_type": "execute_result"
    }
   ],
   "source": [
    "lr_model = LinearRegression()\n",
    "\n",
    "lr_model.fit(X_train,y_train)"
   ]
  },
  {
   "cell_type": "code",
   "execution_count": 266,
   "id": "e5f33a5a",
   "metadata": {
    "execution": {
     "iopub.execute_input": "2022-09-14T17:56:00.911487Z",
     "iopub.status.busy": "2022-09-14T17:56:00.910800Z",
     "iopub.status.idle": "2022-09-14T17:56:00.936489Z",
     "shell.execute_reply": "2022-09-14T17:56:00.934960Z"
    },
    "id": "JTDvX6QOaqQ-",
    "outputId": "d029e468-38fd-4084-9f4e-d02af3f79d92",
    "papermill": {
     "duration": 0.069679,
     "end_time": "2022-09-14T17:56:00.941471",
     "exception": false,
     "start_time": "2022-09-14T17:56:00.871792",
     "status": "completed"
    },
    "tags": []
   },
   "outputs": [
    {
     "name": "stdout",
     "output_type": "stream",
     "text": [
      "MSE: 0.3225960839644401 MAPE: 0.0719207903536498\n"
     ]
    }
   ],
   "source": [
    "y_pred = lr_model.predict(X_test)\n",
    "\n",
    "lin_mse_score = mean_absolute_error(y_test,y_pred)\n",
    "lin_mape_score = mean_absolute_percentage_error(y_test,y_pred)\n",
    "\n",
    "print(\"MSE:\", lin_score, \"MAPE:\", lin_mape_score)"
   ]
  },
  {
   "cell_type": "markdown",
   "id": "c048ca31",
   "metadata": {},
   "source": [
    "## Decision Tree Regression"
   ]
  },
  {
   "cell_type": "code",
   "execution_count": 267,
   "id": "dfed89eb",
   "metadata": {},
   "outputs": [
    {
     "data": {
      "text/plain": [
       "DecisionTreeRegressor(min_samples_leaf=0.0001)"
      ]
     },
     "execution_count": 267,
     "metadata": {},
     "output_type": "execute_result"
    }
   ],
   "source": [
    "DTree = DecisionTreeRegressor(min_samples_leaf = .0001)\n",
    "\n",
    "DTree.fit(X_train,y_train)"
   ]
  },
  {
   "cell_type": "code",
   "execution_count": 268,
   "id": "63ee66df",
   "metadata": {},
   "outputs": [
    {
     "name": "stdout",
     "output_type": "stream",
     "text": [
      "MSE: 0.10228395014336257 MAPE: 0.029865402970776427\n"
     ]
    }
   ],
   "source": [
    "y_predict = DTree.predict(X_test)\n",
    "\n",
    "dec_mse_score = mean_absolute_error(y_test,y_predict)\n",
    "dec_mape_score = mean_absolute_percentage_error(y_test,y_predict)\n",
    "\n",
    "print(\"MSE:\", dec_mse_score, \"MAPE:\", dec_mape_score)"
   ]
  },
  {
   "cell_type": "markdown",
   "id": "472d3e41",
   "metadata": {},
   "source": [
    "## K Nearest Neighbours Regression"
   ]
  },
  {
   "cell_type": "code",
   "execution_count": 269,
   "id": "e64b3fff",
   "metadata": {},
   "outputs": [],
   "source": [
    "scaler = StandardScaler()\n",
    "\n",
    "X_train = scaler.fit_transform(X_train)\n",
    "X_test = scaler.transform(X_test)"
   ]
  },
  {
   "cell_type": "code",
   "execution_count": 270,
   "id": "f7b3dd95",
   "metadata": {},
   "outputs": [
    {
     "name": "stdout",
     "output_type": "stream",
     "text": [
      "MSE: 0.1985743653533076 MAPE: 0.05715102337784349\n"
     ]
    }
   ],
   "source": [
    "knn = KNeighborsRegressor(n_neighbors=5)\n",
    "knn.fit(X_train, y_train)\n",
    "\n",
    "y_pred = knn.predict(X_test)\n",
    "\n",
    "knn_mse_score = mean_absolute_error(y_test,y_pred)\n",
    "knn_mape_score = mean_absolute_percentage_error(y_test,y_pred)\n",
    "\n",
    "print(\"MSE:\", knn_mse_score, \"MAPE:\", knn_mape_score)"
   ]
  },
  {
   "cell_type": "markdown",
   "id": "cb6ba6c1",
   "metadata": {},
   "source": [
    "# Comparing models"
   ]
  },
  {
   "cell_type": "code",
   "execution_count": 274,
   "id": "8eb4b16a",
   "metadata": {},
   "outputs": [
    {
     "data": {
      "text/html": [
       "<div>\n",
       "<style scoped>\n",
       "    .dataframe tbody tr th:only-of-type {\n",
       "        vertical-align: middle;\n",
       "    }\n",
       "\n",
       "    .dataframe tbody tr th {\n",
       "        vertical-align: top;\n",
       "    }\n",
       "\n",
       "    .dataframe thead th {\n",
       "        text-align: right;\n",
       "    }\n",
       "</style>\n",
       "<table border=\"1\" class=\"dataframe\">\n",
       "  <thead>\n",
       "    <tr style=\"text-align: right;\">\n",
       "      <th></th>\n",
       "      <th>Model</th>\n",
       "      <th>MSE</th>\n",
       "      <th>MAPE</th>\n",
       "    </tr>\n",
       "  </thead>\n",
       "  <tbody>\n",
       "    <tr>\n",
       "      <th>1</th>\n",
       "      <td>Decision Tree</td>\n",
       "      <td>0.102284</td>\n",
       "      <td>0.029865</td>\n",
       "    </tr>\n",
       "    <tr>\n",
       "      <th>2</th>\n",
       "      <td>K Nearest Neighnour</td>\n",
       "      <td>0.198574</td>\n",
       "      <td>0.057151</td>\n",
       "    </tr>\n",
       "    <tr>\n",
       "      <th>0</th>\n",
       "      <td>Linear Regression</td>\n",
       "      <td>0.251617</td>\n",
       "      <td>0.071921</td>\n",
       "    </tr>\n",
       "  </tbody>\n",
       "</table>\n",
       "</div>"
      ],
      "text/plain": [
       "                 Model       MSE      MAPE\n",
       "1        Decision Tree  0.102284  0.029865\n",
       "2  K Nearest Neighnour  0.198574  0.057151\n",
       "0    Linear Regression  0.251617  0.071921"
      ]
     },
     "execution_count": 274,
     "metadata": {},
     "output_type": "execute_result"
    }
   ],
   "source": [
    "models = pd.DataFrame({\n",
    "    'Model' : ['Linear Regression', 'Decision Tree', 'K Nearest Neighnour'],\n",
    "    'MSE' : [lin_mse_score, dec_mse_score, knn_mse_score],\n",
    "    'MAPE' : [lin_mape_score, dec_mape_score, knn_mape_score]\n",
    "})\n",
    "\n",
    "\n",
    "models.sort_values(by = ['MSE', 'MAPE'], ascending = True)"
   ]
  },
  {
   "cell_type": "code",
   "execution_count": null,
   "id": "371a281b",
   "metadata": {},
   "outputs": [],
   "source": []
  },
  {
   "cell_type": "code",
   "execution_count": null,
   "id": "41db2b0d",
   "metadata": {},
   "outputs": [],
   "source": []
  },
  {
   "cell_type": "code",
   "execution_count": null,
   "id": "427da400",
   "metadata": {},
   "outputs": [],
   "source": []
  }
 ],
 "metadata": {
  "kernelspec": {
   "display_name": "Python 3 (ipykernel)",
   "language": "python",
   "name": "python3"
  },
  "language_info": {
   "codemirror_mode": {
    "name": "ipython",
    "version": 3
   },
   "file_extension": ".py",
   "mimetype": "text/x-python",
   "name": "python",
   "nbconvert_exporter": "python",
   "pygments_lexer": "ipython3",
   "version": "3.9.13"
  }
 },
 "nbformat": 4,
 "nbformat_minor": 5
}
