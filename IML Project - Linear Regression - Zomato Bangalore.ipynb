{
 "cells": [
  {
   "cell_type": "markdown",
   "id": "93a014a7",
   "metadata": {},
   "source": [
    "# Objective"
   ]
  },
  {
   "cell_type": "markdown",
   "id": "f039d52d",
   "metadata": {},
   "source": [
    "To predict the average ratings of new restaurants"
   ]
  },
  {
   "cell_type": "markdown",
   "id": "ad253443",
   "metadata": {},
   "source": [
    "# Data Definition"
   ]
  },
  {
   "cell_type": "markdown",
   "id": "0e86a70e",
   "metadata": {
    "id": "9sSmSGoWn99P"
   },
   "source": [
    "**url:** Contains the url of the restaurant in the zomato website\n",
    "\n",
    "**address:** Contains the address of the restaurant in Bangalore\n",
    "\n",
    "**name:** Contains the name of the restaurant\n",
    "\n",
    "**online_order**: Whether online ordering is available in the restaurant or not\n",
    "\n",
    "**book_table:** Table booking option available or not\n",
    "\n",
    "**rate:** Contains the overall rating of the restaurant out of 5\n",
    "\n",
    "**votes:** Contains total number of rating for the restaurant as of the above mentioned date\n",
    "\n",
    "**phone:** Contains the phone number of the restaurant\n",
    "\n",
    "**location:** Contains the neighborhood in which the restaurant is located\n",
    "\n",
    "**rest_type:** Restaurant type\n",
    "\n",
    "**dish_liked:** Dishes people liked in the restaurant\n",
    "\n",
    "**cuisines:** Food styles, separated by comma\n",
    "\n",
    "**approx_cost(for two people):** Contains the approximate cost for meal for two people\n",
    "\n",
    "**reviews_list:** List of tuples containing reviews for the restaurant, each tuple consists of two values, rating and review by the customer\n",
    "\n",
    "**menu_item:** Contains list of menus available in the restaurant\n",
    "\n",
    "**listed_in(type):** Type of service"
   ]
  },
  {
   "cell_type": "markdown",
   "id": "64320ca5",
   "metadata": {},
   "source": [
    "# Table of Contents\n",
    "\n",
    "1. **[Importing Important Libraries](#import_lib)**\n",
    "2. **[Loading Dataset](#load_data)**\n",
    "3. **[Model Training and Evaluation](#model_train_evaluate)**\n",
    "    - 3.1 - [Preparing data for model training - Encoding](#prepare_model)\n",
    "    - 3.2 - [Encoding columns using One-Hot Encoding (Sklearn)](#encoding)\n",
    "        - 3.2.1 - [Filtering training data into numerical and categorical variables](#encoding_filter)\n",
    "        - 3.2.2 - [Dummy encode the catergorical variables](#encoding_dummy)\n",
    "        - 3.2.3 - [Concatenate numerical and dummy encoded categorical variables](#encoding_concat)\n",
    "        - 3.2.4 - [Reading the encoded data](#encoding_read)\n",
    "    - 3.3 - [Splitting Train and Test Data](#split_data)\n",
    "    - 3.4 - [Fitting Regression Models](#model_fitting)\n",
    "        - 3.4.1 - [Linear Regression](#linear_regression)\n",
    "        - 3.4.2 - [Decision Tree Regression](#decision_tree)\n",
    "        - 3.4.3 - [K Nearest Neighbors Regression](#knn)\n",
    "    - 3.5 - [Comparing models](#compare_model)\n",
    "4. **[Inferences and Conclusion](#conclusion)**"
   ]
  },
  {
   "cell_type": "markdown",
   "id": "de639a62",
   "metadata": {},
   "source": [
    "<a id='import_lib'></a>\n",
    "# 1. Importing Important Libraries"
   ]
  },
  {
   "cell_type": "code",
   "execution_count": 179,
   "id": "2eb45c63",
   "metadata": {},
   "outputs": [],
   "source": [
    "# supress warnings \n",
    "from warnings import filterwarnings\n",
    "filterwarnings('ignore')\n",
    "\n",
    "import pandas as pd\n",
    "import numpy as np\n",
    "\n",
    "from sklearn.preprocessing import LabelEncoder\n",
    "from sklearn.model_selection import train_test_split\n",
    "from sklearn.linear_model import LinearRegression\n",
    "from sklearn.metrics import mean_squared_error, mean_absolute_percentage_error\n",
    "from sklearn.tree import DecisionTreeRegressor\n",
    "from sklearn.preprocessing import StandardScaler\n",
    "from sklearn.neighbors import KNeighborsRegressor\n",
    "\n",
    "import matplotlib.pyplot as plt\n",
    "from sklearn.tree import plot_tree"
   ]
  },
  {
   "cell_type": "markdown",
   "id": "e4ee140c",
   "metadata": {},
   "source": [
    "These are the libraries which I am using:-\n",
    "\n",
    "**Pandas:** A software library written for the Python programming language for data manipulation and analysis.\n",
    "\n",
    "**Numpy:** A library for the Python programming language, adding support for large, multi-dimensional arrays and matrices, along with a large collection of high-level mathematical functions to operate on these arrays.\n",
    "\n",
    "**Scikit-learn (sklearn):** Emphasizes various regression, classification and clustering algorithms"
   ]
  },
  {
   "cell_type": "markdown",
   "id": "41805f4b",
   "metadata": {},
   "source": [
    "<a id='load_data'></a>\n",
    "# 2. Loading Dataset"
   ]
  },
  {
   "cell_type": "code",
   "execution_count": 180,
   "id": "258038a6",
   "metadata": {},
   "outputs": [
    {
     "data": {
      "text/html": [
       "<div>\n",
       "<style scoped>\n",
       "    .dataframe tbody tr th:only-of-type {\n",
       "        vertical-align: middle;\n",
       "    }\n",
       "\n",
       "    .dataframe tbody tr th {\n",
       "        vertical-align: top;\n",
       "    }\n",
       "\n",
       "    .dataframe thead th {\n",
       "        text-align: right;\n",
       "    }\n",
       "</style>\n",
       "<table border=\"1\" class=\"dataframe\">\n",
       "  <thead>\n",
       "    <tr style=\"text-align: right;\">\n",
       "      <th></th>\n",
       "      <th>name</th>\n",
       "      <th>online_order</th>\n",
       "      <th>book_table</th>\n",
       "      <th>rate</th>\n",
       "      <th>votes</th>\n",
       "      <th>location</th>\n",
       "      <th>rest_type</th>\n",
       "      <th>cuisines</th>\n",
       "      <th>Cost_for_two</th>\n",
       "      <th>Type_of_service</th>\n",
       "    </tr>\n",
       "  </thead>\n",
       "  <tbody>\n",
       "    <tr>\n",
       "      <th>0</th>\n",
       "      <td>Jalsa</td>\n",
       "      <td>Yes</td>\n",
       "      <td>Yes</td>\n",
       "      <td>4.100000</td>\n",
       "      <td>775</td>\n",
       "      <td>Banashankari</td>\n",
       "      <td>Casual Dining</td>\n",
       "      <td>North Indian, Mughlai, Chinese</td>\n",
       "      <td>800</td>\n",
       "      <td>Buffet</td>\n",
       "    </tr>\n",
       "    <tr>\n",
       "      <th>3</th>\n",
       "      <td>Addhuri Udupi Bhojana</td>\n",
       "      <td>No</td>\n",
       "      <td>No</td>\n",
       "      <td>3.700000</td>\n",
       "      <td>88</td>\n",
       "      <td>Banashankari</td>\n",
       "      <td>Quick Bites</td>\n",
       "      <td>South Indian, North Indian</td>\n",
       "      <td>300</td>\n",
       "      <td>Buffet</td>\n",
       "    </tr>\n",
       "    <tr>\n",
       "      <th>4</th>\n",
       "      <td>Grand Village</td>\n",
       "      <td>No</td>\n",
       "      <td>No</td>\n",
       "      <td>3.800000</td>\n",
       "      <td>166</td>\n",
       "      <td>Basavanagudi</td>\n",
       "      <td>Casual Dining</td>\n",
       "      <td>Others</td>\n",
       "      <td>600</td>\n",
       "      <td>Buffet</td>\n",
       "    </tr>\n",
       "    <tr>\n",
       "      <th>5</th>\n",
       "      <td>Timepass Dinner</td>\n",
       "      <td>Yes</td>\n",
       "      <td>No</td>\n",
       "      <td>3.800000</td>\n",
       "      <td>286</td>\n",
       "      <td>Basavanagudi</td>\n",
       "      <td>Casual Dining</td>\n",
       "      <td>North Indian</td>\n",
       "      <td>600</td>\n",
       "      <td>Buffet</td>\n",
       "    </tr>\n",
       "    <tr>\n",
       "      <th>6</th>\n",
       "      <td>Rosewood International Hotel - Bar &amp; Restaurant</td>\n",
       "      <td>No</td>\n",
       "      <td>No</td>\n",
       "      <td>3.600000</td>\n",
       "      <td>8</td>\n",
       "      <td>Others</td>\n",
       "      <td>Casual Dining</td>\n",
       "      <td>Others</td>\n",
       "      <td>800</td>\n",
       "      <td>Buffet</td>\n",
       "    </tr>\n",
       "    <tr>\n",
       "      <th>...</th>\n",
       "      <td>...</td>\n",
       "      <td>...</td>\n",
       "      <td>...</td>\n",
       "      <td>...</td>\n",
       "      <td>...</td>\n",
       "      <td>...</td>\n",
       "      <td>...</td>\n",
       "      <td>...</td>\n",
       "      <td>...</td>\n",
       "      <td>...</td>\n",
       "    </tr>\n",
       "    <tr>\n",
       "      <th>51710</th>\n",
       "      <td>Topsy Turvey</td>\n",
       "      <td>No</td>\n",
       "      <td>No</td>\n",
       "      <td>3.700142</td>\n",
       "      <td>0</td>\n",
       "      <td>Whitefield</td>\n",
       "      <td>Others</td>\n",
       "      <td>Finger Food</td>\n",
       "      <td>900</td>\n",
       "      <td>Pubs and bars</td>\n",
       "    </tr>\n",
       "    <tr>\n",
       "      <th>51711</th>\n",
       "      <td>Bhagini</td>\n",
       "      <td>No</td>\n",
       "      <td>No</td>\n",
       "      <td>2.500000</td>\n",
       "      <td>81</td>\n",
       "      <td>Whitefield</td>\n",
       "      <td>Casual Dining, Bar</td>\n",
       "      <td>Others</td>\n",
       "      <td>800</td>\n",
       "      <td>Pubs and bars</td>\n",
       "    </tr>\n",
       "    <tr>\n",
       "      <th>51712</th>\n",
       "      <td>Best Brews - Four Points by Sheraton Bengaluru...</td>\n",
       "      <td>No</td>\n",
       "      <td>No</td>\n",
       "      <td>3.600000</td>\n",
       "      <td>27</td>\n",
       "      <td>Whitefield</td>\n",
       "      <td>Others</td>\n",
       "      <td>Continental</td>\n",
       "      <td>1500</td>\n",
       "      <td>Pubs and bars</td>\n",
       "    </tr>\n",
       "    <tr>\n",
       "      <th>51713</th>\n",
       "      <td>Vinod Bar And Restaurant</td>\n",
       "      <td>No</td>\n",
       "      <td>No</td>\n",
       "      <td>3.700142</td>\n",
       "      <td>0</td>\n",
       "      <td>Whitefield</td>\n",
       "      <td>Others</td>\n",
       "      <td>Finger Food</td>\n",
       "      <td>600</td>\n",
       "      <td>Pubs and bars</td>\n",
       "    </tr>\n",
       "    <tr>\n",
       "      <th>51716</th>\n",
       "      <td>The Nest - The Den Bengaluru</td>\n",
       "      <td>No</td>\n",
       "      <td>No</td>\n",
       "      <td>3.400000</td>\n",
       "      <td>13</td>\n",
       "      <td>Others</td>\n",
       "      <td>Others</td>\n",
       "      <td>Others</td>\n",
       "      <td>1500</td>\n",
       "      <td>Pubs and bars</td>\n",
       "    </tr>\n",
       "  </tbody>\n",
       "</table>\n",
       "<p>45634 rows × 10 columns</p>\n",
       "</div>"
      ],
      "text/plain": [
       "                                                    name online_order  \\\n",
       "0                                                  Jalsa          Yes   \n",
       "3                                  Addhuri Udupi Bhojana           No   \n",
       "4                                          Grand Village           No   \n",
       "5                                        Timepass Dinner          Yes   \n",
       "6        Rosewood International Hotel - Bar & Restaurant           No   \n",
       "...                                                  ...          ...   \n",
       "51710                                       Topsy Turvey           No   \n",
       "51711                                            Bhagini           No   \n",
       "51712  Best Brews - Four Points by Sheraton Bengaluru...           No   \n",
       "51713                           Vinod Bar And Restaurant           No   \n",
       "51716                       The Nest - The Den Bengaluru           No   \n",
       "\n",
       "      book_table      rate  votes      location           rest_type  \\\n",
       "0            Yes  4.100000    775  Banashankari       Casual Dining   \n",
       "3             No  3.700000     88  Banashankari         Quick Bites   \n",
       "4             No  3.800000    166  Basavanagudi       Casual Dining   \n",
       "5             No  3.800000    286  Basavanagudi       Casual Dining   \n",
       "6             No  3.600000      8        Others       Casual Dining   \n",
       "...          ...       ...    ...           ...                 ...   \n",
       "51710         No  3.700142      0    Whitefield              Others   \n",
       "51711         No  2.500000     81    Whitefield  Casual Dining, Bar   \n",
       "51712         No  3.600000     27    Whitefield              Others   \n",
       "51713         No  3.700142      0    Whitefield              Others   \n",
       "51716         No  3.400000     13        Others              Others   \n",
       "\n",
       "                             cuisines  Cost_for_two Type_of_service  \n",
       "0      North Indian, Mughlai, Chinese           800          Buffet  \n",
       "3          South Indian, North Indian           300          Buffet  \n",
       "4                              Others           600          Buffet  \n",
       "5                        North Indian           600          Buffet  \n",
       "6                              Others           800          Buffet  \n",
       "...                               ...           ...             ...  \n",
       "51710                     Finger Food           900   Pubs and bars  \n",
       "51711                          Others           800   Pubs and bars  \n",
       "51712                     Continental          1500   Pubs and bars  \n",
       "51713                     Finger Food           600   Pubs and bars  \n",
       "51716                          Others          1500   Pubs and bars  \n",
       "\n",
       "[45634 rows x 10 columns]"
      ]
     },
     "execution_count": 180,
     "metadata": {},
     "output_type": "execute_result"
    }
   ],
   "source": [
    "dataset = pd.read_excel(\"zomatoclean_final.xlsx\",index_col=0)\n",
    "dataset"
   ]
  },
  {
   "cell_type": "markdown",
   "id": "e34c7e49-9fcf-4eb5-a714-7c1b3b66fa99",
   "metadata": {},
   "source": [
    "<a id='model_train_evaluate'></a>\n",
    "# 3. Model Training and Evaluation"
   ]
  },
  {
   "cell_type": "markdown",
   "id": "b1b69db4-3c73-453c-9ce4-9b52b7a6db4b",
   "metadata": {},
   "source": [
    "<a id='prepare_model'></a>\n",
    "## 3.1 Preparing data for model training - Encoding"
   ]
  },
  {
   "cell_type": "code",
   "execution_count": 181,
   "id": "a9d57120",
   "metadata": {},
   "outputs": [
    {
     "data": {
      "text/html": [
       "<div>\n",
       "<style scoped>\n",
       "    .dataframe tbody tr th:only-of-type {\n",
       "        vertical-align: middle;\n",
       "    }\n",
       "\n",
       "    .dataframe tbody tr th {\n",
       "        vertical-align: top;\n",
       "    }\n",
       "\n",
       "    .dataframe thead th {\n",
       "        text-align: right;\n",
       "    }\n",
       "</style>\n",
       "<table border=\"1\" class=\"dataframe\">\n",
       "  <thead>\n",
       "    <tr style=\"text-align: right;\">\n",
       "      <th></th>\n",
       "      <th>name</th>\n",
       "      <th>online_order</th>\n",
       "      <th>book_table</th>\n",
       "      <th>rate</th>\n",
       "      <th>votes</th>\n",
       "      <th>location</th>\n",
       "      <th>rest_type</th>\n",
       "      <th>cuisines</th>\n",
       "      <th>Cost_for_two</th>\n",
       "      <th>Type_of_service</th>\n",
       "    </tr>\n",
       "  </thead>\n",
       "  <tbody>\n",
       "    <tr>\n",
       "      <th>0</th>\n",
       "      <td>Jalsa</td>\n",
       "      <td>Yes</td>\n",
       "      <td>Yes</td>\n",
       "      <td>4.1</td>\n",
       "      <td>775</td>\n",
       "      <td>Banashankari</td>\n",
       "      <td>Casual Dining</td>\n",
       "      <td>North Indian, Mughlai, Chinese</td>\n",
       "      <td>800</td>\n",
       "      <td>Buffet</td>\n",
       "    </tr>\n",
       "    <tr>\n",
       "      <th>3</th>\n",
       "      <td>Addhuri Udupi Bhojana</td>\n",
       "      <td>No</td>\n",
       "      <td>No</td>\n",
       "      <td>3.7</td>\n",
       "      <td>88</td>\n",
       "      <td>Banashankari</td>\n",
       "      <td>Quick Bites</td>\n",
       "      <td>South Indian, North Indian</td>\n",
       "      <td>300</td>\n",
       "      <td>Buffet</td>\n",
       "    </tr>\n",
       "    <tr>\n",
       "      <th>4</th>\n",
       "      <td>Grand Village</td>\n",
       "      <td>No</td>\n",
       "      <td>No</td>\n",
       "      <td>3.8</td>\n",
       "      <td>166</td>\n",
       "      <td>Basavanagudi</td>\n",
       "      <td>Casual Dining</td>\n",
       "      <td>Others</td>\n",
       "      <td>600</td>\n",
       "      <td>Buffet</td>\n",
       "    </tr>\n",
       "    <tr>\n",
       "      <th>5</th>\n",
       "      <td>Timepass Dinner</td>\n",
       "      <td>Yes</td>\n",
       "      <td>No</td>\n",
       "      <td>3.8</td>\n",
       "      <td>286</td>\n",
       "      <td>Basavanagudi</td>\n",
       "      <td>Casual Dining</td>\n",
       "      <td>North Indian</td>\n",
       "      <td>600</td>\n",
       "      <td>Buffet</td>\n",
       "    </tr>\n",
       "    <tr>\n",
       "      <th>6</th>\n",
       "      <td>Rosewood International Hotel - Bar &amp; Restaurant</td>\n",
       "      <td>No</td>\n",
       "      <td>No</td>\n",
       "      <td>3.6</td>\n",
       "      <td>8</td>\n",
       "      <td>Others</td>\n",
       "      <td>Casual Dining</td>\n",
       "      <td>Others</td>\n",
       "      <td>800</td>\n",
       "      <td>Buffet</td>\n",
       "    </tr>\n",
       "  </tbody>\n",
       "</table>\n",
       "</div>"
      ],
      "text/plain": [
       "                                              name online_order book_table  \\\n",
       "0                                            Jalsa          Yes        Yes   \n",
       "3                            Addhuri Udupi Bhojana           No         No   \n",
       "4                                    Grand Village           No         No   \n",
       "5                                  Timepass Dinner          Yes         No   \n",
       "6  Rosewood International Hotel - Bar & Restaurant           No         No   \n",
       "\n",
       "   rate  votes      location      rest_type                        cuisines  \\\n",
       "0   4.1    775  Banashankari  Casual Dining  North Indian, Mughlai, Chinese   \n",
       "3   3.7     88  Banashankari    Quick Bites      South Indian, North Indian   \n",
       "4   3.8    166  Basavanagudi  Casual Dining                          Others   \n",
       "5   3.8    286  Basavanagudi  Casual Dining                    North Indian   \n",
       "6   3.6      8        Others  Casual Dining                          Others   \n",
       "\n",
       "   Cost_for_two Type_of_service  \n",
       "0           800          Buffet  \n",
       "3           300          Buffet  \n",
       "4           600          Buffet  \n",
       "5           600          Buffet  \n",
       "6           800          Buffet  "
      ]
     },
     "execution_count": 181,
     "metadata": {},
     "output_type": "execute_result"
    }
   ],
   "source": [
    "training_data = dataset.copy()\n",
    "training_data.head()"
   ]
  },
  {
   "cell_type": "markdown",
   "id": "b9643f83-288d-41a7-b1ca-e8db9570a5ac",
   "metadata": {},
   "source": [
    "##### We don't need 'name' column for training purpose as rating is independent of it, so we will drop it."
   ]
  },
  {
   "cell_type": "markdown",
   "id": "ad31f21e",
   "metadata": {},
   "source": [
    "#### Dropping name column"
   ]
  },
  {
   "cell_type": "code",
   "execution_count": 182,
   "id": "a04f98d0-bfb5-4fe3-b3e9-5044881e5dc5",
   "metadata": {},
   "outputs": [],
   "source": [
    "training_data.drop(columns=[\"name\"],inplace=True)"
   ]
  },
  {
   "cell_type": "code",
   "execution_count": 183,
   "id": "d163bb03",
   "metadata": {},
   "outputs": [
    {
     "data": {
      "text/html": [
       "<div>\n",
       "<style scoped>\n",
       "    .dataframe tbody tr th:only-of-type {\n",
       "        vertical-align: middle;\n",
       "    }\n",
       "\n",
       "    .dataframe tbody tr th {\n",
       "        vertical-align: top;\n",
       "    }\n",
       "\n",
       "    .dataframe thead th {\n",
       "        text-align: right;\n",
       "    }\n",
       "</style>\n",
       "<table border=\"1\" class=\"dataframe\">\n",
       "  <thead>\n",
       "    <tr style=\"text-align: right;\">\n",
       "      <th></th>\n",
       "      <th>online_order</th>\n",
       "      <th>book_table</th>\n",
       "      <th>rate</th>\n",
       "      <th>votes</th>\n",
       "      <th>location</th>\n",
       "      <th>rest_type</th>\n",
       "      <th>cuisines</th>\n",
       "      <th>Cost_for_two</th>\n",
       "      <th>Type_of_service</th>\n",
       "    </tr>\n",
       "  </thead>\n",
       "  <tbody>\n",
       "    <tr>\n",
       "      <th>0</th>\n",
       "      <td>Yes</td>\n",
       "      <td>Yes</td>\n",
       "      <td>4.1</td>\n",
       "      <td>775</td>\n",
       "      <td>Banashankari</td>\n",
       "      <td>Casual Dining</td>\n",
       "      <td>North Indian, Mughlai, Chinese</td>\n",
       "      <td>800</td>\n",
       "      <td>Buffet</td>\n",
       "    </tr>\n",
       "    <tr>\n",
       "      <th>3</th>\n",
       "      <td>No</td>\n",
       "      <td>No</td>\n",
       "      <td>3.7</td>\n",
       "      <td>88</td>\n",
       "      <td>Banashankari</td>\n",
       "      <td>Quick Bites</td>\n",
       "      <td>South Indian, North Indian</td>\n",
       "      <td>300</td>\n",
       "      <td>Buffet</td>\n",
       "    </tr>\n",
       "    <tr>\n",
       "      <th>4</th>\n",
       "      <td>No</td>\n",
       "      <td>No</td>\n",
       "      <td>3.8</td>\n",
       "      <td>166</td>\n",
       "      <td>Basavanagudi</td>\n",
       "      <td>Casual Dining</td>\n",
       "      <td>Others</td>\n",
       "      <td>600</td>\n",
       "      <td>Buffet</td>\n",
       "    </tr>\n",
       "    <tr>\n",
       "      <th>5</th>\n",
       "      <td>Yes</td>\n",
       "      <td>No</td>\n",
       "      <td>3.8</td>\n",
       "      <td>286</td>\n",
       "      <td>Basavanagudi</td>\n",
       "      <td>Casual Dining</td>\n",
       "      <td>North Indian</td>\n",
       "      <td>600</td>\n",
       "      <td>Buffet</td>\n",
       "    </tr>\n",
       "    <tr>\n",
       "      <th>6</th>\n",
       "      <td>No</td>\n",
       "      <td>No</td>\n",
       "      <td>3.6</td>\n",
       "      <td>8</td>\n",
       "      <td>Others</td>\n",
       "      <td>Casual Dining</td>\n",
       "      <td>Others</td>\n",
       "      <td>800</td>\n",
       "      <td>Buffet</td>\n",
       "    </tr>\n",
       "  </tbody>\n",
       "</table>\n",
       "</div>"
      ],
      "text/plain": [
       "  online_order book_table  rate  votes      location      rest_type  \\\n",
       "0          Yes        Yes   4.1    775  Banashankari  Casual Dining   \n",
       "3           No         No   3.7     88  Banashankari    Quick Bites   \n",
       "4           No         No   3.8    166  Basavanagudi  Casual Dining   \n",
       "5          Yes         No   3.8    286  Basavanagudi  Casual Dining   \n",
       "6           No         No   3.6      8        Others  Casual Dining   \n",
       "\n",
       "                         cuisines  Cost_for_two Type_of_service  \n",
       "0  North Indian, Mughlai, Chinese           800          Buffet  \n",
       "3      South Indian, North Indian           300          Buffet  \n",
       "4                          Others           600          Buffet  \n",
       "5                    North Indian           600          Buffet  \n",
       "6                          Others           800          Buffet  "
      ]
     },
     "execution_count": 183,
     "metadata": {},
     "output_type": "execute_result"
    }
   ],
   "source": [
    "training_data.head()"
   ]
  },
  {
   "cell_type": "markdown",
   "id": "257b4325",
   "metadata": {},
   "source": [
    "<a id='encoding'></a>\n",
    "## 3.2 Encoding columns using One-Hot Encoding (Sklearn)"
   ]
  },
  {
   "cell_type": "markdown",
   "id": "851efaca",
   "metadata": {
    "id": "ExHUu38fn993"
   },
   "source": [
    "<a id='encoding_filter'></a>\n",
    "### 3.2.1 Filtering training data into numerical and categorical variables"
   ]
  },
  {
   "cell_type": "markdown",
   "id": "918b3858",
   "metadata": {},
   "source": [
    "#### Filtering the numerical features in the dataset "
   ]
  },
  {
   "cell_type": "code",
   "execution_count": 184,
   "id": "5e8932f3",
   "metadata": {},
   "outputs": [],
   "source": [
    "training_data_num = training_data.select_dtypes(include=np.number)"
   ]
  },
  {
   "cell_type": "markdown",
   "id": "a765fb93",
   "metadata": {},
   "source": [
    "#### Displaying numeric features"
   ]
  },
  {
   "cell_type": "code",
   "execution_count": 185,
   "id": "50812ad3",
   "metadata": {
    "id": "RB4ZJUUbn993",
    "outputId": "2865632d-e0bb-4189-a281-3db6899be325"
   },
   "outputs": [
    {
     "data": {
      "text/plain": [
       "Index(['rate', 'votes', 'Cost_for_two'], dtype='object')"
      ]
     },
     "execution_count": 185,
     "metadata": {},
     "output_type": "execute_result"
    }
   ],
   "source": [
    "training_data_num.columns"
   ]
  },
  {
   "cell_type": "markdown",
   "id": "7949c485",
   "metadata": {},
   "source": [
    "#### Filtering the categorical features in the dataset "
   ]
  },
  {
   "cell_type": "code",
   "execution_count": 186,
   "id": "5edbf0b3",
   "metadata": {},
   "outputs": [],
   "source": [
    "training_data_cat = training_data.select_dtypes(include='object')"
   ]
  },
  {
   "cell_type": "markdown",
   "id": "40fe4312",
   "metadata": {},
   "source": [
    "#### Displaying categorical features"
   ]
  },
  {
   "cell_type": "code",
   "execution_count": 187,
   "id": "e9d658da",
   "metadata": {
    "id": "zhTbfGLBn994",
    "outputId": "68732d4b-b9d3-49b6-ff9f-a13625225fbe"
   },
   "outputs": [
    {
     "data": {
      "text/plain": [
       "Index(['online_order', 'book_table', 'location', 'rest_type', 'cuisines',\n",
       "       'Type_of_service'],\n",
       "      dtype='object')"
      ]
     },
     "execution_count": 187,
     "metadata": {},
     "output_type": "execute_result"
    }
   ],
   "source": [
    "training_data_cat.columns"
   ]
  },
  {
   "cell_type": "markdown",
   "id": "b57a5889",
   "metadata": {
    "id": "XUnlNGj3n994"
   },
   "source": [
    "<a id='encoding_dummy'></a>\n",
    "### 3.2.2 Dummy encode the catergorical variables"
   ]
  },
  {
   "cell_type": "markdown",
   "id": "58200255",
   "metadata": {},
   "source": [
    "#### Creating data frame with only categorical variables that have been encoded"
   ]
  },
  {
   "cell_type": "code",
   "execution_count": 188,
   "id": "d2f79b2b",
   "metadata": {
    "id": "VA7e0G0Hn994"
   },
   "outputs": [],
   "source": [
    "# for all categoric variables creating dummy variables\n",
    "for col in training_data_cat.columns.values:\n",
    "    \n",
    "    # for a feature creating dummy variables using get_dummies()\n",
    "    dummy_encoded_variables = pd.get_dummies(training_data_cat[col], prefix=col, drop_first=True)\n",
    "    \n",
    "    # concatenating the categoric features with dummy variables using concat()\n",
    "    training_data_cat = pd.concat([training_data_cat, dummy_encoded_variables],axis=1)\n",
    "    \n",
    "    # dropping the orginal categorical variable from the dataframe\n",
    "    training_data_cat.drop([col], axis=1, inplace=True)"
   ]
  },
  {
   "cell_type": "markdown",
   "id": "394b5f88",
   "metadata": {
    "id": "FZHT-4ZCn994"
   },
   "source": [
    "<a id='encoding_concat'></a>\n",
    "### 3.2.3 Concatenate numerical and dummy encoded categorical variables"
   ]
  },
  {
   "cell_type": "code",
   "execution_count": 189,
   "id": "4a1c96ae",
   "metadata": {
    "id": "KaL-0ANpn994",
    "outputId": "64088801-2f00-4c1a-b288-3252408f1cc8"
   },
   "outputs": [
    {
     "data": {
      "text/html": [
       "<div>\n",
       "<style scoped>\n",
       "    .dataframe tbody tr th:only-of-type {\n",
       "        vertical-align: middle;\n",
       "    }\n",
       "\n",
       "    .dataframe tbody tr th {\n",
       "        vertical-align: top;\n",
       "    }\n",
       "\n",
       "    .dataframe thead th {\n",
       "        text-align: right;\n",
       "    }\n",
       "</style>\n",
       "<table border=\"1\" class=\"dataframe\">\n",
       "  <thead>\n",
       "    <tr style=\"text-align: right;\">\n",
       "      <th></th>\n",
       "      <th>rate</th>\n",
       "      <th>votes</th>\n",
       "      <th>Cost_for_two</th>\n",
       "      <th>online_order_Yes</th>\n",
       "      <th>book_table_Yes</th>\n",
       "      <th>location_Banashankari</th>\n",
       "      <th>location_Banaswadi</th>\n",
       "      <th>location_Bannerghatta Road</th>\n",
       "      <th>location_Basavanagudi</th>\n",
       "      <th>location_Bellandur</th>\n",
       "      <th>...</th>\n",
       "      <th>cuisines_South Indian, North Indian</th>\n",
       "      <th>cuisines_South Indian, North Indian, Chinese</th>\n",
       "      <th>cuisines_South Indian, North Indian, Chinese, Street Food</th>\n",
       "      <th>cuisines_Street Food</th>\n",
       "      <th>Type_of_service_Cafes</th>\n",
       "      <th>Type_of_service_Delivery</th>\n",
       "      <th>Type_of_service_Desserts</th>\n",
       "      <th>Type_of_service_Dine-out</th>\n",
       "      <th>Type_of_service_Drinks &amp; nightlife</th>\n",
       "      <th>Type_of_service_Pubs and bars</th>\n",
       "    </tr>\n",
       "  </thead>\n",
       "  <tbody>\n",
       "    <tr>\n",
       "      <th>0</th>\n",
       "      <td>4.1</td>\n",
       "      <td>775</td>\n",
       "      <td>800</td>\n",
       "      <td>1</td>\n",
       "      <td>1</td>\n",
       "      <td>1</td>\n",
       "      <td>0</td>\n",
       "      <td>0</td>\n",
       "      <td>0</td>\n",
       "      <td>0</td>\n",
       "      <td>...</td>\n",
       "      <td>0</td>\n",
       "      <td>0</td>\n",
       "      <td>0</td>\n",
       "      <td>0</td>\n",
       "      <td>0</td>\n",
       "      <td>0</td>\n",
       "      <td>0</td>\n",
       "      <td>0</td>\n",
       "      <td>0</td>\n",
       "      <td>0</td>\n",
       "    </tr>\n",
       "    <tr>\n",
       "      <th>3</th>\n",
       "      <td>3.7</td>\n",
       "      <td>88</td>\n",
       "      <td>300</td>\n",
       "      <td>0</td>\n",
       "      <td>0</td>\n",
       "      <td>1</td>\n",
       "      <td>0</td>\n",
       "      <td>0</td>\n",
       "      <td>0</td>\n",
       "      <td>0</td>\n",
       "      <td>...</td>\n",
       "      <td>1</td>\n",
       "      <td>0</td>\n",
       "      <td>0</td>\n",
       "      <td>0</td>\n",
       "      <td>0</td>\n",
       "      <td>0</td>\n",
       "      <td>0</td>\n",
       "      <td>0</td>\n",
       "      <td>0</td>\n",
       "      <td>0</td>\n",
       "    </tr>\n",
       "    <tr>\n",
       "      <th>4</th>\n",
       "      <td>3.8</td>\n",
       "      <td>166</td>\n",
       "      <td>600</td>\n",
       "      <td>0</td>\n",
       "      <td>0</td>\n",
       "      <td>0</td>\n",
       "      <td>0</td>\n",
       "      <td>0</td>\n",
       "      <td>1</td>\n",
       "      <td>0</td>\n",
       "      <td>...</td>\n",
       "      <td>0</td>\n",
       "      <td>0</td>\n",
       "      <td>0</td>\n",
       "      <td>0</td>\n",
       "      <td>0</td>\n",
       "      <td>0</td>\n",
       "      <td>0</td>\n",
       "      <td>0</td>\n",
       "      <td>0</td>\n",
       "      <td>0</td>\n",
       "    </tr>\n",
       "    <tr>\n",
       "      <th>5</th>\n",
       "      <td>3.8</td>\n",
       "      <td>286</td>\n",
       "      <td>600</td>\n",
       "      <td>1</td>\n",
       "      <td>0</td>\n",
       "      <td>0</td>\n",
       "      <td>0</td>\n",
       "      <td>0</td>\n",
       "      <td>1</td>\n",
       "      <td>0</td>\n",
       "      <td>...</td>\n",
       "      <td>0</td>\n",
       "      <td>0</td>\n",
       "      <td>0</td>\n",
       "      <td>0</td>\n",
       "      <td>0</td>\n",
       "      <td>0</td>\n",
       "      <td>0</td>\n",
       "      <td>0</td>\n",
       "      <td>0</td>\n",
       "      <td>0</td>\n",
       "    </tr>\n",
       "    <tr>\n",
       "      <th>6</th>\n",
       "      <td>3.6</td>\n",
       "      <td>8</td>\n",
       "      <td>800</td>\n",
       "      <td>0</td>\n",
       "      <td>0</td>\n",
       "      <td>0</td>\n",
       "      <td>0</td>\n",
       "      <td>0</td>\n",
       "      <td>0</td>\n",
       "      <td>0</td>\n",
       "      <td>...</td>\n",
       "      <td>0</td>\n",
       "      <td>0</td>\n",
       "      <td>0</td>\n",
       "      <td>0</td>\n",
       "      <td>0</td>\n",
       "      <td>0</td>\n",
       "      <td>0</td>\n",
       "      <td>0</td>\n",
       "      <td>0</td>\n",
       "      <td>0</td>\n",
       "    </tr>\n",
       "  </tbody>\n",
       "</table>\n",
       "<p>5 rows × 129 columns</p>\n",
       "</div>"
      ],
      "text/plain": [
       "   rate  votes  Cost_for_two  online_order_Yes  book_table_Yes  \\\n",
       "0   4.1    775           800                 1               1   \n",
       "3   3.7     88           300                 0               0   \n",
       "4   3.8    166           600                 0               0   \n",
       "5   3.8    286           600                 1               0   \n",
       "6   3.6      8           800                 0               0   \n",
       "\n",
       "   location_Banashankari  location_Banaswadi  location_Bannerghatta Road  \\\n",
       "0                      1                   0                           0   \n",
       "3                      1                   0                           0   \n",
       "4                      0                   0                           0   \n",
       "5                      0                   0                           0   \n",
       "6                      0                   0                           0   \n",
       "\n",
       "   location_Basavanagudi  location_Bellandur  ...  \\\n",
       "0                      0                   0  ...   \n",
       "3                      0                   0  ...   \n",
       "4                      1                   0  ...   \n",
       "5                      1                   0  ...   \n",
       "6                      0                   0  ...   \n",
       "\n",
       "   cuisines_South Indian, North Indian  \\\n",
       "0                                    0   \n",
       "3                                    1   \n",
       "4                                    0   \n",
       "5                                    0   \n",
       "6                                    0   \n",
       "\n",
       "   cuisines_South Indian, North Indian, Chinese  \\\n",
       "0                                             0   \n",
       "3                                             0   \n",
       "4                                             0   \n",
       "5                                             0   \n",
       "6                                             0   \n",
       "\n",
       "   cuisines_South Indian, North Indian, Chinese, Street Food  \\\n",
       "0                                                  0           \n",
       "3                                                  0           \n",
       "4                                                  0           \n",
       "5                                                  0           \n",
       "6                                                  0           \n",
       "\n",
       "   cuisines_Street Food  Type_of_service_Cafes  Type_of_service_Delivery  \\\n",
       "0                     0                      0                         0   \n",
       "3                     0                      0                         0   \n",
       "4                     0                      0                         0   \n",
       "5                     0                      0                         0   \n",
       "6                     0                      0                         0   \n",
       "\n",
       "   Type_of_service_Desserts  Type_of_service_Dine-out  \\\n",
       "0                         0                         0   \n",
       "3                         0                         0   \n",
       "4                         0                         0   \n",
       "5                         0                         0   \n",
       "6                         0                         0   \n",
       "\n",
       "   Type_of_service_Drinks & nightlife  Type_of_service_Pubs and bars  \n",
       "0                                   0                              0  \n",
       "3                                   0                              0  \n",
       "4                                   0                              0  \n",
       "5                                   0                              0  \n",
       "6                                   0                              0  \n",
       "\n",
       "[5 rows x 129 columns]"
      ]
     },
     "execution_count": 189,
     "metadata": {},
     "output_type": "execute_result"
    }
   ],
   "source": [
    "# concatenating the numerical and dummy encoded categorical variables using concat()\n",
    "training_data_dummy = pd.concat([training_data_num, training_data_cat], axis=1)\n",
    "\n",
    "# displaying data with dummy variables\n",
    "training_data_dummy.head()"
   ]
  },
  {
   "cell_type": "code",
   "execution_count": 190,
   "id": "b3a68a6c",
   "metadata": {},
   "outputs": [
    {
     "data": {
      "text/plain": [
       "(45634, 129)"
      ]
     },
     "execution_count": 190,
     "metadata": {},
     "output_type": "execute_result"
    }
   ],
   "source": [
    "training_data_dummy.shape"
   ]
  },
  {
   "cell_type": "markdown",
   "id": "894fab42",
   "metadata": {},
   "source": [
    "<a id='encoding_read'></a>\n",
    "### 3.2.4 Reading the encoded data"
   ]
  },
  {
   "cell_type": "code",
   "execution_count": 191,
   "id": "e67eb3c6-74b6-4b61-b64a-f565f0a4b12f",
   "metadata": {},
   "outputs": [
    {
     "data": {
      "text/html": [
       "<div>\n",
       "<style scoped>\n",
       "    .dataframe tbody tr th:only-of-type {\n",
       "        vertical-align: middle;\n",
       "    }\n",
       "\n",
       "    .dataframe tbody tr th {\n",
       "        vertical-align: top;\n",
       "    }\n",
       "\n",
       "    .dataframe thead th {\n",
       "        text-align: right;\n",
       "    }\n",
       "</style>\n",
       "<table border=\"1\" class=\"dataframe\">\n",
       "  <thead>\n",
       "    <tr style=\"text-align: right;\">\n",
       "      <th></th>\n",
       "      <th>rate</th>\n",
       "      <th>votes</th>\n",
       "      <th>Cost_for_two</th>\n",
       "      <th>online_order_Yes</th>\n",
       "      <th>book_table_Yes</th>\n",
       "      <th>location_Banashankari</th>\n",
       "      <th>location_Banaswadi</th>\n",
       "      <th>location_Bannerghatta Road</th>\n",
       "      <th>location_Basavanagudi</th>\n",
       "      <th>location_Bellandur</th>\n",
       "      <th>...</th>\n",
       "      <th>cuisines_South Indian, North Indian</th>\n",
       "      <th>cuisines_South Indian, North Indian, Chinese</th>\n",
       "      <th>cuisines_South Indian, North Indian, Chinese, Street Food</th>\n",
       "      <th>cuisines_Street Food</th>\n",
       "      <th>Type_of_service_Cafes</th>\n",
       "      <th>Type_of_service_Delivery</th>\n",
       "      <th>Type_of_service_Desserts</th>\n",
       "      <th>Type_of_service_Dine-out</th>\n",
       "      <th>Type_of_service_Drinks &amp; nightlife</th>\n",
       "      <th>Type_of_service_Pubs and bars</th>\n",
       "    </tr>\n",
       "  </thead>\n",
       "  <tbody>\n",
       "    <tr>\n",
       "      <th>0</th>\n",
       "      <td>4.100000</td>\n",
       "      <td>775</td>\n",
       "      <td>800</td>\n",
       "      <td>1</td>\n",
       "      <td>1</td>\n",
       "      <td>1</td>\n",
       "      <td>0</td>\n",
       "      <td>0</td>\n",
       "      <td>0</td>\n",
       "      <td>0</td>\n",
       "      <td>...</td>\n",
       "      <td>0</td>\n",
       "      <td>0</td>\n",
       "      <td>0</td>\n",
       "      <td>0</td>\n",
       "      <td>0</td>\n",
       "      <td>0</td>\n",
       "      <td>0</td>\n",
       "      <td>0</td>\n",
       "      <td>0</td>\n",
       "      <td>0</td>\n",
       "    </tr>\n",
       "    <tr>\n",
       "      <th>3</th>\n",
       "      <td>3.700000</td>\n",
       "      <td>88</td>\n",
       "      <td>300</td>\n",
       "      <td>0</td>\n",
       "      <td>0</td>\n",
       "      <td>1</td>\n",
       "      <td>0</td>\n",
       "      <td>0</td>\n",
       "      <td>0</td>\n",
       "      <td>0</td>\n",
       "      <td>...</td>\n",
       "      <td>1</td>\n",
       "      <td>0</td>\n",
       "      <td>0</td>\n",
       "      <td>0</td>\n",
       "      <td>0</td>\n",
       "      <td>0</td>\n",
       "      <td>0</td>\n",
       "      <td>0</td>\n",
       "      <td>0</td>\n",
       "      <td>0</td>\n",
       "    </tr>\n",
       "    <tr>\n",
       "      <th>4</th>\n",
       "      <td>3.800000</td>\n",
       "      <td>166</td>\n",
       "      <td>600</td>\n",
       "      <td>0</td>\n",
       "      <td>0</td>\n",
       "      <td>0</td>\n",
       "      <td>0</td>\n",
       "      <td>0</td>\n",
       "      <td>1</td>\n",
       "      <td>0</td>\n",
       "      <td>...</td>\n",
       "      <td>0</td>\n",
       "      <td>0</td>\n",
       "      <td>0</td>\n",
       "      <td>0</td>\n",
       "      <td>0</td>\n",
       "      <td>0</td>\n",
       "      <td>0</td>\n",
       "      <td>0</td>\n",
       "      <td>0</td>\n",
       "      <td>0</td>\n",
       "    </tr>\n",
       "    <tr>\n",
       "      <th>5</th>\n",
       "      <td>3.800000</td>\n",
       "      <td>286</td>\n",
       "      <td>600</td>\n",
       "      <td>1</td>\n",
       "      <td>0</td>\n",
       "      <td>0</td>\n",
       "      <td>0</td>\n",
       "      <td>0</td>\n",
       "      <td>1</td>\n",
       "      <td>0</td>\n",
       "      <td>...</td>\n",
       "      <td>0</td>\n",
       "      <td>0</td>\n",
       "      <td>0</td>\n",
       "      <td>0</td>\n",
       "      <td>0</td>\n",
       "      <td>0</td>\n",
       "      <td>0</td>\n",
       "      <td>0</td>\n",
       "      <td>0</td>\n",
       "      <td>0</td>\n",
       "    </tr>\n",
       "    <tr>\n",
       "      <th>6</th>\n",
       "      <td>3.600000</td>\n",
       "      <td>8</td>\n",
       "      <td>800</td>\n",
       "      <td>0</td>\n",
       "      <td>0</td>\n",
       "      <td>0</td>\n",
       "      <td>0</td>\n",
       "      <td>0</td>\n",
       "      <td>0</td>\n",
       "      <td>0</td>\n",
       "      <td>...</td>\n",
       "      <td>0</td>\n",
       "      <td>0</td>\n",
       "      <td>0</td>\n",
       "      <td>0</td>\n",
       "      <td>0</td>\n",
       "      <td>0</td>\n",
       "      <td>0</td>\n",
       "      <td>0</td>\n",
       "      <td>0</td>\n",
       "      <td>0</td>\n",
       "    </tr>\n",
       "    <tr>\n",
       "      <th>...</th>\n",
       "      <td>...</td>\n",
       "      <td>...</td>\n",
       "      <td>...</td>\n",
       "      <td>...</td>\n",
       "      <td>...</td>\n",
       "      <td>...</td>\n",
       "      <td>...</td>\n",
       "      <td>...</td>\n",
       "      <td>...</td>\n",
       "      <td>...</td>\n",
       "      <td>...</td>\n",
       "      <td>...</td>\n",
       "      <td>...</td>\n",
       "      <td>...</td>\n",
       "      <td>...</td>\n",
       "      <td>...</td>\n",
       "      <td>...</td>\n",
       "      <td>...</td>\n",
       "      <td>...</td>\n",
       "      <td>...</td>\n",
       "      <td>...</td>\n",
       "    </tr>\n",
       "    <tr>\n",
       "      <th>51710</th>\n",
       "      <td>3.700142</td>\n",
       "      <td>0</td>\n",
       "      <td>900</td>\n",
       "      <td>0</td>\n",
       "      <td>0</td>\n",
       "      <td>0</td>\n",
       "      <td>0</td>\n",
       "      <td>0</td>\n",
       "      <td>0</td>\n",
       "      <td>0</td>\n",
       "      <td>...</td>\n",
       "      <td>0</td>\n",
       "      <td>0</td>\n",
       "      <td>0</td>\n",
       "      <td>0</td>\n",
       "      <td>0</td>\n",
       "      <td>0</td>\n",
       "      <td>0</td>\n",
       "      <td>0</td>\n",
       "      <td>0</td>\n",
       "      <td>1</td>\n",
       "    </tr>\n",
       "    <tr>\n",
       "      <th>51711</th>\n",
       "      <td>2.500000</td>\n",
       "      <td>81</td>\n",
       "      <td>800</td>\n",
       "      <td>0</td>\n",
       "      <td>0</td>\n",
       "      <td>0</td>\n",
       "      <td>0</td>\n",
       "      <td>0</td>\n",
       "      <td>0</td>\n",
       "      <td>0</td>\n",
       "      <td>...</td>\n",
       "      <td>0</td>\n",
       "      <td>0</td>\n",
       "      <td>0</td>\n",
       "      <td>0</td>\n",
       "      <td>0</td>\n",
       "      <td>0</td>\n",
       "      <td>0</td>\n",
       "      <td>0</td>\n",
       "      <td>0</td>\n",
       "      <td>1</td>\n",
       "    </tr>\n",
       "    <tr>\n",
       "      <th>51712</th>\n",
       "      <td>3.600000</td>\n",
       "      <td>27</td>\n",
       "      <td>1500</td>\n",
       "      <td>0</td>\n",
       "      <td>0</td>\n",
       "      <td>0</td>\n",
       "      <td>0</td>\n",
       "      <td>0</td>\n",
       "      <td>0</td>\n",
       "      <td>0</td>\n",
       "      <td>...</td>\n",
       "      <td>0</td>\n",
       "      <td>0</td>\n",
       "      <td>0</td>\n",
       "      <td>0</td>\n",
       "      <td>0</td>\n",
       "      <td>0</td>\n",
       "      <td>0</td>\n",
       "      <td>0</td>\n",
       "      <td>0</td>\n",
       "      <td>1</td>\n",
       "    </tr>\n",
       "    <tr>\n",
       "      <th>51713</th>\n",
       "      <td>3.700142</td>\n",
       "      <td>0</td>\n",
       "      <td>600</td>\n",
       "      <td>0</td>\n",
       "      <td>0</td>\n",
       "      <td>0</td>\n",
       "      <td>0</td>\n",
       "      <td>0</td>\n",
       "      <td>0</td>\n",
       "      <td>0</td>\n",
       "      <td>...</td>\n",
       "      <td>0</td>\n",
       "      <td>0</td>\n",
       "      <td>0</td>\n",
       "      <td>0</td>\n",
       "      <td>0</td>\n",
       "      <td>0</td>\n",
       "      <td>0</td>\n",
       "      <td>0</td>\n",
       "      <td>0</td>\n",
       "      <td>1</td>\n",
       "    </tr>\n",
       "    <tr>\n",
       "      <th>51716</th>\n",
       "      <td>3.400000</td>\n",
       "      <td>13</td>\n",
       "      <td>1500</td>\n",
       "      <td>0</td>\n",
       "      <td>0</td>\n",
       "      <td>0</td>\n",
       "      <td>0</td>\n",
       "      <td>0</td>\n",
       "      <td>0</td>\n",
       "      <td>0</td>\n",
       "      <td>...</td>\n",
       "      <td>0</td>\n",
       "      <td>0</td>\n",
       "      <td>0</td>\n",
       "      <td>0</td>\n",
       "      <td>0</td>\n",
       "      <td>0</td>\n",
       "      <td>0</td>\n",
       "      <td>0</td>\n",
       "      <td>0</td>\n",
       "      <td>1</td>\n",
       "    </tr>\n",
       "  </tbody>\n",
       "</table>\n",
       "<p>45634 rows × 129 columns</p>\n",
       "</div>"
      ],
      "text/plain": [
       "           rate  votes  Cost_for_two  online_order_Yes  book_table_Yes  \\\n",
       "0      4.100000    775           800                 1               1   \n",
       "3      3.700000     88           300                 0               0   \n",
       "4      3.800000    166           600                 0               0   \n",
       "5      3.800000    286           600                 1               0   \n",
       "6      3.600000      8           800                 0               0   \n",
       "...         ...    ...           ...               ...             ...   \n",
       "51710  3.700142      0           900                 0               0   \n",
       "51711  2.500000     81           800                 0               0   \n",
       "51712  3.600000     27          1500                 0               0   \n",
       "51713  3.700142      0           600                 0               0   \n",
       "51716  3.400000     13          1500                 0               0   \n",
       "\n",
       "       location_Banashankari  location_Banaswadi  location_Bannerghatta Road  \\\n",
       "0                          1                   0                           0   \n",
       "3                          1                   0                           0   \n",
       "4                          0                   0                           0   \n",
       "5                          0                   0                           0   \n",
       "6                          0                   0                           0   \n",
       "...                      ...                 ...                         ...   \n",
       "51710                      0                   0                           0   \n",
       "51711                      0                   0                           0   \n",
       "51712                      0                   0                           0   \n",
       "51713                      0                   0                           0   \n",
       "51716                      0                   0                           0   \n",
       "\n",
       "       location_Basavanagudi  location_Bellandur  ...  \\\n",
       "0                          0                   0  ...   \n",
       "3                          0                   0  ...   \n",
       "4                          1                   0  ...   \n",
       "5                          1                   0  ...   \n",
       "6                          0                   0  ...   \n",
       "...                      ...                 ...  ...   \n",
       "51710                      0                   0  ...   \n",
       "51711                      0                   0  ...   \n",
       "51712                      0                   0  ...   \n",
       "51713                      0                   0  ...   \n",
       "51716                      0                   0  ...   \n",
       "\n",
       "       cuisines_South Indian, North Indian  \\\n",
       "0                                        0   \n",
       "3                                        1   \n",
       "4                                        0   \n",
       "5                                        0   \n",
       "6                                        0   \n",
       "...                                    ...   \n",
       "51710                                    0   \n",
       "51711                                    0   \n",
       "51712                                    0   \n",
       "51713                                    0   \n",
       "51716                                    0   \n",
       "\n",
       "       cuisines_South Indian, North Indian, Chinese  \\\n",
       "0                                                 0   \n",
       "3                                                 0   \n",
       "4                                                 0   \n",
       "5                                                 0   \n",
       "6                                                 0   \n",
       "...                                             ...   \n",
       "51710                                             0   \n",
       "51711                                             0   \n",
       "51712                                             0   \n",
       "51713                                             0   \n",
       "51716                                             0   \n",
       "\n",
       "       cuisines_South Indian, North Indian, Chinese, Street Food  \\\n",
       "0                                                      0           \n",
       "3                                                      0           \n",
       "4                                                      0           \n",
       "5                                                      0           \n",
       "6                                                      0           \n",
       "...                                                  ...           \n",
       "51710                                                  0           \n",
       "51711                                                  0           \n",
       "51712                                                  0           \n",
       "51713                                                  0           \n",
       "51716                                                  0           \n",
       "\n",
       "       cuisines_Street Food  Type_of_service_Cafes  Type_of_service_Delivery  \\\n",
       "0                         0                      0                         0   \n",
       "3                         0                      0                         0   \n",
       "4                         0                      0                         0   \n",
       "5                         0                      0                         0   \n",
       "6                         0                      0                         0   \n",
       "...                     ...                    ...                       ...   \n",
       "51710                     0                      0                         0   \n",
       "51711                     0                      0                         0   \n",
       "51712                     0                      0                         0   \n",
       "51713                     0                      0                         0   \n",
       "51716                     0                      0                         0   \n",
       "\n",
       "       Type_of_service_Desserts  Type_of_service_Dine-out  \\\n",
       "0                             0                         0   \n",
       "3                             0                         0   \n",
       "4                             0                         0   \n",
       "5                             0                         0   \n",
       "6                             0                         0   \n",
       "...                         ...                       ...   \n",
       "51710                         0                         0   \n",
       "51711                         0                         0   \n",
       "51712                         0                         0   \n",
       "51713                         0                         0   \n",
       "51716                         0                         0   \n",
       "\n",
       "       Type_of_service_Drinks & nightlife  Type_of_service_Pubs and bars  \n",
       "0                                       0                              0  \n",
       "3                                       0                              0  \n",
       "4                                       0                              0  \n",
       "5                                       0                              0  \n",
       "6                                       0                              0  \n",
       "...                                   ...                            ...  \n",
       "51710                                   0                              1  \n",
       "51711                                   0                              1  \n",
       "51712                                   0                              1  \n",
       "51713                                   0                              1  \n",
       "51716                                   0                              1  \n",
       "\n",
       "[45634 rows x 129 columns]"
      ]
     },
     "execution_count": 191,
     "metadata": {},
     "output_type": "execute_result"
    }
   ],
   "source": [
    "training_data_dummy"
   ]
  },
  {
   "cell_type": "markdown",
   "id": "61053f1d-281e-4b18-b1fb-1794e561f104",
   "metadata": {},
   "source": [
    "<a id='split_data'></a>\n",
    "## 3.3 Splitting Train and Test Data"
   ]
  },
  {
   "cell_type": "markdown",
   "id": "ac49383e",
   "metadata": {},
   "source": [
    "#### Displaying column names of the dataset"
   ]
  },
  {
   "cell_type": "code",
   "execution_count": 192,
   "id": "243998c4-7441-4945-b2ba-8e82215801c0",
   "metadata": {},
   "outputs": [
    {
     "data": {
      "text/plain": [
       "Index(['rate', 'votes', 'Cost_for_two', 'online_order_Yes', 'book_table_Yes',\n",
       "       'location_Banashankari', 'location_Banaswadi',\n",
       "       'location_Bannerghatta Road', 'location_Basavanagudi',\n",
       "       'location_Bellandur',\n",
       "       ...\n",
       "       'cuisines_South Indian, North Indian',\n",
       "       'cuisines_South Indian, North Indian, Chinese',\n",
       "       'cuisines_South Indian, North Indian, Chinese, Street Food',\n",
       "       'cuisines_Street Food', 'Type_of_service_Cafes',\n",
       "       'Type_of_service_Delivery', 'Type_of_service_Desserts',\n",
       "       'Type_of_service_Dine-out', 'Type_of_service_Drinks & nightlife',\n",
       "       'Type_of_service_Pubs and bars'],\n",
       "      dtype='object', length=129)"
      ]
     },
     "execution_count": 192,
     "metadata": {},
     "output_type": "execute_result"
    }
   ],
   "source": [
    "training_data_dummy.columns"
   ]
  },
  {
   "cell_type": "markdown",
   "id": "fd6883f8",
   "metadata": {},
   "source": [
    "#### Independent Variables"
   ]
  },
  {
   "cell_type": "code",
   "execution_count": 193,
   "id": "71575228-6211-4396-abe6-f2fcb4af4eba",
   "metadata": {},
   "outputs": [],
   "source": [
    "features = training_data_dummy.drop(columns = [\"rate\"])"
   ]
  },
  {
   "cell_type": "markdown",
   "id": "315df1e5",
   "metadata": {},
   "source": [
    "#### Dependent Variable"
   ]
  },
  {
   "cell_type": "code",
   "execution_count": 194,
   "id": "1acbe827-8ffd-438d-b8f4-8bc04df7ef02",
   "metadata": {},
   "outputs": [],
   "source": [
    "target = training_data_dummy[\"rate\"]"
   ]
  },
  {
   "cell_type": "markdown",
   "id": "60fb562f",
   "metadata": {},
   "source": [
    "#### Splitting training and test data"
   ]
  },
  {
   "cell_type": "code",
   "execution_count": 195,
   "id": "cab17ed7-8a47-48f6-a449-b167ae0c43d4",
   "metadata": {},
   "outputs": [],
   "source": [
    "X_train, X_test, y_train, y_test = train_test_split(features,target,test_size=0.1,random_state=10)"
   ]
  },
  {
   "cell_type": "markdown",
   "id": "c4120258",
   "metadata": {},
   "source": [
    "#### Finding shape of train and test data"
   ]
  },
  {
   "cell_type": "code",
   "execution_count": 196,
   "id": "3c279f7d-fc77-4ba3-8ca9-c89b6859e58d",
   "metadata": {},
   "outputs": [
    {
     "data": {
      "text/plain": [
       "((41070, 128), (4564, 128), (41070,), (4564,))"
      ]
     },
     "execution_count": 196,
     "metadata": {},
     "output_type": "execute_result"
    }
   ],
   "source": [
    "X_train.shape, X_test.shape, y_train.shape, y_test.shape"
   ]
  },
  {
   "cell_type": "markdown",
   "id": "a66ef7b6",
   "metadata": {},
   "source": [
    "<a id='model_fitting'></a>\n",
    "## 3.4 Fitting Regression Models"
   ]
  },
  {
   "cell_type": "markdown",
   "id": "dc4bd49f",
   "metadata": {
    "id": "w_AElwrKaljO",
    "papermill": {
     "duration": 0.035872,
     "end_time": "2022-09-14T17:56:00.727599",
     "exception": false,
     "start_time": "2022-09-14T17:56:00.691727",
     "status": "completed"
    },
    "tags": []
   },
   "source": [
    "<a id='linear_regression'></a>\n",
    "### 3.4.1 Linear Regression"
   ]
  },
  {
   "cell_type": "code",
   "execution_count": 197,
   "id": "5969de3d",
   "metadata": {
    "execution": {
     "iopub.execute_input": "2022-09-14T17:56:00.802210Z",
     "iopub.status.busy": "2022-09-14T17:56:00.801222Z",
     "iopub.status.idle": "2022-09-14T17:56:00.825891Z",
     "shell.execute_reply": "2022-09-14T17:56:00.824902Z"
    },
    "id": "f464NdsAaojX",
    "outputId": "28a0e6fc-39ad-483b-d2d6-03461cb9c88b",
    "papermill": {
     "duration": 0.066312,
     "end_time": "2022-09-14T17:56:00.830066",
     "exception": false,
     "start_time": "2022-09-14T17:56:00.763754",
     "status": "completed"
    },
    "tags": []
   },
   "outputs": [
    {
     "data": {
      "text/plain": [
       "LinearRegression()"
      ]
     },
     "execution_count": 197,
     "metadata": {},
     "output_type": "execute_result"
    }
   ],
   "source": [
    "lr_model = LinearRegression()\n",
    "\n",
    "lr_model.fit(X_train,y_train)"
   ]
  },
  {
   "cell_type": "code",
   "execution_count": 198,
   "id": "b5a8e3d4",
   "metadata": {},
   "outputs": [],
   "source": [
    "y_train_pred = lr_model.predict(X_train)"
   ]
  },
  {
   "cell_type": "code",
   "execution_count": 199,
   "id": "e5f33a5a",
   "metadata": {
    "execution": {
     "iopub.execute_input": "2022-09-14T17:56:00.911487Z",
     "iopub.status.busy": "2022-09-14T17:56:00.910800Z",
     "iopub.status.idle": "2022-09-14T17:56:00.936489Z",
     "shell.execute_reply": "2022-09-14T17:56:00.934960Z"
    },
    "id": "JTDvX6QOaqQ-",
    "outputId": "d029e468-38fd-4084-9f4e-d02af3f79d92",
    "papermill": {
     "duration": 0.069679,
     "end_time": "2022-09-14T17:56:00.941471",
     "exception": false,
     "start_time": "2022-09-14T17:56:00.871792",
     "status": "completed"
    },
    "tags": []
   },
   "outputs": [
    {
     "name": "stdout",
     "output_type": "stream",
     "text": [
      "RMSE: 0.3088407629723815 MAPE: 0.06813172641774914\n"
     ]
    }
   ],
   "source": [
    "y_pred = lr_model.predict(X_test)\n",
    "\n",
    "lin_mse_score = mean_squared_error(y_test,y_pred)\n",
    "lin_rmse_score = np.sqrt(lin_mse_score)\n",
    "lin_mape_score = mean_absolute_percentage_error(y_test,y_pred)\n",
    "\n",
    "print(\"RMSE:\", lin_rmse_score, \"MAPE:\", lin_mape_score)"
   ]
  },
  {
   "cell_type": "markdown",
   "id": "c048ca31",
   "metadata": {},
   "source": [
    "<a id='decision_tree'></a>\n",
    "### 3.4.2 Decision Tree Regression"
   ]
  },
  {
   "cell_type": "code",
   "execution_count": 200,
   "id": "dfed89eb",
   "metadata": {},
   "outputs": [
    {
     "data": {
      "text/plain": [
       "DecisionTreeRegressor(max_depth=8, random_state=42)"
      ]
     },
     "execution_count": 200,
     "metadata": {},
     "output_type": "execute_result"
    }
   ],
   "source": [
    "DTree = DecisionTreeRegressor(max_depth=8, random_state=42)\n",
    "\n",
    "DTree.fit(X_train,y_train)"
   ]
  },
  {
   "cell_type": "code",
   "execution_count": 201,
   "id": "2962588f",
   "metadata": {},
   "outputs": [
    {
     "data": {
      "image/png": "[encoded data removed]",
      "text/plain": [
       "<Figure size 1500x1200 with 1 Axes>"
      ]
     },
     "metadata": {},
     "output_type": "display_data"
    }
   ],
   "source": [
    "plt.figure(figsize=(10,8), dpi=150)\n",
    "plot_tree(DTree, feature_names=features.columns);"
   ]
  },
  {
   "cell_type": "code",
   "execution_count": 202,
   "id": "63ee66df",
   "metadata": {},
   "outputs": [
    {
     "name": "stdout",
     "output_type": "stream",
     "text": [
      "Train RMSE: 0.27798174868139275 \n",
      "Test RMSE: 0.2787657096023995 \n",
      "Test MAPE: 0.051338015751514275\n"
     ]
    }
   ],
   "source": [
    "y_train_pred = DTree.predict(X_train)\n",
    "y_predict = DTree.predict(X_test)\n",
    "\n",
    "dec_mse_score_train = mean_squared_error(y_train,y_train_pred)\n",
    "dec_mse_score = mean_squared_error(y_test,y_predict)\n",
    "dec_rmse_score_train = np.sqrt(dec_mse_score_train)\n",
    "dec_rmse_score = np.sqrt(dec_mse_score)\n",
    "dec_mape_score = mean_absolute_percentage_error(y_test,y_predict)\n",
    "\n",
    "print(\"Train RMSE:\", dec_rmse_score_train, \"\\nTest RMSE:\", dec_rmse_score, \"\\nTest MAPE:\", dec_mape_score)"
   ]
  },
  {
   "cell_type": "code",
   "execution_count": 203,
   "id": "8cd8b76e",
   "metadata": {},
   "outputs": [
    {
     "data": {
      "image/png": "[encoded data removed]",
      "text/plain": [
       "<Figure size 640x480 with 1 Axes>"
      ]
     },
     "metadata": {},
     "output_type": "display_data"
    }
   ],
   "source": [
    "# loop to find best Max_depth value at which train-test rmse is lowest.\n",
    "max_depth_values = []\n",
    "rmse_diff_values = []\n",
    "rmse_test_values = []\n",
    "rmse_train_values = []\n",
    "\n",
    "# Loop over different max_depth values\n",
    "for max_depth in range(1, 11):\n",
    "    # Create and fit the decision tree regressor\n",
    "    regressor = DecisionTreeRegressor(max_depth=max_depth, random_state=42)\n",
    "    regressor.fit(X_train, y_train)\n",
    "    \n",
    "    # Predict on train and test data\n",
    "    y_train_pred = regressor.predict(X_train)\n",
    "    y_test_pred = regressor.predict(X_test)\n",
    "    \n",
    "    # Calculate RMSE for train and test data\n",
    "    rmse_train = np.sqrt(mean_squared_error(y_train, y_train_pred))\n",
    "    rmse_test = np.sqrt(mean_squared_error(y_test, y_test_pred))\n",
    "    \n",
    "    # Calculate difference in RMSE\n",
    "    rmse_diff = rmse_train - rmse_test\n",
    "    \n",
    "    # Append values to the lists\n",
    "    max_depth_values.append(max_depth)\n",
    "    rmse_train_values.append(rmse_train)\n",
    "    rmse_test_values.append(rmse_test)\n",
    "    rmse_diff_values.append(rmse_diff)\n",
    "\n",
    "# Plot the graph\n",
    "plt.plot(max_depth_values, rmse_diff_values, marker='o')\n",
    "plt.xlabel('Max Depth')\n",
    "plt.ylabel('Difference in RMSE')\n",
    "plt.title('Difference in RMSE vs. Max Depth')\n",
    "plt.grid(True)\n",
    "plt.show()"
   ]
  },
  {
   "cell_type": "markdown",
   "id": "472d3e41",
   "metadata": {},
   "source": [
    "<a id='knn'></a>\n",
    "### 3.4.3 K Nearest Neighbors Regression"
   ]
  },
  {
   "cell_type": "code",
   "execution_count": 204,
   "id": "e64b3fff",
   "metadata": {},
   "outputs": [],
   "source": [
    "scaler = StandardScaler()\n",
    "\n",
    "X_train = scaler.fit_transform(X_train)\n",
    "X_test = scaler.transform(X_test)"
   ]
  },
  {
   "cell_type": "code",
   "execution_count": 205,
   "id": "f7b3dd95",
   "metadata": {},
   "outputs": [
    {
     "name": "stdout",
     "output_type": "stream",
     "text": [
      "RMSE: 0.24272883630927683 MAPE: 0.043836353341279534\n"
     ]
    }
   ],
   "source": [
    "knn = KNeighborsRegressor(n_neighbors=5)\n",
    "knn.fit(X_train, y_train)\n",
    "\n",
    "y_pred = knn.predict(X_test)\n",
    "\n",
    "knn_mse_score = mean_squared_error(y_test,y_pred)\n",
    "knn_rmse_score = np.sqrt(knn_mse_score)\n",
    "knn_mape_score = mean_absolute_percentage_error(y_test,y_pred)\n",
    "\n",
    "print(\"RMSE:\", knn_rmse_score, \"MAPE:\", knn_mape_score)"
   ]
  },
  {
   "cell_type": "markdown",
   "id": "cb6ba6c1",
   "metadata": {},
   "source": [
    "<a id='compare_model'></a>\n",
    "## 3.5 Comparing models"
   ]
  },
  {
   "cell_type": "code",
   "execution_count": 206,
   "id": "8eb4b16a",
   "metadata": {
    "scrolled": true
   },
   "outputs": [
    {
     "data": {
      "text/html": [
       "<div>\n",
       "<style scoped>\n",
       "    .dataframe tbody tr th:only-of-type {\n",
       "        vertical-align: middle;\n",
       "    }\n",
       "\n",
       "    .dataframe tbody tr th {\n",
       "        vertical-align: top;\n",
       "    }\n",
       "\n",
       "    .dataframe thead th {\n",
       "        text-align: right;\n",
       "    }\n",
       "</style>\n",
       "<table border=\"1\" class=\"dataframe\">\n",
       "  <thead>\n",
       "    <tr style=\"text-align: right;\">\n",
       "      <th></th>\n",
       "      <th>Model</th>\n",
       "      <th>RMSE</th>\n",
       "      <th>MAPE</th>\n",
       "    </tr>\n",
       "  </thead>\n",
       "  <tbody>\n",
       "    <tr>\n",
       "      <th>2</th>\n",
       "      <td>K Nearest Neighnour</td>\n",
       "      <td>0.242729</td>\n",
       "      <td>0.043836</td>\n",
       "    </tr>\n",
       "    <tr>\n",
       "      <th>1</th>\n",
       "      <td>Decision Tree</td>\n",
       "      <td>0.278766</td>\n",
       "      <td>0.051338</td>\n",
       "    </tr>\n",
       "    <tr>\n",
       "      <th>0</th>\n",
       "      <td>Linear Regression</td>\n",
       "      <td>0.308841</td>\n",
       "      <td>0.068132</td>\n",
       "    </tr>\n",
       "  </tbody>\n",
       "</table>\n",
       "</div>"
      ],
      "text/plain": [
       "                 Model      RMSE      MAPE\n",
       "2  K Nearest Neighnour  0.242729  0.043836\n",
       "1        Decision Tree  0.278766  0.051338\n",
       "0    Linear Regression  0.308841  0.068132"
      ]
     },
     "execution_count": 206,
     "metadata": {},
     "output_type": "execute_result"
    }
   ],
   "source": [
    "models = pd.DataFrame({\n",
    "    'Model' : ['Linear Regression', 'Decision Tree', 'K Nearest Neighnour'],\n",
    "    'RMSE' : [lin_rmse_score, dec_rmse_score, knn_rmse_score],\n",
    "    'MAPE' : [lin_mape_score, dec_mape_score, knn_mape_score]\n",
    "})\n",
    "\n",
    "\n",
    "models.sort_values(by = ['RMSE', 'MAPE'], ascending = True)"
   ]
  },
  {
   "cell_type": "markdown",
   "id": "0a2e5703",
   "metadata": {},
   "source": [
    "<a id='conclusion'></a>\n",
    "# 4. Inferences and Conclusion"
   ]
  },
  {
   "cell_type": "markdown",
   "id": "d3ae92b9",
   "metadata": {},
   "source": [
    "When choosing a model, it is important to consider both the RMSE and MAPE values to assess the overall performance and accuracy of the predictions because of the following reasons:\n",
    "\n",
    "1. **RMSE:** \n",
    "    - It measures the ***average difference between the predicted values and the actual values***, giving us an idea of **how close the predicted values are to the true values**. A **lower RMSE** indicates **better accuracy**, as it signifies smaller deviations between predicted and actual values.\n",
    "\n",
    "\n",
    "2. **MAPE:** \n",
    "    - It measures the ***percentage difference between the predicted values and the actual values***. It gives us an understanding of the **relative error in the predictions**. A **lower MAPE** indicates **better accuracy**, as it signifies smaller percentage deviations between predicted and actual values.\n",
    "\n",
    "By considering both RMSE and MAPE, we gain a more comprehensive understanding of the model's performance. **RMSE focuses on absolute differences, while MAPE focuses on relative differences.** Together, they provide a balanced view of accuracy, considering both the magnitude and percentage of errors.\n",
    "\n",
    "By comparing the RMSE and MAPE values of different models, we can evaluate which model performs better and has higher accuracy in predicting the target variable. It helps us make an informed decision in selecting the most suitable model for our specific task or problem.\n",
    "\n",
    "***That's why we have considered both RMSE and MAPE for choosing our model.***"
   ]
  },
  {
   "cell_type": "markdown",
   "id": "6d2b6382",
   "metadata": {},
   "source": [
    "## Inference"
   ]
  },
  {
   "cell_type": "markdown",
   "id": "033427cb",
   "metadata": {},
   "source": [
    "From the above output, we can infer the following:\n",
    "\n",
    "1. **K Nearest Neighbors (KNN) model has the lowest RMSE (Root Mean Squared Error) and the lowest MAPE (Mean Absolute Percentage Error) among the three models. This suggests that the K Nearest Neighbors (KNN) model performs the best in terms of accuracy in predicting the target variable.**\n",
    "\n",
    "\n",
    "2. The **Decision Tree model** has RMSE and MAPE indicating **slightly higher errors** compared to the K Nearest Neighbors (KNN) model but still performs reasonably well.\n",
    "\n",
    "\n",
    "3. The **Linear Regression model** has the highest RMSE and highest MAPE, suggesting that it has the **highest prediction error** among the three models.\n",
    "\n",
    "Based on these results, it can be concluded that the ***K Nearest Neighbors (KNN) model is the most accurate and reliable model for predicting the target variable***, followed by the Decision Tree model. The Linear Regression model shows comparatively higher errors and may not be as effective in this particular scenario."
   ]
  }
 ],
 "metadata": {
  "kernelspec": {
   "display_name": "Python 3 (ipykernel)",
   "language": "python",
   "name": "python3"
  },
  "language_info": {
   "codemirror_mode": {
    "name": "ipython",
    "version": 3
   },
   "file_extension": ".py",
   "mimetype": "text/x-python",
   "name": "python",
   "nbconvert_exporter": "python",
   "pygments_lexer": "ipython3",
   "version": "3.9.13"
  }
 },
 "nbformat": 4,
 "nbformat_minor": 5
}
